{
 "cells": [
  {
   "cell_type": "markdown",
   "id": "1e54200e",
   "metadata": {},
   "source": [
    "A well known issue with Sentinel-1 frames as they are distributed is that they are not consistent in time. A fixed-size frame can move along track North or South. This makes time-series enumeration of SLCs for interferograms more complciated.\n",
    "\n",
    "This notebook takes us through  making the Sentinel-1 \"fixed-frames\" (or here just \"frames\") derived from the burst footprints. Bursts are fixed footprints that represent imaging area of the Sentinel-1 IW-mode SAR. The burst map data has generated huge excitement because they represent fixed gegraphic areas through time. The frames that we are defining are a self-imposed organization scheme to allow us to perform large regional scale time-series analysis at roughly the scale of the originally distributed ESA frames.\n",
    "\n",
    "The burst maps are downloaded from ESA [page](https://sar-mpc.eu/test-data-sets/). We downloaded `S1_burstid_20220530`.\n",
    "\n",
    "There is some discussion about the metadata found in this table the next notebook. Here, we jumping right to do it to take each burst (across all three swaths) and collect them into a group of 10 within a \"frame\" so that each frame has a 2 burst overlap. Of course, the number of bursts within a frame and of overlapping neighboring frames could easily be re-configured here. These are based on the approximate size of frames as they are currently distributed via ESA."
   ]
  },
  {
   "cell_type": "code",
   "execution_count": 59,
   "id": "d80f9514",
   "metadata": {
    "ExecuteTime": {
     "end_time": "2022-12-20T19:24:16.174292Z",
     "start_time": "2022-12-20T19:24:14.014053Z"
    }
   },
   "outputs": [
    {
     "name": "stderr",
     "output_type": "stream",
     "text": [
      "\n",
      "  2%|████▋                                                                                                                                                                                            | 1137/46986 [00:20<02:37, 290.82it/s]\u001b[A"
     ]
    }
   ],
   "source": [
    "import sqlite3\n",
    "import geopandas as gpd\n",
    "import matplotlib.pyplot as plt\n",
    "import numpy as np\n",
    "from tqdm.auto import tqdm\n",
    "import pandas as pd\n",
    "# from dem_stitcher.datasets import get_dem_tile_extents\n",
    "from rasterio.crs import CRS\n",
    "import warnings"
   ]
  },
  {
   "cell_type": "markdown",
   "id": "da3c6f42",
   "metadata": {},
   "source": [
    "# Read Burst Data\n",
    "\n",
    "The data needs to be unzipped first in this directory."
   ]
  },
  {
   "cell_type": "code",
   "execution_count": 36,
   "id": "63398c32",
   "metadata": {
    "ExecuteTime": {
     "end_time": "2022-12-20T19:24:39.098549Z",
     "start_time": "2022-12-20T19:24:16.176293Z"
    }
   },
   "outputs": [
    {
     "name": "stderr",
     "output_type": "stream",
     "text": [
      "  0%|                                                                                                                                                                                                             | 0/46986 [00:44<?, ?it/s]\n"
     ]
    },
    {
     "name": "stdout",
     "output_type": "stream",
     "text": [
      "CPU times: user 5.76 s, sys: 237 ms, total: 5.99 s\n",
      "Wall time: 6 s\n"
     ]
    }
   ],
   "source": [
    "%%time\n",
    "\n",
    "# SQL must wrap the geometry in hex(st_asbinary(...))\n",
    "sql = \"SELECT * FROM burst_id_map;\"\n",
    "con = sqlite3.connect(\"/Users/staniewi/Downloads/S1_burstid_20220530/IW/sqlite/burst_map_IW_000001_375887.sqlite3\")\n",
    "\n",
    "df_burst = gpd.GeoDataFrame.from_postgis(sql, con, geom_col=\"GEOMETRY\", crs=\"EPSG:4326\").rename_geometry(\"geometry\")\n",
    "con.close()"
   ]
  },
  {
   "cell_type": "code",
   "execution_count": 103,
   "id": "988a64cb-b7d5-45ae-834d-d4913fe79476",
   "metadata": {},
   "outputs": [],
   "source": []
  },
  {
   "cell_type": "code",
   "execution_count": 37,
   "id": "81b4d3f7-a8d8-487e-8a1e-950bd506e0bc",
   "metadata": {},
   "outputs": [
    {
     "data": {
      "text/plain": [
       "<Geographic 2D CRS: EPSG:4326>\n",
       "Name: WGS 84\n",
       "Axis Info [ellipsoidal]:\n",
       "- Lat[north]: Geodetic latitude (degree)\n",
       "- Lon[east]: Geodetic longitude (degree)\n",
       "Area of Use:\n",
       "- name: World.\n",
       "- bounds: (-180.0, -90.0, 180.0, 90.0)\n",
       "Datum: World Geodetic System 1984 ensemble\n",
       "- Ellipsoid: WGS 84\n",
       "- Prime Meridian: Greenwich"
      ]
     },
     "execution_count": 37,
     "metadata": {},
     "output_type": "execute_result"
    }
   ],
   "source": [
    "df_burst.crs"
   ]
  },
  {
   "cell_type": "code",
   "execution_count": 39,
   "id": "54860551",
   "metadata": {
    "ExecuteTime": {
     "end_time": "2022-12-20T19:24:39.114512Z",
     "start_time": "2022-12-20T19:24:39.100025Z"
    }
   },
   "outputs": [
    {
     "data": {
      "text/plain": [
       "'geometry'"
      ]
     },
     "execution_count": 39,
     "metadata": {},
     "output_type": "execute_result"
    }
   ],
   "source": [
    "df_burst._geometry_column_name"
   ]
  },
  {
   "cell_type": "code",
   "execution_count": null,
   "id": "567e0fee-6395-4964-9f2b-f40f7da31550",
   "metadata": {},
   "outputs": [],
   "source": []
  },
  {
   "cell_type": "markdown",
   "id": "f338a155",
   "metadata": {},
   "source": [
    "# Burst Aggregation\n",
    "\n",
    "Each burst covers three swaths. So we want to merge these bursts together as a single geometric object."
   ]
  },
  {
   "cell_type": "code",
   "execution_count": 40,
   "id": "0c70aa23",
   "metadata": {
    "ExecuteTime": {
     "end_time": "2022-12-20T19:24:39.245303Z",
     "start_time": "2022-12-20T19:24:39.116745Z"
    }
   },
   "outputs": [
    {
     "data": {
      "text/plain": [
       "<AxesSubplot: >"
      ]
     },
     "execution_count": 40,
     "metadata": {},
     "output_type": "execute_result"
    },
    {
     "data": {
      "image/png": "[encoded data removed]",
      "text/plain": [
       "<Figure size 432x288 with 1 Axes>"
      ]
     },
     "metadata": {
      "needs_background": "light"
     },
     "output_type": "display_data"
    }
   ],
   "source": [
    "df_burst.head(30).plot(column='burst_id', categorical=True)"
   ]
  },
  {
   "cell_type": "code",
   "execution_count": 41,
   "id": "5a9c12ce",
   "metadata": {
    "ExecuteTime": {
     "end_time": "2022-12-20T19:27:10.472825Z",
     "start_time": "2022-12-20T19:24:39.246850Z"
    }
   },
   "outputs": [
    {
     "name": "stderr",
     "output_type": "stream",
     "text": [
      "/Users/staniewi/miniconda3/envs/mapping/lib/python3.10/site-packages/shapely/set_operations.py:426: RuntimeWarning: invalid value encountered in unary_union\n",
      "  return lib.unary_union(collections, **kwargs)\n"
     ]
    },
    {
     "name": "stdout",
     "output_type": "stream",
     "text": [
      "CPU times: user 21.9 s, sys: 121 ms, total: 22 s\n",
      "Wall time: 22 s\n"
     ]
    }
   ],
   "source": [
    "%%time\n",
    "\n",
    "def join_track_numbers(orbits: list) -> str:\n",
    "    orbits = list(set(orbits))\n",
    "    orbits_str = list(map(str, orbits))\n",
    "    return ','.join(orbits_str)\n",
    "\n",
    "\n",
    "df_burst_triplet_temp = df_burst.dissolve(by='burst_id', \n",
    "                                          aggfunc={'OGC_FID': ['min', 'max'],\n",
    "                                                   'relative_orbit_number': join_track_numbers,\n",
    "                                                   'orbit_pass': 'first'}, \n",
    "                                          as_index=False)"
   ]
  },
  {
   "cell_type": "markdown",
   "id": "e84b0207",
   "metadata": {
    "ExecuteTime": {
     "end_time": "2022-11-12T00:22:29.300265Z",
     "start_time": "2022-11-12T00:22:29.297270Z"
    }
   },
   "source": [
    "We keep store this as an alternative dataframe because we want to rename columns."
   ]
  },
  {
   "cell_type": "code",
   "execution_count": 42,
   "id": "b4bf8479",
   "metadata": {
    "ExecuteTime": {
     "end_time": "2022-12-20T19:27:10.485271Z",
     "start_time": "2022-12-20T19:27:10.474248Z"
    }
   },
   "outputs": [
    {
     "data": {
      "text/html": [
       "<div>\n",
       "<style scoped>\n",
       "    .dataframe tbody tr th:only-of-type {\n",
       "        vertical-align: middle;\n",
       "    }\n",
       "\n",
       "    .dataframe tbody tr th {\n",
       "        vertical-align: top;\n",
       "    }\n",
       "\n",
       "    .dataframe thead th {\n",
       "        text-align: right;\n",
       "    }\n",
       "</style>\n",
       "<table border=\"1\" class=\"dataframe\">\n",
       "  <thead>\n",
       "    <tr style=\"text-align: right;\">\n",
       "      <th></th>\n",
       "      <th>burst_id</th>\n",
       "      <th>geometry</th>\n",
       "      <th>(OGC_FID, min)</th>\n",
       "      <th>(OGC_FID, max)</th>\n",
       "      <th>(relative_orbit_number, join_track_numbers)</th>\n",
       "      <th>(orbit_pass, first)</th>\n",
       "    </tr>\n",
       "  </thead>\n",
       "  <tbody>\n",
       "    <tr>\n",
       "      <th>0</th>\n",
       "      <td>1</td>\n",
       "      <td>POLYGON Z ((4.12960 0.91167 0.00000, 3.76300 0...</td>\n",
       "      <td>1</td>\n",
       "      <td>3</td>\n",
       "      <td>1</td>\n",
       "      <td>ASCENDING</td>\n",
       "    </tr>\n",
       "    <tr>\n",
       "      <th>1</th>\n",
       "      <td>2</td>\n",
       "      <td>POLYGON Z ((4.09471 1.07835 0.00000, 3.72810 1...</td>\n",
       "      <td>4</td>\n",
       "      <td>6</td>\n",
       "      <td>1</td>\n",
       "      <td>ASCENDING</td>\n",
       "    </tr>\n",
       "    <tr>\n",
       "      <th>2</th>\n",
       "      <td>3</td>\n",
       "      <td>POLYGON Z ((4.05984 1.24503 0.00000, 3.69323 1...</td>\n",
       "      <td>7</td>\n",
       "      <td>9</td>\n",
       "      <td>1</td>\n",
       "      <td>ASCENDING</td>\n",
       "    </tr>\n",
       "    <tr>\n",
       "      <th>3</th>\n",
       "      <td>4</td>\n",
       "      <td>POLYGON Z ((4.02501 1.41172 0.00000, 3.65839 1...</td>\n",
       "      <td>10</td>\n",
       "      <td>12</td>\n",
       "      <td>1</td>\n",
       "      <td>ASCENDING</td>\n",
       "    </tr>\n",
       "    <tr>\n",
       "      <th>4</th>\n",
       "      <td>5</td>\n",
       "      <td>POLYGON Z ((3.99020 1.57841 0.00000, 3.62357 1...</td>\n",
       "      <td>13</td>\n",
       "      <td>15</td>\n",
       "      <td>1</td>\n",
       "      <td>ASCENDING</td>\n",
       "    </tr>\n",
       "  </tbody>\n",
       "</table>\n",
       "</div>"
      ],
      "text/plain": [
       "   burst_id                                           geometry  \\\n",
       "0         1  POLYGON Z ((4.12960 0.91167 0.00000, 3.76300 0...   \n",
       "1         2  POLYGON Z ((4.09471 1.07835 0.00000, 3.72810 1...   \n",
       "2         3  POLYGON Z ((4.05984 1.24503 0.00000, 3.69323 1...   \n",
       "3         4  POLYGON Z ((4.02501 1.41172 0.00000, 3.65839 1...   \n",
       "4         5  POLYGON Z ((3.99020 1.57841 0.00000, 3.62357 1...   \n",
       "\n",
       "   (OGC_FID, min)  (OGC_FID, max) (relative_orbit_number, join_track_numbers)  \\\n",
       "0               1               3                                           1   \n",
       "1               4               6                                           1   \n",
       "2               7               9                                           1   \n",
       "3              10              12                                           1   \n",
       "4              13              15                                           1   \n",
       "\n",
       "  (orbit_pass, first)  \n",
       "0           ASCENDING  \n",
       "1           ASCENDING  \n",
       "2           ASCENDING  \n",
       "3           ASCENDING  \n",
       "4           ASCENDING  "
      ]
     },
     "execution_count": 42,
     "metadata": {},
     "output_type": "execute_result"
    }
   ],
   "source": [
    "df_burst_triplet_temp.head()"
   ]
  },
  {
   "cell_type": "code",
   "execution_count": 43,
   "id": "3837055d-689e-43d6-b87c-8963c3c3532f",
   "metadata": {},
   "outputs": [
    {
     "data": {
      "text/plain": [
       "<AxesSubplot: >"
      ]
     },
     "execution_count": 43,
     "metadata": {},
     "output_type": "execute_result"
    },
    {
     "data": {
      "image/png": "[encoded data removed]",
      "text/plain": [
       "<Figure size 432x288 with 1 Axes>"
      ]
     },
     "metadata": {
      "needs_background": "light"
     },
     "output_type": "display_data"
    }
   ],
   "source": [
    "df_burst_triplet_temp.head(10).plot(column='burst_id', categorical=True)"
   ]
  },
  {
   "cell_type": "code",
   "execution_count": 44,
   "id": "08d09613",
   "metadata": {
    "ExecuteTime": {
     "end_time": "2022-12-20T19:27:10.520973Z",
     "start_time": "2022-12-20T19:27:10.486641Z"
    }
   },
   "outputs": [
    {
     "data": {
      "text/html": [
       "<div>\n",
       "<style scoped>\n",
       "    .dataframe tbody tr th:only-of-type {\n",
       "        vertical-align: middle;\n",
       "    }\n",
       "\n",
       "    .dataframe tbody tr th {\n",
       "        vertical-align: top;\n",
       "    }\n",
       "\n",
       "    .dataframe thead th {\n",
       "        text-align: right;\n",
       "    }\n",
       "</style>\n",
       "<table border=\"1\" class=\"dataframe\">\n",
       "  <thead>\n",
       "    <tr style=\"text-align: right;\">\n",
       "      <th></th>\n",
       "      <th>burst_id</th>\n",
       "      <th>geometry</th>\n",
       "      <th>OGC_FID_min</th>\n",
       "      <th>OGC_FID_max</th>\n",
       "      <th>relative_orbit_numbers</th>\n",
       "      <th>look_direction</th>\n",
       "    </tr>\n",
       "  </thead>\n",
       "  <tbody>\n",
       "    <tr>\n",
       "      <th>0</th>\n",
       "      <td>1</td>\n",
       "      <td>POLYGON Z ((4.12960 0.91167 0.00000, 3.76300 0...</td>\n",
       "      <td>1</td>\n",
       "      <td>3</td>\n",
       "      <td>1</td>\n",
       "      <td>ASCENDING</td>\n",
       "    </tr>\n",
       "    <tr>\n",
       "      <th>1</th>\n",
       "      <td>2</td>\n",
       "      <td>POLYGON Z ((4.09471 1.07835 0.00000, 3.72810 1...</td>\n",
       "      <td>4</td>\n",
       "      <td>6</td>\n",
       "      <td>1</td>\n",
       "      <td>ASCENDING</td>\n",
       "    </tr>\n",
       "    <tr>\n",
       "      <th>2</th>\n",
       "      <td>3</td>\n",
       "      <td>POLYGON Z ((4.05984 1.24503 0.00000, 3.69323 1...</td>\n",
       "      <td>7</td>\n",
       "      <td>9</td>\n",
       "      <td>1</td>\n",
       "      <td>ASCENDING</td>\n",
       "    </tr>\n",
       "    <tr>\n",
       "      <th>3</th>\n",
       "      <td>4</td>\n",
       "      <td>POLYGON Z ((4.02501 1.41172 0.00000, 3.65839 1...</td>\n",
       "      <td>10</td>\n",
       "      <td>12</td>\n",
       "      <td>1</td>\n",
       "      <td>ASCENDING</td>\n",
       "    </tr>\n",
       "    <tr>\n",
       "      <th>4</th>\n",
       "      <td>5</td>\n",
       "      <td>POLYGON Z ((3.99020 1.57841 0.00000, 3.62357 1...</td>\n",
       "      <td>13</td>\n",
       "      <td>15</td>\n",
       "      <td>1</td>\n",
       "      <td>ASCENDING</td>\n",
       "    </tr>\n",
       "  </tbody>\n",
       "</table>\n",
       "</div>"
      ],
      "text/plain": [
       "   burst_id                                           geometry  OGC_FID_min  \\\n",
       "0         1  POLYGON Z ((4.12960 0.91167 0.00000, 3.76300 0...            1   \n",
       "1         2  POLYGON Z ((4.09471 1.07835 0.00000, 3.72810 1...            4   \n",
       "2         3  POLYGON Z ((4.05984 1.24503 0.00000, 3.69323 1...            7   \n",
       "3         4  POLYGON Z ((4.02501 1.41172 0.00000, 3.65839 1...           10   \n",
       "4         5  POLYGON Z ((3.99020 1.57841 0.00000, 3.62357 1...           13   \n",
       "\n",
       "   OGC_FID_max relative_orbit_numbers look_direction  \n",
       "0            3                      1      ASCENDING  \n",
       "1            6                      1      ASCENDING  \n",
       "2            9                      1      ASCENDING  \n",
       "3           12                      1      ASCENDING  \n",
       "4           15                      1      ASCENDING  "
      ]
     },
     "execution_count": 44,
     "metadata": {},
     "output_type": "execute_result"
    }
   ],
   "source": [
    "df_burst_triplet = df_burst_triplet_temp.reset_index(drop=True)\n",
    "df_burst_triplet.columns = ['burst_id', \n",
    "                            'geometry', \n",
    "                            'OGC_FID_min', \n",
    "                            'OGC_FID_max', \n",
    "                            'relative_orbit_numbers', \n",
    "                            'look_direction']\n",
    "df_burst_triplet.head()"
   ]
  },
  {
   "cell_type": "markdown",
   "id": "ea0be0cf-a943-4155-b537-3a1fffefed0d",
   "metadata": {},
   "source": [
    "# Frame size analysis"
   ]
  },
  {
   "cell_type": "code",
   "execution_count": 670,
   "id": "fa5ec9b8-952b-427a-a5fc-5c7f80f9a54e",
   "metadata": {},
   "outputs": [],
   "source": [
    "def make_frame_slices(num_bursts, n_bursts_per_frame=12, overlap=1):\n",
    "    N = int(np.ceil(num_bursts / (n_bursts_per_frame - overlap)))\n",
    "    starts = [k * (n_bursts_per_frame - overlap) for k in range(N)]\n",
    "    return [slice(start, start + n_bursts_per_frame) for start in starts]"
   ]
  },
  {
   "cell_type": "code",
   "execution_count": 673,
   "id": "e021fe19-b3da-4407-bedc-e2fe5cf20cb7",
   "metadata": {},
   "outputs": [
    {
     "data": {
      "text/plain": [
       "[slice(0, 12, None),\n",
       " slice(11, 23, None),\n",
       " slice(22, 34, None),\n",
       " slice(33, 45, None),\n",
       " slice(44, 56, None)]"
      ]
     },
     "execution_count": 673,
     "metadata": {},
     "output_type": "execute_result"
    }
   ],
   "source": [
    "make_frame_slices(45, 12, 1)"
   ]
  },
  {
   "cell_type": "code",
   "execution_count": 674,
   "id": "3d57f3e5-4425-4e9e-90a7-aafad724253b",
   "metadata": {},
   "outputs": [],
   "source": [
    "df_burst_count_per_track = df_burst[['relative_orbit_number', 'burst_id']].groupby('relative_orbit_number').burst_id.nunique()\n",
    "burst_count_per_track = df_burst_count_per_track.to_dict()"
   ]
  },
  {
   "cell_type": "code",
   "execution_count": 677,
   "id": "80a2e010-48cc-41ce-88aa-9fb26431fe3c",
   "metadata": {},
   "outputs": [
    {
     "name": "stdout",
     "output_type": "stream",
     "text": [
      "9 bursts / frame, 1 overlap\n",
      "final frame sizes: Counter({4: 162, 3: 13})\n",
      "--------------------\n",
      "9 bursts / frame, 2 overlap\n",
      "final frame sizes: Counter({6: 162, 5: 13})\n",
      "--------------------\n",
      "10 bursts / frame, 1 overlap\n",
      "final frame sizes: Counter({6: 162, 5: 13})\n",
      "--------------------\n",
      "10 bursts / frame, 2 overlap\n",
      "final frame sizes: Counter({4: 162, 3: 13})\n",
      "--------------------\n",
      "11 bursts / frame, 1 overlap\n",
      "final frame sizes: Counter({8: 162, 7: 13})\n",
      "--------------------\n",
      "11 bursts / frame, 2 overlap\n",
      "final frame sizes: Counter({6: 162, 5: 13})\n",
      "--------------------\n",
      "12 bursts / frame, 1 overlap\n",
      "final frame sizes: Counter({3: 162, 2: 13})\n",
      "--------------------\n",
      "12 bursts / frame, 2 overlap\n",
      "final frame sizes: Counter({8: 162, 7: 13})\n",
      "--------------------\n",
      "13 bursts / frame, 1 overlap\n",
      "final frame sizes: Counter({12: 162, 11: 13})\n",
      "--------------------\n",
      "13 bursts / frame, 2 overlap\n",
      "final frame sizes: Counter({3: 162, 2: 13})\n",
      "--------------------\n"
     ]
    }
   ],
   "source": [
    "from collections import Counter\n",
    "\n",
    "results = []\n",
    "for n_bursts_per_frame in [9, 10, 11, 12, 13]:\n",
    "    for overlap in [1, 2]:\n",
    "        track_to_slices = {}\n",
    "        for track, count in burst_count_per_track.items():\n",
    "            b = np.arange(count)\n",
    "            slices = make_frame_slices(count, n_bursts_per_frame=n_bursts_per_frame, overlap=overlap)\n",
    "            track_to_slices[track] = len(b[slices[-1]])\n",
    "        print(f\"{n_bursts_per_frame} bursts / frame, {overlap} overlap\")\n",
    "        print(f\"final frame sizes: {Counter(track_to_slices.values())}\")\n",
    "        print(\"-\"*20)\n",
    "        for (leftover, count) in Counter(track_to_slices.values()).items():\n",
    "            results.append((n_bursts_per_frame, overlap, leftover, count))"
   ]
  },
  {
   "cell_type": "code",
   "execution_count": 678,
   "id": "844d2880-f51b-412a-9df5-9ea6bf9f86d8",
   "metadata": {},
   "outputs": [
    {
     "data": {
      "text/html": [
       "<div>\n",
       "<style scoped>\n",
       "    .dataframe tbody tr th:only-of-type {\n",
       "        vertical-align: middle;\n",
       "    }\n",
       "\n",
       "    .dataframe tbody tr th {\n",
       "        vertical-align: top;\n",
       "    }\n",
       "\n",
       "    .dataframe thead th {\n",
       "        text-align: right;\n",
       "    }\n",
       "</style>\n",
       "<table border=\"1\" class=\"dataframe\">\n",
       "  <thead>\n",
       "    <tr style=\"text-align: right;\">\n",
       "      <th></th>\n",
       "      <th>n_bursts_per_frame</th>\n",
       "      <th>overlap</th>\n",
       "      <th>leftover</th>\n",
       "      <th>count</th>\n",
       "    </tr>\n",
       "  </thead>\n",
       "  <tbody>\n",
       "    <tr>\n",
       "      <th>0</th>\n",
       "      <td>9</td>\n",
       "      <td>1</td>\n",
       "      <td>4</td>\n",
       "      <td>162</td>\n",
       "    </tr>\n",
       "    <tr>\n",
       "      <th>1</th>\n",
       "      <td>9</td>\n",
       "      <td>1</td>\n",
       "      <td>3</td>\n",
       "      <td>13</td>\n",
       "    </tr>\n",
       "    <tr>\n",
       "      <th>2</th>\n",
       "      <td>9</td>\n",
       "      <td>2</td>\n",
       "      <td>6</td>\n",
       "      <td>162</td>\n",
       "    </tr>\n",
       "    <tr>\n",
       "      <th>3</th>\n",
       "      <td>9</td>\n",
       "      <td>2</td>\n",
       "      <td>5</td>\n",
       "      <td>13</td>\n",
       "    </tr>\n",
       "    <tr>\n",
       "      <th>4</th>\n",
       "      <td>10</td>\n",
       "      <td>1</td>\n",
       "      <td>6</td>\n",
       "      <td>162</td>\n",
       "    </tr>\n",
       "    <tr>\n",
       "      <th>5</th>\n",
       "      <td>10</td>\n",
       "      <td>1</td>\n",
       "      <td>5</td>\n",
       "      <td>13</td>\n",
       "    </tr>\n",
       "    <tr>\n",
       "      <th>6</th>\n",
       "      <td>10</td>\n",
       "      <td>2</td>\n",
       "      <td>4</td>\n",
       "      <td>162</td>\n",
       "    </tr>\n",
       "    <tr>\n",
       "      <th>7</th>\n",
       "      <td>10</td>\n",
       "      <td>2</td>\n",
       "      <td>3</td>\n",
       "      <td>13</td>\n",
       "    </tr>\n",
       "    <tr>\n",
       "      <th>8</th>\n",
       "      <td>11</td>\n",
       "      <td>1</td>\n",
       "      <td>8</td>\n",
       "      <td>162</td>\n",
       "    </tr>\n",
       "    <tr>\n",
       "      <th>9</th>\n",
       "      <td>11</td>\n",
       "      <td>1</td>\n",
       "      <td>7</td>\n",
       "      <td>13</td>\n",
       "    </tr>\n",
       "    <tr>\n",
       "      <th>10</th>\n",
       "      <td>11</td>\n",
       "      <td>2</td>\n",
       "      <td>6</td>\n",
       "      <td>162</td>\n",
       "    </tr>\n",
       "    <tr>\n",
       "      <th>11</th>\n",
       "      <td>11</td>\n",
       "      <td>2</td>\n",
       "      <td>5</td>\n",
       "      <td>13</td>\n",
       "    </tr>\n",
       "    <tr>\n",
       "      <th>12</th>\n",
       "      <td>12</td>\n",
       "      <td>1</td>\n",
       "      <td>3</td>\n",
       "      <td>162</td>\n",
       "    </tr>\n",
       "    <tr>\n",
       "      <th>13</th>\n",
       "      <td>12</td>\n",
       "      <td>1</td>\n",
       "      <td>2</td>\n",
       "      <td>13</td>\n",
       "    </tr>\n",
       "    <tr>\n",
       "      <th>14</th>\n",
       "      <td>12</td>\n",
       "      <td>2</td>\n",
       "      <td>8</td>\n",
       "      <td>162</td>\n",
       "    </tr>\n",
       "    <tr>\n",
       "      <th>15</th>\n",
       "      <td>12</td>\n",
       "      <td>2</td>\n",
       "      <td>7</td>\n",
       "      <td>13</td>\n",
       "    </tr>\n",
       "    <tr>\n",
       "      <th>16</th>\n",
       "      <td>13</td>\n",
       "      <td>1</td>\n",
       "      <td>12</td>\n",
       "      <td>162</td>\n",
       "    </tr>\n",
       "    <tr>\n",
       "      <th>17</th>\n",
       "      <td>13</td>\n",
       "      <td>1</td>\n",
       "      <td>11</td>\n",
       "      <td>13</td>\n",
       "    </tr>\n",
       "    <tr>\n",
       "      <th>18</th>\n",
       "      <td>13</td>\n",
       "      <td>2</td>\n",
       "      <td>3</td>\n",
       "      <td>162</td>\n",
       "    </tr>\n",
       "    <tr>\n",
       "      <th>19</th>\n",
       "      <td>13</td>\n",
       "      <td>2</td>\n",
       "      <td>2</td>\n",
       "      <td>13</td>\n",
       "    </tr>\n",
       "  </tbody>\n",
       "</table>\n",
       "</div>"
      ],
      "text/plain": [
       "    n_bursts_per_frame  overlap  leftover  count\n",
       "0                    9        1         4    162\n",
       "1                    9        1         3     13\n",
       "2                    9        2         6    162\n",
       "3                    9        2         5     13\n",
       "4                   10        1         6    162\n",
       "5                   10        1         5     13\n",
       "6                   10        2         4    162\n",
       "7                   10        2         3     13\n",
       "8                   11        1         8    162\n",
       "9                   11        1         7     13\n",
       "10                  11        2         6    162\n",
       "11                  11        2         5     13\n",
       "12                  12        1         3    162\n",
       "13                  12        1         2     13\n",
       "14                  12        2         8    162\n",
       "15                  12        2         7     13\n",
       "16                  13        1        12    162\n",
       "17                  13        1        11     13\n",
       "18                  13        2         3    162\n",
       "19                  13        2         2     13"
      ]
     },
     "execution_count": 678,
     "metadata": {},
     "output_type": "execute_result"
    }
   ],
   "source": [
    "pd.DataFrame(results, columns=['n_bursts_per_frame', 'overlap', 'leftover', 'count'])"
   ]
  },
  {
   "cell_type": "markdown",
   "id": "e6e59e60-812a-481b-8d94-79f87de7ae5e",
   "metadata": {},
   "source": [
    "## Thoughts on frame size\n",
    "\n",
    "**11 bursts per frame, 1 overlap only has leftovers of 7 and 8 bursts**\n",
    "\n",
    "This seems not so bad- final frame isn't much smaller than the rest\n",
    "\n",
    "13 bursts per frame with 1 overlap does alright. But 13 bursts long is about 280-290 km... which is a very big frame."
   ]
  },
  {
   "cell_type": "code",
   "execution_count": 679,
   "id": "60d80bbc-cdc8-41cb-9d14-8eb1a9e47ed7",
   "metadata": {},
   "outputs": [
    {
     "name": "stdout",
     "output_type": "stream",
     "text": [
      "CPU times: user 499 ms, sys: 19.8 ms, total: 519 ms\n",
      "Wall time: 526 ms\n"
     ]
    },
    {
     "data": {
      "text/html": [
       "<div>\n",
       "<style scoped>\n",
       "    .dataframe tbody tr th:only-of-type {\n",
       "        vertical-align: middle;\n",
       "    }\n",
       "\n",
       "    .dataframe tbody tr th {\n",
       "        vertical-align: top;\n",
       "    }\n",
       "\n",
       "    .dataframe thead th {\n",
       "        text-align: right;\n",
       "    }\n",
       "</style>\n",
       "<table border=\"1\" class=\"dataframe\">\n",
       "  <thead>\n",
       "    <tr style=\"text-align: right;\">\n",
       "      <th></th>\n",
       "      <th>relative_orbit_number</th>\n",
       "      <th>frame_number</th>\n",
       "      <th>burst_id</th>\n",
       "    </tr>\n",
       "  </thead>\n",
       "  <tbody>\n",
       "    <tr>\n",
       "      <th>0</th>\n",
       "      <td>1</td>\n",
       "      <td>1</td>\n",
       "      <td>1</td>\n",
       "    </tr>\n",
       "    <tr>\n",
       "      <th>1</th>\n",
       "      <td>1</td>\n",
       "      <td>1</td>\n",
       "      <td>2</td>\n",
       "    </tr>\n",
       "    <tr>\n",
       "      <th>2</th>\n",
       "      <td>1</td>\n",
       "      <td>1</td>\n",
       "      <td>3</td>\n",
       "    </tr>\n",
       "    <tr>\n",
       "      <th>3</th>\n",
       "      <td>1</td>\n",
       "      <td>1</td>\n",
       "      <td>4</td>\n",
       "    </tr>\n",
       "    <tr>\n",
       "      <th>4</th>\n",
       "      <td>1</td>\n",
       "      <td>1</td>\n",
       "      <td>5</td>\n",
       "    </tr>\n",
       "    <tr>\n",
       "      <th>...</th>\n",
       "      <td>...</td>\n",
       "      <td>...</td>\n",
       "      <td>...</td>\n",
       "    </tr>\n",
       "    <tr>\n",
       "      <th>413332</th>\n",
       "      <td>175</td>\n",
       "      <td>215</td>\n",
       "      <td>375883</td>\n",
       "    </tr>\n",
       "    <tr>\n",
       "      <th>413333</th>\n",
       "      <td>175</td>\n",
       "      <td>215</td>\n",
       "      <td>375884</td>\n",
       "    </tr>\n",
       "    <tr>\n",
       "      <th>413334</th>\n",
       "      <td>175</td>\n",
       "      <td>215</td>\n",
       "      <td>375885</td>\n",
       "    </tr>\n",
       "    <tr>\n",
       "      <th>413335</th>\n",
       "      <td>175</td>\n",
       "      <td>215</td>\n",
       "      <td>375886</td>\n",
       "    </tr>\n",
       "    <tr>\n",
       "      <th>413336</th>\n",
       "      <td>175</td>\n",
       "      <td>215</td>\n",
       "      <td>375887</td>\n",
       "    </tr>\n",
       "  </tbody>\n",
       "</table>\n",
       "<p>413337 rows × 3 columns</p>\n",
       "</div>"
      ],
      "text/plain": [
       "        relative_orbit_number  frame_number  burst_id\n",
       "0                           1             1         1\n",
       "1                           1             1         2\n",
       "2                           1             1         3\n",
       "3                           1             1         4\n",
       "4                           1             1         5\n",
       "...                       ...           ...       ...\n",
       "413332                    175           215    375883\n",
       "413333                    175           215    375884\n",
       "413334                    175           215    375885\n",
       "413335                    175           215    375886\n",
       "413336                    175           215    375887\n",
       "\n",
       "[413337 rows x 3 columns]"
      ]
     },
     "execution_count": 679,
     "metadata": {},
     "output_type": "execute_result"
    }
   ],
   "source": [
    "%%time\n",
    "n_bursts_per_frame = 11\n",
    "overlap = 1\n",
    "\n",
    "df_burst_count_per_track = df_burst[['relative_orbit_number', 'burst_id']].groupby('relative_orbit_number').burst_id.nunique()\n",
    "burst_count_per_track = df_burst_count_per_track.to_dict()\n",
    "\n",
    "# frame_to_ogc_fid = {}  # would need to multiplt slice idxs by 3\n",
    "frame_to_burst_id = []\n",
    "\n",
    "track_to_slices = {}\n",
    "for track, count in burst_count_per_track.items():\n",
    "    current_burst_ids = df_burst[df_burst.relative_orbit_number == track].burst_id.unique()\n",
    "    slices = make_frame_slices(count, n_bursts_per_frame=n_bursts_per_frame, overlap=overlap)\n",
    "    \n",
    "    for frame_num, cur_slice in enumerate(slices, start=1):\n",
    "        for b_id in current_burst_ids[cur_slice]:\n",
    "            frame_to_burst_id.append((track, frame_num, b_id))\n",
    "\n",
    "            \n",
    "df_frame_to_burst_id = pd.DataFrame(frame_to_burst_id, columns=[\"relative_orbit_number\", \"frame_number\", \"burst_id\"])\n",
    "df_frame_to_burst_id"
   ]
  },
  {
   "cell_type": "code",
   "execution_count": 695,
   "id": "8d3dd086-6993-46aa-b52c-e8ed1fcedf86",
   "metadata": {},
   "outputs": [],
   "source": [
    "df_burst.head().to_file(\"testblah.gpkg\")"
   ]
  },
  {
   "cell_type": "code",
   "execution_count": 696,
   "id": "d9247926-360a-4d0a-a965-9da6d9ac9033",
   "metadata": {},
   "outputs": [
    {
     "name": "stdout",
     "output_type": "stream",
     "text": [
      "-- Loading resources from /Users/staniewi/.sqliterc\n",
      "load_extension('mod_spatialite')\n",
      "--------------------------------\n",
      "                                \n",
      "Run Time: real 0.023 user 0.010324 sys 0.007401\n",
      "gpkg_contents               gpkg_tile_matrix_set      \n",
      "gpkg_extensions             rtree_testblah_geom       \n",
      "gpkg_geometry_columns       rtree_testblah_geom_node  \n",
      "gpkg_ogr_contents           rtree_testblah_geom_parent\n",
      "gpkg_spatial_ref_sys        rtree_testblah_geom_rowid \n",
      "gpkg_tile_matrix            testblah                  \n"
     ]
    }
   ],
   "source": [
    "!sqlite3 testblah.gpkg .tables"
   ]
  },
  {
   "cell_type": "code",
   "execution_count": 681,
   "id": "87f65443-5d8b-4218-b80e-3ea20e25350d",
   "metadata": {},
   "outputs": [],
   "source": [
    "with sqlite3.connect(\"test/esa_burst_db.gpkg\") as con:\n",
    "    df_frame_to_burst_id.to_sql(\"frames_bursts\", con)\n",
    "    con.execute(\"CREATE INDEX IF NOT EXISTS idx_burst_id_map_burst_id ON burst_id_map (burst_id)\")\n",
    "    con.execute(\"CREATE INDEX IF NOT EXISTS idx_frames_bursts_burst_id ON frames_bursts (burst_id)\")\n",
    "    con.execute(\"CREATE INDEX IF NOT EXISTS idx_frames_bursts_tracK_frame ON frames_bursts (relative_orbit_number, frame_number)\")"
   ]
  },
  {
   "cell_type": "code",
   "execution_count": 687,
   "id": "cd75b010-43d6-4e13-b72b-59737c354cc2",
   "metadata": {},
   "outputs": [
    {
     "data": {
      "text/html": [
       "<div>\n",
       "<style scoped>\n",
       "    .dataframe tbody tr th:only-of-type {\n",
       "        vertical-align: middle;\n",
       "    }\n",
       "\n",
       "    .dataframe tbody tr th {\n",
       "        vertical-align: top;\n",
       "    }\n",
       "\n",
       "    .dataframe thead th {\n",
       "        text-align: right;\n",
       "    }\n",
       "</style>\n",
       "<table border=\"1\" class=\"dataframe\">\n",
       "  <thead>\n",
       "    <tr style=\"text-align: right;\">\n",
       "      <th></th>\n",
       "      <th>relative_orbit_number</th>\n",
       "      <th>frame_number</th>\n",
       "      <th>burst_id</th>\n",
       "    </tr>\n",
       "  </thead>\n",
       "  <tbody>\n",
       "    <tr>\n",
       "      <th>0</th>\n",
       "      <td>1</td>\n",
       "      <td>1</td>\n",
       "      <td>1</td>\n",
       "    </tr>\n",
       "    <tr>\n",
       "      <th>1</th>\n",
       "      <td>1</td>\n",
       "      <td>1</td>\n",
       "      <td>2</td>\n",
       "    </tr>\n",
       "    <tr>\n",
       "      <th>2</th>\n",
       "      <td>1</td>\n",
       "      <td>1</td>\n",
       "      <td>3</td>\n",
       "    </tr>\n",
       "    <tr>\n",
       "      <th>3</th>\n",
       "      <td>1</td>\n",
       "      <td>1</td>\n",
       "      <td>4</td>\n",
       "    </tr>\n",
       "    <tr>\n",
       "      <th>4</th>\n",
       "      <td>1</td>\n",
       "      <td>1</td>\n",
       "      <td>5</td>\n",
       "    </tr>\n",
       "    <tr>\n",
       "      <th>...</th>\n",
       "      <td>...</td>\n",
       "      <td>...</td>\n",
       "      <td>...</td>\n",
       "    </tr>\n",
       "    <tr>\n",
       "      <th>413332</th>\n",
       "      <td>175</td>\n",
       "      <td>215</td>\n",
       "      <td>375883</td>\n",
       "    </tr>\n",
       "    <tr>\n",
       "      <th>413333</th>\n",
       "      <td>175</td>\n",
       "      <td>215</td>\n",
       "      <td>375884</td>\n",
       "    </tr>\n",
       "    <tr>\n",
       "      <th>413334</th>\n",
       "      <td>175</td>\n",
       "      <td>215</td>\n",
       "      <td>375885</td>\n",
       "    </tr>\n",
       "    <tr>\n",
       "      <th>413335</th>\n",
       "      <td>175</td>\n",
       "      <td>215</td>\n",
       "      <td>375886</td>\n",
       "    </tr>\n",
       "    <tr>\n",
       "      <th>413336</th>\n",
       "      <td>175</td>\n",
       "      <td>215</td>\n",
       "      <td>375887</td>\n",
       "    </tr>\n",
       "  </tbody>\n",
       "</table>\n",
       "<p>413337 rows × 3 columns</p>\n",
       "</div>"
      ],
      "text/plain": [
       "        relative_orbit_number  frame_number  burst_id\n",
       "0                           1             1         1\n",
       "1                           1             1         2\n",
       "2                           1             1         3\n",
       "3                           1             1         4\n",
       "4                           1             1         5\n",
       "...                       ...           ...       ...\n",
       "413332                    175           215    375883\n",
       "413333                    175           215    375884\n",
       "413334                    175           215    375885\n",
       "413335                    175           215    375886\n",
       "413336                    175           215    375887\n",
       "\n",
       "[413337 rows x 3 columns]"
      ]
     },
     "execution_count": 687,
     "metadata": {},
     "output_type": "execute_result"
    }
   ],
   "source": [
    "df_frame_to_burst_id"
   ]
  },
  {
   "cell_type": "code",
   "execution_count": 647,
   "id": "8cd036ff-7060-4e2f-9b1b-9a37c551fc85",
   "metadata": {},
   "outputs": [],
   "source": [
    "# df_frame_to_burst_id.groupby([\"relative_orbit_number\", \"frame_number\"], as_index=False).count().burst_id.unique()\n",
    "# # df_frame_to_burst_id[df_frame_to_burst_id.relative_orbit_number == 1]"
   ]
  },
  {
   "cell_type": "code",
   "execution_count": 686,
   "id": "cacfe640-f610-436b-a215-2d922d822a7f",
   "metadata": {},
   "outputs": [
    {
     "name": "stdout",
     "output_type": "stream",
     "text": [
      "37625 total frames\n"
     ]
    }
   ],
   "source": [
    "print(f\"{len(df_frame_to_burst_id.groupby(['relative_orbit_number', 'frame_number']))} total frames\")"
   ]
  },
  {
   "cell_type": "code",
   "execution_count": 45,
   "id": "8d8654de",
   "metadata": {
    "ExecuteTime": {
     "end_time": "2022-12-20T19:27:10.562639Z",
     "start_time": "2022-12-20T19:27:10.555573Z"
    }
   },
   "outputs": [],
   "source": [
    "n_bursts = 10\n",
    "o_bursts = 2\n",
    "M = df_burst_triplet.burst_id.max()\n",
    "N = int(np.ceil(M / (n_bursts - o_bursts)))\n",
    "\n",
    "starts = [k * (n_bursts - o_bursts) for k in range(N)]"
   ]
  },
  {
   "cell_type": "code",
   "execution_count": 46,
   "id": "34cb111c",
   "metadata": {
    "ExecuteTime": {
     "end_time": "2022-12-20T19:27:30.054854Z",
     "start_time": "2022-12-20T19:27:10.565860Z"
    }
   },
   "outputs": [
    {
     "name": "stderr",
     "output_type": "stream",
     "text": [
      "100%|███████████████████████████████████████████████████████████████████████████████████████████████████████████████████████████████████████████████████████████████████████████████████████████████| 46986/46986 [00:10<00:00, 4305.04it/s]\n"
     ]
    }
   ],
   "source": [
    "slices = [df_burst_triplet.iloc[start: start+ n_bursts] for start in tqdm(starts)]"
   ]
  },
  {
   "cell_type": "code",
   "execution_count": 47,
   "id": "d2c75aea",
   "metadata": {
    "ExecuteTime": {
     "end_time": "2022-12-20T19:27:30.060197Z",
     "start_time": "2022-12-20T19:27:30.056605Z"
    }
   },
   "outputs": [],
   "source": [
    "def join_look_direction(look_direction_l: list) -> str:\n",
    "    return ','.join(list(set(look_direction_l)))"
   ]
  },
  {
   "cell_type": "markdown",
   "id": "91a851f2",
   "metadata": {},
   "source": [
    "The `aggfunc` does make this slower geometry dissolve slower. We filter out future warnings as well as this needs to be resolved in the `geopandas` library."
   ]
  },
  {
   "cell_type": "code",
   "execution_count": 51,
   "id": "f67d55f6-c8aa-480f-852f-415c83c6de83",
   "metadata": {},
   "outputs": [
    {
     "data": {
      "text/plain": [
       "'2.0.0'"
      ]
     },
     "execution_count": 51,
     "metadata": {},
     "output_type": "execute_result"
    }
   ],
   "source": [
    "import shapely\n",
    "shapely.__version__"
   ]
  },
  {
   "cell_type": "code",
   "execution_count": 60,
   "id": "ecd66c59",
   "metadata": {
    "ExecuteTime": {
     "end_time": "2022-12-20T19:33:43.995123Z",
     "start_time": "2022-12-20T19:27:30.078348Z"
    }
   },
   "outputs": [
    {
     "data": {
      "application/vnd.jupyter.widget-view+json": {
       "model_id": "4de4f04fb2034db7a1ef9cb9e0b2e4fb",
       "version_major": 2,
       "version_minor": 0
      },
      "text/plain": [
       "  0%|          | 0/46986 [00:00<?, ?it/s]"
      ]
     },
     "metadata": {},
     "output_type": "display_data"
    },
    {
     "name": "stderr",
     "output_type": "stream",
     "text": [
      "  5%|█████████▌                                                                                                                                                                                        | 2326/46986 [03:03<58:37, 12.70it/s]\n"
     ]
    },
    {
     "name": "stdout",
     "output_type": "stream",
     "text": [
      "CPU times: user 2min 31s, sys: 1.23 s, total: 2min 32s\n",
      "Wall time: 2min 32s\n"
     ]
    }
   ],
   "source": [
    "%%time\n",
    "\n",
    "agg_dict = {'OGC_FID_min': 'min',\n",
    "            'OGC_FID_max': 'max',\n",
    "            'burst_id': ['min', 'max'],\n",
    "            'relative_orbit_numbers': join_track_numbers,\n",
    "            'look_direction': join_look_direction}\n",
    "\n",
    "with warnings.catch_warnings():\n",
    "    warnings.simplefilter(\"ignore\", category=(FutureWarning, RuntimeWarning))\n",
    "    frames_l = [df_s.dissolve(aggfunc=agg_dict) for df_s in tqdm(slices)]"
   ]
  },
  {
   "cell_type": "code",
   "execution_count": 61,
   "id": "e96df60d",
   "metadata": {
    "ExecuteTime": {
     "end_time": "2022-12-20T19:33:51.793475Z",
     "start_time": "2022-12-20T19:33:43.996656Z"
    }
   },
   "outputs": [
    {
     "data": {
      "text/html": [
       "<div>\n",
       "<style scoped>\n",
       "    .dataframe tbody tr th:only-of-type {\n",
       "        vertical-align: middle;\n",
       "    }\n",
       "\n",
       "    .dataframe tbody tr th {\n",
       "        vertical-align: top;\n",
       "    }\n",
       "\n",
       "    .dataframe thead th {\n",
       "        text-align: right;\n",
       "    }\n",
       "</style>\n",
       "<table border=\"1\" class=\"dataframe\">\n",
       "  <thead>\n",
       "    <tr style=\"text-align: right;\">\n",
       "      <th></th>\n",
       "      <th>geometry</th>\n",
       "      <th>(OGC_FID_min, min)</th>\n",
       "      <th>(OGC_FID_max, max)</th>\n",
       "      <th>(burst_id, min)</th>\n",
       "      <th>(burst_id, max)</th>\n",
       "      <th>(relative_orbit_numbers, join_track_numbers)</th>\n",
       "      <th>(look_direction, join_look_direction)</th>\n",
       "    </tr>\n",
       "  </thead>\n",
       "  <tbody>\n",
       "    <tr>\n",
       "      <th>0</th>\n",
       "      <td>POLYGON Z ((3.33269 0.92005 0.00000, 3.33269 0...</td>\n",
       "      <td>1</td>\n",
       "      <td>30</td>\n",
       "      <td>1</td>\n",
       "      <td>10</td>\n",
       "      <td>1</td>\n",
       "      <td>ASCENDING</td>\n",
       "    </tr>\n",
       "    <tr>\n",
       "      <th>0</th>\n",
       "      <td>POLYGON Z ((3.05247 2.25444 0.00000, 3.05247 2...</td>\n",
       "      <td>25</td>\n",
       "      <td>54</td>\n",
       "      <td>9</td>\n",
       "      <td>18</td>\n",
       "      <td>1</td>\n",
       "      <td>ASCENDING</td>\n",
       "    </tr>\n",
       "    <tr>\n",
       "      <th>0</th>\n",
       "      <td>POLYGON Z ((2.77387 3.58901 0.00000, 2.77363 3...</td>\n",
       "      <td>49</td>\n",
       "      <td>78</td>\n",
       "      <td>17</td>\n",
       "      <td>26</td>\n",
       "      <td>1</td>\n",
       "      <td>ASCENDING</td>\n",
       "    </tr>\n",
       "    <tr>\n",
       "      <th>0</th>\n",
       "      <td>POLYGON Z ((2.49742 4.92387 0.00000, 2.49611 4...</td>\n",
       "      <td>73</td>\n",
       "      <td>102</td>\n",
       "      <td>25</td>\n",
       "      <td>34</td>\n",
       "      <td>1</td>\n",
       "      <td>ASCENDING</td>\n",
       "    </tr>\n",
       "    <tr>\n",
       "      <th>0</th>\n",
       "      <td>POLYGON Z ((2.22069 6.25855 0.00000, 2.22069 6...</td>\n",
       "      <td>97</td>\n",
       "      <td>126</td>\n",
       "      <td>33</td>\n",
       "      <td>42</td>\n",
       "      <td>1</td>\n",
       "      <td>ASCENDING</td>\n",
       "    </tr>\n",
       "  </tbody>\n",
       "</table>\n",
       "</div>"
      ],
      "text/plain": [
       "                                            geometry  (OGC_FID_min, min)  \\\n",
       "0  POLYGON Z ((3.33269 0.92005 0.00000, 3.33269 0...                   1   \n",
       "0  POLYGON Z ((3.05247 2.25444 0.00000, 3.05247 2...                  25   \n",
       "0  POLYGON Z ((2.77387 3.58901 0.00000, 2.77363 3...                  49   \n",
       "0  POLYGON Z ((2.49742 4.92387 0.00000, 2.49611 4...                  73   \n",
       "0  POLYGON Z ((2.22069 6.25855 0.00000, 2.22069 6...                  97   \n",
       "\n",
       "   (OGC_FID_max, max)  (burst_id, min)  (burst_id, max)  \\\n",
       "0                  30                1               10   \n",
       "0                  54                9               18   \n",
       "0                  78               17               26   \n",
       "0                 102               25               34   \n",
       "0                 126               33               42   \n",
       "\n",
       "  (relative_orbit_numbers, join_track_numbers)  \\\n",
       "0                                            1   \n",
       "0                                            1   \n",
       "0                                            1   \n",
       "0                                            1   \n",
       "0                                            1   \n",
       "\n",
       "  (look_direction, join_look_direction)  \n",
       "0                             ASCENDING  \n",
       "0                             ASCENDING  \n",
       "0                             ASCENDING  \n",
       "0                             ASCENDING  \n",
       "0                             ASCENDING  "
      ]
     },
     "execution_count": 61,
     "metadata": {},
     "output_type": "execute_result"
    }
   ],
   "source": [
    "df_frames_temp = pd.concat(frames_l, axis=0)\n",
    "df_frames_temp.head()"
   ]
  },
  {
   "cell_type": "markdown",
   "id": "de3f4991",
   "metadata": {},
   "source": [
    "Format the frames."
   ]
  },
  {
   "cell_type": "code",
   "execution_count": 62,
   "id": "2c452810",
   "metadata": {
    "ExecuteTime": {
     "end_time": "2022-12-20T19:33:51.828246Z",
     "start_time": "2022-12-20T19:33:51.794844Z"
    }
   },
   "outputs": [
    {
     "data": {
      "text/html": [
       "<div>\n",
       "<style scoped>\n",
       "    .dataframe tbody tr th:only-of-type {\n",
       "        vertical-align: middle;\n",
       "    }\n",
       "\n",
       "    .dataframe tbody tr th {\n",
       "        vertical-align: top;\n",
       "    }\n",
       "\n",
       "    .dataframe thead th {\n",
       "        text-align: right;\n",
       "    }\n",
       "</style>\n",
       "<table border=\"1\" class=\"dataframe\">\n",
       "  <thead>\n",
       "    <tr style=\"text-align: right;\">\n",
       "      <th></th>\n",
       "      <th>OGC_FID_min</th>\n",
       "      <th>OGC_FID_max</th>\n",
       "      <th>burst_id_min</th>\n",
       "      <th>burst_id_max</th>\n",
       "      <th>relative_orbit_numbers</th>\n",
       "      <th>look_direction</th>\n",
       "      <th>geometry</th>\n",
       "    </tr>\n",
       "  </thead>\n",
       "  <tbody>\n",
       "    <tr>\n",
       "      <th>0</th>\n",
       "      <td>1</td>\n",
       "      <td>30</td>\n",
       "      <td>1</td>\n",
       "      <td>10</td>\n",
       "      <td>1</td>\n",
       "      <td>ASCENDING</td>\n",
       "      <td>POLYGON Z ((3.33269 0.92005 0.00000, 3.33269 0...</td>\n",
       "    </tr>\n",
       "    <tr>\n",
       "      <th>1</th>\n",
       "      <td>25</td>\n",
       "      <td>54</td>\n",
       "      <td>9</td>\n",
       "      <td>18</td>\n",
       "      <td>1</td>\n",
       "      <td>ASCENDING</td>\n",
       "      <td>POLYGON Z ((3.05247 2.25444 0.00000, 3.05247 2...</td>\n",
       "    </tr>\n",
       "    <tr>\n",
       "      <th>2</th>\n",
       "      <td>49</td>\n",
       "      <td>78</td>\n",
       "      <td>17</td>\n",
       "      <td>26</td>\n",
       "      <td>1</td>\n",
       "      <td>ASCENDING</td>\n",
       "      <td>POLYGON Z ((2.77387 3.58901 0.00000, 2.77363 3...</td>\n",
       "    </tr>\n",
       "    <tr>\n",
       "      <th>3</th>\n",
       "      <td>73</td>\n",
       "      <td>102</td>\n",
       "      <td>25</td>\n",
       "      <td>34</td>\n",
       "      <td>1</td>\n",
       "      <td>ASCENDING</td>\n",
       "      <td>POLYGON Z ((2.49742 4.92387 0.00000, 2.49611 4...</td>\n",
       "    </tr>\n",
       "    <tr>\n",
       "      <th>4</th>\n",
       "      <td>97</td>\n",
       "      <td>126</td>\n",
       "      <td>33</td>\n",
       "      <td>42</td>\n",
       "      <td>1</td>\n",
       "      <td>ASCENDING</td>\n",
       "      <td>POLYGON Z ((2.22069 6.25855 0.00000, 2.22069 6...</td>\n",
       "    </tr>\n",
       "  </tbody>\n",
       "</table>\n",
       "</div>"
      ],
      "text/plain": [
       "   OGC_FID_min  OGC_FID_max  burst_id_min  burst_id_max  \\\n",
       "0            1           30             1            10   \n",
       "1           25           54             9            18   \n",
       "2           49           78            17            26   \n",
       "3           73          102            25            34   \n",
       "4           97          126            33            42   \n",
       "\n",
       "  relative_orbit_numbers look_direction  \\\n",
       "0                      1      ASCENDING   \n",
       "1                      1      ASCENDING   \n",
       "2                      1      ASCENDING   \n",
       "3                      1      ASCENDING   \n",
       "4                      1      ASCENDING   \n",
       "\n",
       "                                            geometry  \n",
       "0  POLYGON Z ((3.33269 0.92005 0.00000, 3.33269 0...  \n",
       "1  POLYGON Z ((3.05247 2.25444 0.00000, 3.05247 2...  \n",
       "2  POLYGON Z ((2.77387 3.58901 0.00000, 2.77363 3...  \n",
       "3  POLYGON Z ((2.49742 4.92387 0.00000, 2.49611 4...  \n",
       "4  POLYGON Z ((2.22069 6.25855 0.00000, 2.22069 6...  "
      ]
     },
     "execution_count": 62,
     "metadata": {},
     "output_type": "execute_result"
    }
   ],
   "source": [
    "df_frames = df_frames_temp.reset_index(drop=True)\n",
    "df_frames.columns = ['geometry', \n",
    "                     'OGC_FID_min', \n",
    "                     'OGC_FID_max', \n",
    "                     'burst_id_min', \n",
    "                     'burst_id_max', \n",
    "                     'relative_orbit_numbers',\n",
    "                     'look_direction']\n",
    "# reorder columns\n",
    "df_frames = df_frames[[col for col in df_frames.columns if col != 'geometry'] + ['geometry']]\n",
    "df_frames.head()"
   ]
  },
  {
   "cell_type": "code",
   "execution_count": null,
   "id": "26c4d7a2-69d5-4fc9-895f-fa6b1ef6821c",
   "metadata": {},
   "outputs": [],
   "source": [
    "# df_frames_temp.head().plot(column=)"
   ]
  },
  {
   "cell_type": "code",
   "execution_count": 66,
   "id": "b522192e-b177-45d3-9490-922c70ce0e7a",
   "metadata": {},
   "outputs": [
    {
     "data": {
      "text/html": [
       "<div>\n",
       "<style scoped>\n",
       "    .dataframe tbody tr th:only-of-type {\n",
       "        vertical-align: middle;\n",
       "    }\n",
       "\n",
       "    .dataframe tbody tr th {\n",
       "        vertical-align: top;\n",
       "    }\n",
       "\n",
       "    .dataframe thead th {\n",
       "        text-align: right;\n",
       "    }\n",
       "</style>\n",
       "<table border=\"1\" class=\"dataframe\">\n",
       "  <thead>\n",
       "    <tr style=\"text-align: right;\">\n",
       "      <th></th>\n",
       "      <th>OGC_FID_min</th>\n",
       "      <th>OGC_FID_max</th>\n",
       "      <th>burst_id_min</th>\n",
       "      <th>burst_id_max</th>\n",
       "      <th>relative_orbit_numbers</th>\n",
       "      <th>look_direction</th>\n",
       "      <th>geometry</th>\n",
       "    </tr>\n",
       "  </thead>\n",
       "  <tbody>\n",
       "    <tr>\n",
       "      <th>0</th>\n",
       "      <td>1</td>\n",
       "      <td>30</td>\n",
       "      <td>1</td>\n",
       "      <td>10</td>\n",
       "      <td>1</td>\n",
       "      <td>ASCENDING</td>\n",
       "      <td>POLYGON Z ((3.33269 0.92005 0.00000, 3.33269 0...</td>\n",
       "    </tr>\n",
       "    <tr>\n",
       "      <th>1</th>\n",
       "      <td>25</td>\n",
       "      <td>54</td>\n",
       "      <td>9</td>\n",
       "      <td>18</td>\n",
       "      <td>1</td>\n",
       "      <td>ASCENDING</td>\n",
       "      <td>POLYGON Z ((3.05247 2.25444 0.00000, 3.05247 2...</td>\n",
       "    </tr>\n",
       "    <tr>\n",
       "      <th>2</th>\n",
       "      <td>49</td>\n",
       "      <td>78</td>\n",
       "      <td>17</td>\n",
       "      <td>26</td>\n",
       "      <td>1</td>\n",
       "      <td>ASCENDING</td>\n",
       "      <td>POLYGON Z ((2.77387 3.58901 0.00000, 2.77363 3...</td>\n",
       "    </tr>\n",
       "    <tr>\n",
       "      <th>3</th>\n",
       "      <td>73</td>\n",
       "      <td>102</td>\n",
       "      <td>25</td>\n",
       "      <td>34</td>\n",
       "      <td>1</td>\n",
       "      <td>ASCENDING</td>\n",
       "      <td>POLYGON Z ((2.49742 4.92387 0.00000, 2.49611 4...</td>\n",
       "    </tr>\n",
       "    <tr>\n",
       "      <th>4</th>\n",
       "      <td>97</td>\n",
       "      <td>126</td>\n",
       "      <td>33</td>\n",
       "      <td>42</td>\n",
       "      <td>1</td>\n",
       "      <td>ASCENDING</td>\n",
       "      <td>POLYGON Z ((2.22069 6.25855 0.00000, 2.22069 6...</td>\n",
       "    </tr>\n",
       "  </tbody>\n",
       "</table>\n",
       "</div>"
      ],
      "text/plain": [
       "   OGC_FID_min  OGC_FID_max  burst_id_min  burst_id_max  \\\n",
       "0            1           30             1            10   \n",
       "1           25           54             9            18   \n",
       "2           49           78            17            26   \n",
       "3           73          102            25            34   \n",
       "4           97          126            33            42   \n",
       "\n",
       "  relative_orbit_numbers look_direction  \\\n",
       "0                      1      ASCENDING   \n",
       "1                      1      ASCENDING   \n",
       "2                      1      ASCENDING   \n",
       "3                      1      ASCENDING   \n",
       "4                      1      ASCENDING   \n",
       "\n",
       "                                            geometry  \n",
       "0  POLYGON Z ((3.33269 0.92005 0.00000, 3.33269 0...  \n",
       "1  POLYGON Z ((3.05247 2.25444 0.00000, 3.05247 2...  \n",
       "2  POLYGON Z ((2.77387 3.58901 0.00000, 2.77363 3...  \n",
       "3  POLYGON Z ((2.49742 4.92387 0.00000, 2.49611 4...  \n",
       "4  POLYGON Z ((2.22069 6.25855 0.00000, 2.22069 6...  "
      ]
     },
     "execution_count": 66,
     "metadata": {},
     "output_type": "execute_result"
    }
   ],
   "source": [
    "df_frames.iloc[:5]"
   ]
  },
  {
   "cell_type": "code",
   "execution_count": 73,
   "id": "64ec8365",
   "metadata": {
    "ExecuteTime": {
     "end_time": "2022-12-20T19:33:51.924958Z",
     "start_time": "2022-12-20T19:33:51.829697Z"
    }
   },
   "outputs": [
    {
     "data": {
      "text/plain": [
       "<AxesSubplot: >"
      ]
     },
     "execution_count": 73,
     "metadata": {},
     "output_type": "execute_result"
    },
    {
     "data": {
      "image/png": "[encoded data removed]",
      "text/plain": [
       "<Figure size 432x288 with 1 Axes>"
      ]
     },
     "metadata": {
      "needs_background": "light"
     },
     "output_type": "display_data"
    }
   ],
   "source": [
    "# df_frames.iloc[:5].boundary.plot() # column='burst_id', categorical=True)\n",
    "df_frames.iloc[:5].plot(column='burst_id_min', categorical=True, alpha=.4)"
   ]
  },
  {
   "cell_type": "markdown",
   "id": "9bd88bcb",
   "metadata": {
    "ExecuteTime": {
     "end_time": "2022-12-20T18:23:48.934805Z",
     "start_time": "2022-12-20T18:23:48.934792Z"
    }
   },
   "source": [
    "# Land Intersection\n",
    "\n",
    "We are going to read a 1 degree buffered land area. This should encompass all land areas relevant for the product. We use this same mask (at full resolution) for the browse imagery."
   ]
  },
  {
   "cell_type": "code",
   "execution_count": 74,
   "id": "a626c2a3",
   "metadata": {
    "ExecuteTime": {
     "end_time": "2022-12-20T19:52:13.567966Z",
     "start_time": "2022-12-20T19:52:13.127132Z"
    }
   },
   "outputs": [],
   "source": [
    "df_land = gpd.read_file('usgs_land_1deg_buffered.geojson')    \n",
    "land_geo = df_land.geometry.unary_union"
   ]
  },
  {
   "cell_type": "code",
   "execution_count": 75,
   "id": "f2bc7d5d",
   "metadata": {
    "ExecuteTime": {
     "end_time": "2022-12-20T19:57:18.643810Z",
     "start_time": "2022-12-20T19:52:13.569658Z"
    }
   },
   "outputs": [
    {
     "name": "stdout",
     "output_type": "stream",
     "text": [
      "CPU times: user 3min 26s, sys: 6.49 s, total: 3min 32s\n",
      "Wall time: 11min 5s\n"
     ]
    },
    {
     "name": "stderr",
     "output_type": "stream",
     "text": [
      "/Users/staniewi/miniconda3/envs/mapping/lib/python3.10/site-packages/shapely/predicates.py:798: RuntimeWarning: invalid value encountered in intersects\n",
      "  return lib.intersects(a, b, **kwargs)\n"
     ]
    }
   ],
   "source": [
    "%%time\n",
    "\n",
    "ind_land = df_frames.geometry.intersects(land_geo)"
   ]
  },
  {
   "cell_type": "code",
   "execution_count": 76,
   "id": "c6826f0c",
   "metadata": {
    "ExecuteTime": {
     "end_time": "2022-12-20T19:57:18.666491Z",
     "start_time": "2022-12-20T19:57:18.645646Z"
    }
   },
   "outputs": [
    {
     "data": {
      "text/html": [
       "<div>\n",
       "<style scoped>\n",
       "    .dataframe tbody tr th:only-of-type {\n",
       "        vertical-align: middle;\n",
       "    }\n",
       "\n",
       "    .dataframe tbody tr th {\n",
       "        vertical-align: top;\n",
       "    }\n",
       "\n",
       "    .dataframe thead th {\n",
       "        text-align: right;\n",
       "    }\n",
       "</style>\n",
       "<table border=\"1\" class=\"dataframe\">\n",
       "  <thead>\n",
       "    <tr style=\"text-align: right;\">\n",
       "      <th></th>\n",
       "      <th>OGC_FID_min</th>\n",
       "      <th>OGC_FID_max</th>\n",
       "      <th>burst_id_min</th>\n",
       "      <th>burst_id_max</th>\n",
       "      <th>relative_orbit_numbers</th>\n",
       "      <th>look_direction</th>\n",
       "      <th>geometry</th>\n",
       "    </tr>\n",
       "  </thead>\n",
       "  <tbody>\n",
       "    <tr>\n",
       "      <th>0</th>\n",
       "      <td>25</td>\n",
       "      <td>54</td>\n",
       "      <td>9</td>\n",
       "      <td>18</td>\n",
       "      <td>1</td>\n",
       "      <td>ASCENDING</td>\n",
       "      <td>POLYGON Z ((3.05247 2.25444 0.00000, 3.05247 2...</td>\n",
       "    </tr>\n",
       "    <tr>\n",
       "      <th>1</th>\n",
       "      <td>49</td>\n",
       "      <td>78</td>\n",
       "      <td>17</td>\n",
       "      <td>26</td>\n",
       "      <td>1</td>\n",
       "      <td>ASCENDING</td>\n",
       "      <td>POLYGON Z ((2.77387 3.58901 0.00000, 2.77363 3...</td>\n",
       "    </tr>\n",
       "    <tr>\n",
       "      <th>2</th>\n",
       "      <td>73</td>\n",
       "      <td>102</td>\n",
       "      <td>25</td>\n",
       "      <td>34</td>\n",
       "      <td>1</td>\n",
       "      <td>ASCENDING</td>\n",
       "      <td>POLYGON Z ((2.49742 4.92387 0.00000, 2.49611 4...</td>\n",
       "    </tr>\n",
       "    <tr>\n",
       "      <th>3</th>\n",
       "      <td>97</td>\n",
       "      <td>126</td>\n",
       "      <td>33</td>\n",
       "      <td>42</td>\n",
       "      <td>1</td>\n",
       "      <td>ASCENDING</td>\n",
       "      <td>POLYGON Z ((2.22069 6.25855 0.00000, 2.22069 6...</td>\n",
       "    </tr>\n",
       "    <tr>\n",
       "      <th>4</th>\n",
       "      <td>121</td>\n",
       "      <td>150</td>\n",
       "      <td>41</td>\n",
       "      <td>50</td>\n",
       "      <td>1</td>\n",
       "      <td>ASCENDING</td>\n",
       "      <td>POLYGON Z ((1.94483 7.59326 0.00000, 1.94483 7...</td>\n",
       "    </tr>\n",
       "  </tbody>\n",
       "</table>\n",
       "</div>"
      ],
      "text/plain": [
       "   OGC_FID_min  OGC_FID_max  burst_id_min  burst_id_max  \\\n",
       "0           25           54             9            18   \n",
       "1           49           78            17            26   \n",
       "2           73          102            25            34   \n",
       "3           97          126            33            42   \n",
       "4          121          150            41            50   \n",
       "\n",
       "  relative_orbit_numbers look_direction  \\\n",
       "0                      1      ASCENDING   \n",
       "1                      1      ASCENDING   \n",
       "2                      1      ASCENDING   \n",
       "3                      1      ASCENDING   \n",
       "4                      1      ASCENDING   \n",
       "\n",
       "                                            geometry  \n",
       "0  POLYGON Z ((3.05247 2.25444 0.00000, 3.05247 2...  \n",
       "1  POLYGON Z ((2.77387 3.58901 0.00000, 2.77363 3...  \n",
       "2  POLYGON Z ((2.49742 4.92387 0.00000, 2.49611 4...  \n",
       "3  POLYGON Z ((2.22069 6.25855 0.00000, 2.22069 6...  \n",
       "4  POLYGON Z ((1.94483 7.59326 0.00000, 1.94483 7...  "
      ]
     },
     "execution_count": 76,
     "metadata": {},
     "output_type": "execute_result"
    }
   ],
   "source": [
    "df_frames_land = df_frames[ind_land].reset_index(drop=True)\n",
    "df_frames_land.head()"
   ]
  },
  {
   "cell_type": "markdown",
   "id": "1eabe035",
   "metadata": {},
   "source": [
    "Now that we have the total frames - we are going to assign frame ids."
   ]
  },
  {
   "cell_type": "code",
   "execution_count": 77,
   "id": "fa3ef397",
   "metadata": {
    "ExecuteTime": {
     "end_time": "2022-12-20T19:57:18.674970Z",
     "start_time": "2022-12-20T19:57:18.668137Z"
    }
   },
   "outputs": [],
   "source": [
    "df_frames_land = df_frames_land.reset_index(drop=False)\n",
    "df_frames_land.rename(columns={'index': 'frame_id'}, inplace=True)\n",
    "df_frames_land.loc[:, \"frame_id\"] += 1"
   ]
  },
  {
   "cell_type": "markdown",
   "id": "c3ee33c4",
   "metadata": {},
   "source": [
    "# Dateline Fix\n",
    "\n",
    "We take the multipolygons at the dateline and make sure we have geometries at the left and right hemispheres. This will mean we don't have to take care of this during enumeration of IFGs."
   ]
  },
  {
   "cell_type": "code",
   "execution_count": 80,
   "id": "8b400390",
   "metadata": {
    "ExecuteTime": {
     "end_time": "2022-12-20T19:57:18.679199Z",
     "start_time": "2022-12-20T19:57:18.676954Z"
    }
   },
   "outputs": [],
   "source": [
    "buffer = 5"
   ]
  },
  {
   "cell_type": "code",
   "execution_count": 81,
   "id": "d3d49f60",
   "metadata": {
    "ExecuteTime": {
     "end_time": "2022-12-20T19:57:19.539244Z",
     "start_time": "2022-12-20T19:57:18.680891Z"
    }
   },
   "outputs": [
    {
     "data": {
      "text/html": [
       "<div>\n",
       "<style scoped>\n",
       "    .dataframe tbody tr th:only-of-type {\n",
       "        vertical-align: middle;\n",
       "    }\n",
       "\n",
       "    .dataframe tbody tr th {\n",
       "        vertical-align: top;\n",
       "    }\n",
       "\n",
       "    .dataframe thead th {\n",
       "        text-align: right;\n",
       "    }\n",
       "</style>\n",
       "<table border=\"1\" class=\"dataframe\">\n",
       "  <thead>\n",
       "    <tr style=\"text-align: right;\">\n",
       "      <th></th>\n",
       "      <th>frame_id</th>\n",
       "      <th>OGC_FID_min</th>\n",
       "      <th>OGC_FID_max</th>\n",
       "      <th>burst_id_min</th>\n",
       "      <th>burst_id_max</th>\n",
       "      <th>relative_orbit_numbers</th>\n",
       "      <th>look_direction</th>\n",
       "      <th>geometry</th>\n",
       "    </tr>\n",
       "  </thead>\n",
       "  <tbody>\n",
       "    <tr>\n",
       "      <th>60</th>\n",
       "      <td>60</td>\n",
       "      <td>1897</td>\n",
       "      <td>1926</td>\n",
       "      <td>633</td>\n",
       "      <td>642</td>\n",
       "      <td>1</td>\n",
       "      <td>DESCENDING</td>\n",
       "      <td>POLYGON Z ((-175.13922 71.94575 0.00000, -175....</td>\n",
       "    </tr>\n",
       "    <tr>\n",
       "      <th>61</th>\n",
       "      <td>61</td>\n",
       "      <td>1921</td>\n",
       "      <td>1950</td>\n",
       "      <td>641</td>\n",
       "      <td>650</td>\n",
       "      <td>1</td>\n",
       "      <td>DESCENDING</td>\n",
       "      <td>MULTIPOLYGON Z (((-176.24122 70.60947 0.00000,...</td>\n",
       "    </tr>\n",
       "    <tr>\n",
       "      <th>62</th>\n",
       "      <td>62</td>\n",
       "      <td>1945</td>\n",
       "      <td>1974</td>\n",
       "      <td>649</td>\n",
       "      <td>658</td>\n",
       "      <td>1</td>\n",
       "      <td>DESCENDING</td>\n",
       "      <td>MULTIPOLYGON Z (((-177.19180 69.31480 0.00000,...</td>\n",
       "    </tr>\n",
       "    <tr>\n",
       "      <th>63</th>\n",
       "      <td>63</td>\n",
       "      <td>1969</td>\n",
       "      <td>1998</td>\n",
       "      <td>657</td>\n",
       "      <td>666</td>\n",
       "      <td>1</td>\n",
       "      <td>DESCENDING</td>\n",
       "      <td>MULTIPOLYGON Z (((-178.05114 68.01650 0.00000,...</td>\n",
       "    </tr>\n",
       "    <tr>\n",
       "      <th>64</th>\n",
       "      <td>64</td>\n",
       "      <td>1993</td>\n",
       "      <td>2022</td>\n",
       "      <td>665</td>\n",
       "      <td>674</td>\n",
       "      <td>1</td>\n",
       "      <td>DESCENDING</td>\n",
       "      <td>MULTIPOLYGON Z (((-178.83437 66.71513 0.00000,...</td>\n",
       "    </tr>\n",
       "  </tbody>\n",
       "</table>\n",
       "</div>"
      ],
      "text/plain": [
       "    frame_id  OGC_FID_min  OGC_FID_max  burst_id_min  burst_id_max  \\\n",
       "60        60         1897         1926           633           642   \n",
       "61        61         1921         1950           641           650   \n",
       "62        62         1945         1974           649           658   \n",
       "63        63         1969         1998           657           666   \n",
       "64        64         1993         2022           665           674   \n",
       "\n",
       "   relative_orbit_numbers look_direction  \\\n",
       "60                      1     DESCENDING   \n",
       "61                      1     DESCENDING   \n",
       "62                      1     DESCENDING   \n",
       "63                      1     DESCENDING   \n",
       "64                      1     DESCENDING   \n",
       "\n",
       "                                             geometry  \n",
       "60  POLYGON Z ((-175.13922 71.94575 0.00000, -175....  \n",
       "61  MULTIPOLYGON Z (((-176.24122 70.60947 0.00000,...  \n",
       "62  MULTIPOLYGON Z (((-177.19180 69.31480 0.00000,...  \n",
       "63  MULTIPOLYGON Z (((-178.05114 68.01650 0.00000,...  \n",
       "64  MULTIPOLYGON Z (((-178.83437 66.71513 0.00000,...  "
      ]
     },
     "execution_count": 81,
     "metadata": {},
     "output_type": "execute_result"
    }
   ],
   "source": [
    "df_dateline = df_frames_land.cx[:-180 + buffer,:]\n",
    "df_dateline.head()"
   ]
  },
  {
   "cell_type": "code",
   "execution_count": 82,
   "id": "a155c682",
   "metadata": {
    "ExecuteTime": {
     "end_time": "2022-12-20T19:57:19.546034Z",
     "start_time": "2022-12-20T19:57:19.540482Z"
    }
   },
   "outputs": [],
   "source": [
    "multipolygon_index = df_dateline.geometry.map(lambda geo: (geo.geom_type != 'Polygon'))\n",
    "df_dateline_multi = df_dateline[multipolygon_index].copy()"
   ]
  },
  {
   "cell_type": "markdown",
   "id": "97c53495",
   "metadata": {},
   "source": [
    "These plots show how the frames at the dateline are concatentated. There \"missing\" portion is in the right hemisphere."
   ]
  },
  {
   "cell_type": "code",
   "execution_count": 357,
   "id": "5ef3d0f0-a307-4392-9213-9e409bbc5ae6",
   "metadata": {},
   "outputs": [],
   "source": [
    "def antimeridian_epsg(mp):\n",
    "    y_c = mp.centroid.y\n",
    "    # check north/south pole cases\n",
    "    if y_c >= 84.0:\n",
    "        return 3413\n",
    "    elif y_c <= -60.0:\n",
    "        return 3031\n",
    "\n",
    "    # otherwise, do the weighted average of the shifted polygons to get the centroid\n",
    "    A = 0 \n",
    "    x_weighted = 0\n",
    "    # might have 2 or 3 polygons\n",
    "    for g in mp.geoms:\n",
    "        A += g.area\n",
    "        if g.centroid.x < 0:\n",
    "            g_shifted = translate(g, xoff=360)\n",
    "            x_weighted += g_shifted.centroid.x * g.area\n",
    "        else:\n",
    "            x_weighted += g.centroid.x * g.area\n",
    "    x_c = x_weighted / A\n",
    "    print(x_c)\n",
    "\n",
    "    base = 32600 if y_c > 0 else 32700\n",
    "    # longitude 179 gets 32660 north of the equator\n",
    "    # longitude -179 gets 32601\n",
    "    zone_addition = 1 if x_c < 180 else 60\n",
    "    return base + zone_addition"
   ]
  },
  {
   "cell_type": "code",
   "execution_count": 428,
   "id": "025ffa83-6ce1-4deb-b4fd-45b8457083dc",
   "metadata": {},
   "outputs": [],
   "source": [
    "# %%time\n",
    "\n",
    "# https://github.com/Turbo87/utm\n",
    "import utm\n",
    "\n",
    "epsgs = np.zeros(len(df_frames_land), dtype=int)\n",
    "\n",
    "# do the antimeridian frames first\n",
    "am_idxs = df_frames_land.geometry.map(lambda geo: (geo.geom_type != 'Polygon')).values\n",
    "epsgs[am_idxs] = df_frames_land[am_idxs].geometry.map(antimeridian_epsg)\n",
    "\n",
    "# everything else\n",
    "# get the x, y (lon, lat) coords of all other rows\n",
    "other_coords = np.array(df_frames_land[~am_idxs].geometry.map(lambda g: tuple(g.centroid.coords)[0]).tolist())\n",
    "xs, ys = other_coords.T\n",
    "ys_full_size = np.ones(len(epsgs)) * np.nan\n",
    "ys_full_size[~am_idxs] = ys\n",
    "\n",
    "idxs = np.logical_and.reduce((~am_idxs, ys_full_size > 84))\n",
    "epsgs[idxs] = 3413\n",
    "\n",
    "idxs = np.logical_and.reduce((~am_idxs, ys_full_size < -60))\n",
    "epsgs[idxs] = 3031\n",
    "\n",
    "utm_idxs = np.logical_and(ys < 84, ys > -60)\n",
    "north_idxs = ys[utm_idxs] > 0\n",
    "\n",
    "\n",
    "# North hemisphere\n",
    "\n",
    "zones_north = [utm.from_latlon(y, x)[2] for (y, x) in zip(ys[utm_idxs][north_idxs], xs[utm_idxs][north_idxs])]\n",
    "idxs = np.logical_and.reduce((~am_idxs, ys_full_size < 84, ys_full_size > 0))\n",
    "epsgs[idxs] = 32600 + np.array(zones_north)\n",
    "\n",
    "# South hemisphere\n",
    "\n",
    "zones_south = [utm.from_latlon(y, x)[2] for (y, x) in zip(ys[utm_idxs][~north_idxs], xs[utm_idxs][~north_idxs])]\n",
    "idxs = np.logical_and.reduce((~am_idxs, ys_full_size > -60, ys_full_size < 0))\n",
    "epsgs[idxs] = 32700 + np.array(zones_south)"
   ]
  },
  {
   "cell_type": "code",
   "execution_count": 435,
   "id": "d43cd0b3-adad-49ad-a306-c3d27aad2590",
   "metadata": {},
   "outputs": [
    {
     "data": {
      "text/plain": [
       "((24359, 8), (24359,))"
      ]
     },
     "execution_count": 435,
     "metadata": {},
     "output_type": "execute_result"
    }
   ],
   "source": [
    "df_frames_land.shape, epsgs.shape"
   ]
  },
  {
   "cell_type": "code",
   "execution_count": 432,
   "id": "0754d540-aba5-473c-8915-c50225426439",
   "metadata": {},
   "outputs": [
    {
     "data": {
      "text/html": [
       "<div>\n",
       "<style scoped>\n",
       "    .dataframe tbody tr th:only-of-type {\n",
       "        vertical-align: middle;\n",
       "    }\n",
       "\n",
       "    .dataframe tbody tr th {\n",
       "        vertical-align: top;\n",
       "    }\n",
       "\n",
       "    .dataframe thead th {\n",
       "        text-align: right;\n",
       "    }\n",
       "</style>\n",
       "<table border=\"1\" class=\"dataframe\">\n",
       "  <thead>\n",
       "    <tr style=\"text-align: right;\">\n",
       "      <th></th>\n",
       "      <th>frame_id</th>\n",
       "      <th>OGC_FID_min</th>\n",
       "      <th>OGC_FID_max</th>\n",
       "      <th>burst_id_min</th>\n",
       "      <th>burst_id_max</th>\n",
       "      <th>relative_orbit_numbers</th>\n",
       "      <th>look_direction</th>\n",
       "      <th>geometry</th>\n",
       "    </tr>\n",
       "  </thead>\n",
       "  <tbody>\n",
       "    <tr>\n",
       "      <th>0</th>\n",
       "      <td>0</td>\n",
       "      <td>25</td>\n",
       "      <td>54</td>\n",
       "      <td>9</td>\n",
       "      <td>18</td>\n",
       "      <td>1</td>\n",
       "      <td>ASCENDING</td>\n",
       "      <td>POLYGON Z ((3.05247 2.25444 0.00000, 3.05247 2...</td>\n",
       "    </tr>\n",
       "    <tr>\n",
       "      <th>1</th>\n",
       "      <td>1</td>\n",
       "      <td>49</td>\n",
       "      <td>78</td>\n",
       "      <td>17</td>\n",
       "      <td>26</td>\n",
       "      <td>1</td>\n",
       "      <td>ASCENDING</td>\n",
       "      <td>POLYGON Z ((2.77387 3.58901 0.00000, 2.77363 3...</td>\n",
       "    </tr>\n",
       "    <tr>\n",
       "      <th>2</th>\n",
       "      <td>2</td>\n",
       "      <td>73</td>\n",
       "      <td>102</td>\n",
       "      <td>25</td>\n",
       "      <td>34</td>\n",
       "      <td>1</td>\n",
       "      <td>ASCENDING</td>\n",
       "      <td>POLYGON Z ((2.49742 4.92387 0.00000, 2.49611 4...</td>\n",
       "    </tr>\n",
       "    <tr>\n",
       "      <th>3</th>\n",
       "      <td>3</td>\n",
       "      <td>97</td>\n",
       "      <td>126</td>\n",
       "      <td>33</td>\n",
       "      <td>42</td>\n",
       "      <td>1</td>\n",
       "      <td>ASCENDING</td>\n",
       "      <td>POLYGON Z ((2.22069 6.25855 0.00000, 2.22069 6...</td>\n",
       "    </tr>\n",
       "    <tr>\n",
       "      <th>4</th>\n",
       "      <td>4</td>\n",
       "      <td>121</td>\n",
       "      <td>150</td>\n",
       "      <td>41</td>\n",
       "      <td>50</td>\n",
       "      <td>1</td>\n",
       "      <td>ASCENDING</td>\n",
       "      <td>POLYGON Z ((1.94483 7.59326 0.00000, 1.94483 7...</td>\n",
       "    </tr>\n",
       "  </tbody>\n",
       "</table>\n",
       "</div>"
      ],
      "text/plain": [
       "   frame_id  OGC_FID_min  OGC_FID_max  burst_id_min  burst_id_max  \\\n",
       "0         0           25           54             9            18   \n",
       "1         1           49           78            17            26   \n",
       "2         2           73          102            25            34   \n",
       "3         3           97          126            33            42   \n",
       "4         4          121          150            41            50   \n",
       "\n",
       "  relative_orbit_numbers look_direction  \\\n",
       "0                      1      ASCENDING   \n",
       "1                      1      ASCENDING   \n",
       "2                      1      ASCENDING   \n",
       "3                      1      ASCENDING   \n",
       "4                      1      ASCENDING   \n",
       "\n",
       "                                            geometry  \n",
       "0  POLYGON Z ((3.05247 2.25444 0.00000, 3.05247 2...  \n",
       "1  POLYGON Z ((2.77387 3.58901 0.00000, 2.77363 3...  \n",
       "2  POLYGON Z ((2.49742 4.92387 0.00000, 2.49611 4...  \n",
       "3  POLYGON Z ((2.22069 6.25855 0.00000, 2.22069 6...  \n",
       "4  POLYGON Z ((1.94483 7.59326 0.00000, 1.94483 7...  "
      ]
     },
     "execution_count": 432,
     "metadata": {},
     "output_type": "execute_result"
    }
   ],
   "source": [
    "df_frames_land.head()"
   ]
  },
  {
   "cell_type": "code",
   "execution_count": 322,
   "id": "9af15329-8f18-4598-8daa-314420206fc2",
   "metadata": {},
   "outputs": [],
   "source": [
    "# %%time\n",
    "# df_frames_land.geometry.map(get_polygon_epsg)"
   ]
  },
  {
   "cell_type": "code",
   "execution_count": 294,
   "id": "32a70921-c957-4f5c-beea-54b89843ec8e",
   "metadata": {},
   "outputs": [],
   "source": [
    "# dd = df_dateline[multipolygon_index].copy()\n",
    "# am_centroids = dd.geometry.map(lambda geo: (geo.geoms[0].centroid.x, geo.geoms[1].centroid.x))\n",
    "# dd[am_centroids.map(lambda tup: tup[0] > tup[1])]"
   ]
  },
  {
   "cell_type": "code",
   "execution_count": 293,
   "id": "3b087888-f9c2-45f2-aafc-131ed99cadcf",
   "metadata": {},
   "outputs": [],
   "source": []
  },
  {
   "cell_type": "code",
   "execution_count": 504,
   "id": "8b3e550d-817b-43fa-96d8-15715d13be45",
   "metadata": {},
   "outputs": [
    {
     "data": {
      "text/html": [
       "<div>\n",
       "<style scoped>\n",
       "    .dataframe tbody tr th:only-of-type {\n",
       "        vertical-align: middle;\n",
       "    }\n",
       "\n",
       "    .dataframe tbody tr th {\n",
       "        vertical-align: top;\n",
       "    }\n",
       "\n",
       "    .dataframe thead th {\n",
       "        text-align: right;\n",
       "    }\n",
       "</style>\n",
       "<table border=\"1\" class=\"dataframe\">\n",
       "  <thead>\n",
       "    <tr style=\"text-align: right;\">\n",
       "      <th></th>\n",
       "      <th>geometry</th>\n",
       "      <th>burst_id</th>\n",
       "      <th>subswath_name</th>\n",
       "      <th>relative_orbit_number</th>\n",
       "      <th>time_from_anx_sec</th>\n",
       "      <th>orbit_pass</th>\n",
       "    </tr>\n",
       "    <tr>\n",
       "      <th>OGC_FID</th>\n",
       "      <th></th>\n",
       "      <th></th>\n",
       "      <th></th>\n",
       "      <th></th>\n",
       "      <th></th>\n",
       "      <th></th>\n",
       "    </tr>\n",
       "  </thead>\n",
       "  <tbody>\n",
       "    <tr>\n",
       "      <th>1</th>\n",
       "      <td>MULTIPOLYGON Z (((3.36758 0.75322 0.00000, 3.7...</td>\n",
       "      <td>1</td>\n",
       "      <td>IW1</td>\n",
       "      <td>1</td>\n",
       "      <td>2.301015</td>\n",
       "      <td>ASCENDING</td>\n",
       "    </tr>\n",
       "    <tr>\n",
       "      <th>2</th>\n",
       "      <td>MULTIPOLYGON Z (((4.09178 0.97402 0.00000, 4.5...</td>\n",
       "      <td>1</td>\n",
       "      <td>IW2</td>\n",
       "      <td>1</td>\n",
       "      <td>3.133218</td>\n",
       "      <td>ASCENDING</td>\n",
       "    </tr>\n",
       "    <tr>\n",
       "      <th>3</th>\n",
       "      <td>MULTIPOLYGON Z (((4.85545 1.19200 0.00000, 5.2...</td>\n",
       "      <td>1</td>\n",
       "      <td>IW3</td>\n",
       "      <td>1</td>\n",
       "      <td>4.211255</td>\n",
       "      <td>ASCENDING</td>\n",
       "    </tr>\n",
       "    <tr>\n",
       "      <th>4</th>\n",
       "      <td>MULTIPOLYGON Z (((3.33269 0.92005 0.00000, 3.7...</td>\n",
       "      <td>2</td>\n",
       "      <td>IW1</td>\n",
       "      <td>1</td>\n",
       "      <td>5.059288</td>\n",
       "      <td>ASCENDING</td>\n",
       "    </tr>\n",
       "    <tr>\n",
       "      <th>5</th>\n",
       "      <td>MULTIPOLYGON Z (((4.05690 1.14071 0.00000, 4.4...</td>\n",
       "      <td>2</td>\n",
       "      <td>IW2</td>\n",
       "      <td>1</td>\n",
       "      <td>5.891491</td>\n",
       "      <td>ASCENDING</td>\n",
       "    </tr>\n",
       "    <tr>\n",
       "      <th>6</th>\n",
       "      <td>MULTIPOLYGON Z (((4.82062 1.35851 0.00000, 5.1...</td>\n",
       "      <td>2</td>\n",
       "      <td>IW3</td>\n",
       "      <td>1</td>\n",
       "      <td>6.969528</td>\n",
       "      <td>ASCENDING</td>\n",
       "    </tr>\n",
       "    <tr>\n",
       "      <th>7</th>\n",
       "      <td>MULTIPOLYGON Z (((3.29783 1.08689 0.00000, 3.6...</td>\n",
       "      <td>3</td>\n",
       "      <td>IW1</td>\n",
       "      <td>1</td>\n",
       "      <td>7.817561</td>\n",
       "      <td>ASCENDING</td>\n",
       "    </tr>\n",
       "    <tr>\n",
       "      <th>8</th>\n",
       "      <td>MULTIPOLYGON Z (((4.02205 1.30740 0.00000, 4.4...</td>\n",
       "      <td>3</td>\n",
       "      <td>IW2</td>\n",
       "      <td>1</td>\n",
       "      <td>8.649764</td>\n",
       "      <td>ASCENDING</td>\n",
       "    </tr>\n",
       "    <tr>\n",
       "      <th>9</th>\n",
       "      <td>MULTIPOLYGON Z (((4.78582 1.52502 0.00000, 5.1...</td>\n",
       "      <td>3</td>\n",
       "      <td>IW3</td>\n",
       "      <td>1</td>\n",
       "      <td>9.727801</td>\n",
       "      <td>ASCENDING</td>\n",
       "    </tr>\n",
       "    <tr>\n",
       "      <th>10</th>\n",
       "      <td>MULTIPOLYGON Z (((3.26298 1.25374 0.00000, 3.6...</td>\n",
       "      <td>4</td>\n",
       "      <td>IW1</td>\n",
       "      <td>1</td>\n",
       "      <td>10.575834</td>\n",
       "      <td>ASCENDING</td>\n",
       "    </tr>\n",
       "  </tbody>\n",
       "</table>\n",
       "</div>"
      ],
      "text/plain": [
       "                                                  geometry  burst_id  \\\n",
       "OGC_FID                                                                \n",
       "1        MULTIPOLYGON Z (((3.36758 0.75322 0.00000, 3.7...         1   \n",
       "2        MULTIPOLYGON Z (((4.09178 0.97402 0.00000, 4.5...         1   \n",
       "3        MULTIPOLYGON Z (((4.85545 1.19200 0.00000, 5.2...         1   \n",
       "4        MULTIPOLYGON Z (((3.33269 0.92005 0.00000, 3.7...         2   \n",
       "5        MULTIPOLYGON Z (((4.05690 1.14071 0.00000, 4.4...         2   \n",
       "6        MULTIPOLYGON Z (((4.82062 1.35851 0.00000, 5.1...         2   \n",
       "7        MULTIPOLYGON Z (((3.29783 1.08689 0.00000, 3.6...         3   \n",
       "8        MULTIPOLYGON Z (((4.02205 1.30740 0.00000, 4.4...         3   \n",
       "9        MULTIPOLYGON Z (((4.78582 1.52502 0.00000, 5.1...         3   \n",
       "10       MULTIPOLYGON Z (((3.26298 1.25374 0.00000, 3.6...         4   \n",
       "\n",
       "        subswath_name  relative_orbit_number  time_from_anx_sec orbit_pass  \n",
       "OGC_FID                                                                     \n",
       "1                 IW1                      1           2.301015  ASCENDING  \n",
       "2                 IW2                      1           3.133218  ASCENDING  \n",
       "3                 IW3                      1           4.211255  ASCENDING  \n",
       "4                 IW1                      1           5.059288  ASCENDING  \n",
       "5                 IW2                      1           5.891491  ASCENDING  \n",
       "6                 IW3                      1           6.969528  ASCENDING  \n",
       "7                 IW1                      1           7.817561  ASCENDING  \n",
       "8                 IW2                      1           8.649764  ASCENDING  \n",
       "9                 IW3                      1           9.727801  ASCENDING  \n",
       "10                IW1                      1          10.575834  ASCENDING  "
      ]
     },
     "execution_count": 504,
     "metadata": {},
     "output_type": "execute_result"
    }
   ],
   "source": [
    "df_burst.iloc[:10].set_index(\"OGC_FID\")"
   ]
  },
  {
   "cell_type": "code",
   "execution_count": 506,
   "id": "bcb8192c-2575-478c-bd3f-d145c119afe7",
   "metadata": {},
   "outputs": [],
   "source": [
    "!rm test1.gpkg\n",
    "df_burst.iloc[:10].set_index(\"OGC_FID\").to_file(\"test1.gpkg\", driver=\"GPKG\", index=False)"
   ]
  },
  {
   "cell_type": "code",
   "execution_count": 501,
   "id": "5d2cdbc9-2d0a-457b-a7cc-b9d847ad1717",
   "metadata": {},
   "outputs": [
    {
     "name": "stdout",
     "output_type": "stream",
     "text": [
      "/Users/staniewi/Documents/Learning/notebooks\n"
     ]
    }
   ],
   "source": []
  },
  {
   "cell_type": "code",
   "execution_count": 87,
   "id": "f3001a42",
   "metadata": {
    "ExecuteTime": {
     "end_time": "2022-12-20T19:57:19.702912Z",
     "start_time": "2022-12-20T19:57:19.547610Z"
    }
   },
   "outputs": [
    {
     "data": {
      "text/plain": [
       "(-90.0, 90.0)"
      ]
     },
     "execution_count": 87,
     "metadata": {},
     "output_type": "execute_result"
    },
    {
     "data": {
      "image/png": "[encoded data removed]",
      "text/plain": [
       "<Figure size 720x1440 with 1 Axes>"
      ]
     },
     "metadata": {
      "needs_background": "light"
     },
     "output_type": "display_data"
    }
   ],
   "source": [
    "fig, ax = plt.subplots(figsize=(10, 20))\n",
    "ax.vlines(-180, -90, 90)\n",
    "df_dateline_multi.boundary.plot(ax=ax)\n",
    "ax.set_xlim(-200, -150)\n",
    "ax.set_ylim(-90, 90)"
   ]
  },
  {
   "cell_type": "code",
   "execution_count": 88,
   "id": "5196c667",
   "metadata": {
    "ExecuteTime": {
     "end_time": "2022-12-20T19:57:20.198597Z",
     "start_time": "2022-12-20T19:57:19.704462Z"
    }
   },
   "outputs": [
    {
     "name": "stderr",
     "output_type": "stream",
     "text": [
      "/var/folders/hw/sj9hl8555s36n00t812twvcr0000gq/T/ipykernel_89525/1531954237.py:5: UserWarning: Geometry is in a geographic CRS. Results from 'buffer' are likely incorrect. Use 'GeoSeries.to_crs()' to re-project geometries to a projected CRS before this operation.\n",
      "\n",
      "  geo_l = df_dateline_multi.translate(xoff=-360).buffer(1e-7)\n",
      "/Users/staniewi/miniconda3/envs/mapping/lib/python3.10/site-packages/shapely/constructive.py:181: RuntimeWarning: invalid value encountered in buffer\n",
      "  return lib.buffer(\n",
      "/Users/staniewi/miniconda3/envs/mapping/lib/python3.10/site-packages/shapely/set_operations.py:340: RuntimeWarning: invalid value encountered in union\n",
      "  return lib.union(a, b, **kwargs)\n",
      "/var/folders/hw/sj9hl8555s36n00t812twvcr0000gq/T/ipykernel_89525/1531954237.py:11: UserWarning: Geometry is in a geographic CRS. Results from 'buffer' are likely incorrect. Use 'GeoSeries.to_crs()' to re-project geometries to a projected CRS before this operation.\n",
      "\n",
      "  geo_r = df_dateline_multi.translate(xoff=360).buffer(1e-7)\n",
      "/Users/staniewi/miniconda3/envs/mapping/lib/python3.10/site-packages/shapely/constructive.py:181: RuntimeWarning: invalid value encountered in buffer\n",
      "  return lib.buffer(\n",
      "/Users/staniewi/miniconda3/envs/mapping/lib/python3.10/site-packages/shapely/set_operations.py:340: RuntimeWarning: invalid value encountered in union\n",
      "  return lib.union(a, b, **kwargs)\n"
     ]
    }
   ],
   "source": [
    "df_dateline_l = df_dateline_multi.copy()\n",
    "df_dateline_r = df_dateline_multi.copy()\n",
    "\n",
    "# The buffer ensures there is some overlap for merging by frame id\n",
    "geo_l = df_dateline_multi.translate(xoff=-360).buffer(1e-7)\n",
    "df_dateline_l.geometry = df_dateline_multi.geometry.union(geo_l)\n",
    "df_dateline_l_f = df_dateline_l.dissolve(by='frame_id', aggfunc='first').explode(index_parts=False)\n",
    "# only want the areas that are at the left hemisphere dateline\n",
    "df_dateline_l_f = df_dateline_l_f.cx[-180- 80:-180 + buffer, :].reset_index(drop=False)\n",
    "\n",
    "geo_r = df_dateline_multi.translate(xoff=360).buffer(1e-7)\n",
    "df_dateline_r.geometry = df_dateline_multi.geometry.union(geo_r)\n",
    "df_dateline_r_f = df_dateline_r.dissolve(by='frame_id', aggfunc='first').explode(index_parts=False)\n",
    "# only want the areas that are at the right hemisphere dateline\n",
    "df_dateline_r_f = df_dateline_r_f.cx[180 - buffer: 180 + 80, :].reset_index(drop=False)"
   ]
  },
  {
   "cell_type": "code",
   "execution_count": 89,
   "id": "379e9db7",
   "metadata": {
    "ExecuteTime": {
     "end_time": "2022-12-20T19:57:20.212058Z",
     "start_time": "2022-12-20T19:57:20.200132Z"
    }
   },
   "outputs": [
    {
     "data": {
      "text/html": [
       "<div>\n",
       "<style scoped>\n",
       "    .dataframe tbody tr th:only-of-type {\n",
       "        vertical-align: middle;\n",
       "    }\n",
       "\n",
       "    .dataframe tbody tr th {\n",
       "        vertical-align: top;\n",
       "    }\n",
       "\n",
       "    .dataframe thead th {\n",
       "        text-align: right;\n",
       "    }\n",
       "</style>\n",
       "<table border=\"1\" class=\"dataframe\">\n",
       "  <thead>\n",
       "    <tr style=\"text-align: right;\">\n",
       "      <th></th>\n",
       "      <th>frame_id</th>\n",
       "      <th>OGC_FID_min</th>\n",
       "      <th>OGC_FID_max</th>\n",
       "      <th>burst_id_min</th>\n",
       "      <th>burst_id_max</th>\n",
       "      <th>relative_orbit_numbers</th>\n",
       "      <th>look_direction</th>\n",
       "      <th>geometry</th>\n",
       "    </tr>\n",
       "  </thead>\n",
       "  <tbody>\n",
       "    <tr>\n",
       "      <th>0</th>\n",
       "      <td>61</td>\n",
       "      <td>1921</td>\n",
       "      <td>1950</td>\n",
       "      <td>641</td>\n",
       "      <td>650</td>\n",
       "      <td>1</td>\n",
       "      <td>DESCENDING</td>\n",
       "      <td>POLYGON Z ((-178.60410 70.72891 0.00000, -179....</td>\n",
       "    </tr>\n",
       "    <tr>\n",
       "      <th>1</th>\n",
       "      <td>62</td>\n",
       "      <td>1945</td>\n",
       "      <td>1974</td>\n",
       "      <td>649</td>\n",
       "      <td>658</td>\n",
       "      <td>1</td>\n",
       "      <td>DESCENDING</td>\n",
       "      <td>POLYGON Z ((-179.41537 69.42670 0.00000, -180....</td>\n",
       "    </tr>\n",
       "    <tr>\n",
       "      <th>2</th>\n",
       "      <td>63</td>\n",
       "      <td>1969</td>\n",
       "      <td>1998</td>\n",
       "      <td>657</td>\n",
       "      <td>666</td>\n",
       "      <td>1</td>\n",
       "      <td>DESCENDING</td>\n",
       "      <td>POLYGON Z ((-180.00000 68.17156 0.00000, -180....</td>\n",
       "    </tr>\n",
       "    <tr>\n",
       "      <th>3</th>\n",
       "      <td>64</td>\n",
       "      <td>1993</td>\n",
       "      <td>2022</td>\n",
       "      <td>665</td>\n",
       "      <td>674</td>\n",
       "      <td>1</td>\n",
       "      <td>DESCENDING</td>\n",
       "      <td>POLYGON Z ((-180.00000 66.81243 0.00000, -180....</td>\n",
       "    </tr>\n",
       "    <tr>\n",
       "      <th>4</th>\n",
       "      <td>65</td>\n",
       "      <td>2017</td>\n",
       "      <td>2046</td>\n",
       "      <td>673</td>\n",
       "      <td>682</td>\n",
       "      <td>1</td>\n",
       "      <td>DESCENDING</td>\n",
       "      <td>POLYGON Z ((-180.00000 65.44949 0.00000, -180....</td>\n",
       "    </tr>\n",
       "  </tbody>\n",
       "</table>\n",
       "</div>"
      ],
      "text/plain": [
       "   frame_id  OGC_FID_min  OGC_FID_max  burst_id_min  burst_id_max  \\\n",
       "0        61         1921         1950           641           650   \n",
       "1        62         1945         1974           649           658   \n",
       "2        63         1969         1998           657           666   \n",
       "3        64         1993         2022           665           674   \n",
       "4        65         2017         2046           673           682   \n",
       "\n",
       "  relative_orbit_numbers look_direction  \\\n",
       "0                      1     DESCENDING   \n",
       "1                      1     DESCENDING   \n",
       "2                      1     DESCENDING   \n",
       "3                      1     DESCENDING   \n",
       "4                      1     DESCENDING   \n",
       "\n",
       "                                            geometry  \n",
       "0  POLYGON Z ((-178.60410 70.72891 0.00000, -179....  \n",
       "1  POLYGON Z ((-179.41537 69.42670 0.00000, -180....  \n",
       "2  POLYGON Z ((-180.00000 68.17156 0.00000, -180....  \n",
       "3  POLYGON Z ((-180.00000 66.81243 0.00000, -180....  \n",
       "4  POLYGON Z ((-180.00000 65.44949 0.00000, -180....  "
      ]
     },
     "execution_count": 89,
     "metadata": {},
     "output_type": "execute_result"
    }
   ],
   "source": [
    "df_dateline_l_f.head()"
   ]
  },
  {
   "cell_type": "markdown",
   "id": "be479e40",
   "metadata": {
    "ExecuteTime": {
     "end_time": "2022-12-20T18:41:52.631377Z",
     "start_time": "2022-12-20T18:41:52.628201Z"
    }
   },
   "source": [
    "These few plots summarize our geometric manipulations showing the how we merged at each hemisphere."
   ]
  },
  {
   "cell_type": "code",
   "execution_count": 90,
   "id": "c2d8a085",
   "metadata": {
    "ExecuteTime": {
     "end_time": "2022-12-20T19:57:20.409575Z",
     "start_time": "2022-12-20T19:57:20.215429Z"
    }
   },
   "outputs": [
    {
     "data": {
      "text/plain": [
       "(-70.0, 50.0)"
      ]
     },
     "execution_count": 90,
     "metadata": {},
     "output_type": "execute_result"
    },
    {
     "data": {
      "image/png": "[encoded data removed]",
      "text/plain": [
       "<Figure size 720x1440 with 1 Axes>"
      ]
     },
     "metadata": {
      "needs_background": "light"
     },
     "output_type": "display_data"
    }
   ],
   "source": [
    "fig, ax = plt.subplots(figsize=(10, 20))\n",
    "\n",
    "df_dateline_l_f.boundary.plot(ax = ax)\n",
    "ax.set_xlim(-200, -150)\n",
    "ax.set_ylim(-70, 50)"
   ]
  },
  {
   "cell_type": "code",
   "execution_count": 91,
   "id": "5e923100",
   "metadata": {
    "ExecuteTime": {
     "end_time": "2022-12-20T19:57:20.602387Z",
     "start_time": "2022-12-20T19:57:20.411098Z"
    }
   },
   "outputs": [
    {
     "data": {
      "text/plain": [
       "(-70.0, 50.0)"
      ]
     },
     "execution_count": 91,
     "metadata": {},
     "output_type": "execute_result"
    },
    {
     "data": {
      "image/png": "[encoded data removed]",
      "text/plain": [
       "<Figure size 720x1440 with 1 Axes>"
      ]
     },
     "metadata": {
      "needs_background": "light"
     },
     "output_type": "display_data"
    }
   ],
   "source": [
    "fig, ax = plt.subplots(figsize=(10, 20))\n",
    "\n",
    "df_dateline_r_f.boundary.plot(ax = ax)\n",
    "ax.set_xlim(150, 200)\n",
    "ax.set_ylim(-70, 50)"
   ]
  },
  {
   "cell_type": "code",
   "execution_count": 95,
   "id": "7fdeb77c-2eca-4ad9-8ae4-0642a8a844a6",
   "metadata": {},
   "outputs": [],
   "source": [
    "# df_dateline_l_f.frame_id.tolist()\n",
    "# df_dateline_r_f.frame_id.tolist()"
   ]
  },
  {
   "cell_type": "code",
   "execution_count": 96,
   "id": "2ceb28ab",
   "metadata": {
    "ExecuteTime": {
     "end_time": "2022-12-20T19:57:20.606558Z",
     "start_time": "2022-12-20T19:57:20.603937Z"
    }
   },
   "outputs": [],
   "source": [
    "frame_ids_l = df_dateline_l_f.frame_id.tolist()\n",
    "frame_ids_r = df_dateline_r_f.frame_id.tolist()\n",
    "frame_ids_dateline = list(set(frame_ids_l + frame_ids_r))"
   ]
  },
  {
   "cell_type": "code",
   "execution_count": 97,
   "id": "bf79b57f",
   "metadata": {
    "ExecuteTime": {
     "end_time": "2022-12-20T19:57:20.638962Z",
     "start_time": "2022-12-20T19:57:20.608121Z"
    }
   },
   "outputs": [
    {
     "data": {
      "text/html": [
       "<div>\n",
       "<style scoped>\n",
       "    .dataframe tbody tr th:only-of-type {\n",
       "        vertical-align: middle;\n",
       "    }\n",
       "\n",
       "    .dataframe tbody tr th {\n",
       "        vertical-align: top;\n",
       "    }\n",
       "\n",
       "    .dataframe thead th {\n",
       "        text-align: right;\n",
       "    }\n",
       "</style>\n",
       "<table border=\"1\" class=\"dataframe\">\n",
       "  <thead>\n",
       "    <tr style=\"text-align: right;\">\n",
       "      <th></th>\n",
       "      <th>frame_id</th>\n",
       "      <th>OGC_FID_min</th>\n",
       "      <th>OGC_FID_max</th>\n",
       "      <th>burst_id_min</th>\n",
       "      <th>burst_id_max</th>\n",
       "      <th>relative_orbit_numbers</th>\n",
       "      <th>look_direction</th>\n",
       "      <th>geometry</th>\n",
       "    </tr>\n",
       "  </thead>\n",
       "  <tbody>\n",
       "    <tr>\n",
       "      <th>0</th>\n",
       "      <td>0</td>\n",
       "      <td>25</td>\n",
       "      <td>54</td>\n",
       "      <td>9</td>\n",
       "      <td>18</td>\n",
       "      <td>1</td>\n",
       "      <td>ASCENDING</td>\n",
       "      <td>POLYGON Z ((3.05247 2.25444 0.00000, 3.05247 2...</td>\n",
       "    </tr>\n",
       "    <tr>\n",
       "      <th>1</th>\n",
       "      <td>1</td>\n",
       "      <td>49</td>\n",
       "      <td>78</td>\n",
       "      <td>17</td>\n",
       "      <td>26</td>\n",
       "      <td>1</td>\n",
       "      <td>ASCENDING</td>\n",
       "      <td>POLYGON Z ((2.77387 3.58901 0.00000, 2.77363 3...</td>\n",
       "    </tr>\n",
       "    <tr>\n",
       "      <th>2</th>\n",
       "      <td>2</td>\n",
       "      <td>73</td>\n",
       "      <td>102</td>\n",
       "      <td>25</td>\n",
       "      <td>34</td>\n",
       "      <td>1</td>\n",
       "      <td>ASCENDING</td>\n",
       "      <td>POLYGON Z ((2.49742 4.92387 0.00000, 2.49611 4...</td>\n",
       "    </tr>\n",
       "    <tr>\n",
       "      <th>3</th>\n",
       "      <td>3</td>\n",
       "      <td>97</td>\n",
       "      <td>126</td>\n",
       "      <td>33</td>\n",
       "      <td>42</td>\n",
       "      <td>1</td>\n",
       "      <td>ASCENDING</td>\n",
       "      <td>POLYGON Z ((2.22069 6.25855 0.00000, 2.22069 6...</td>\n",
       "    </tr>\n",
       "    <tr>\n",
       "      <th>4</th>\n",
       "      <td>4</td>\n",
       "      <td>121</td>\n",
       "      <td>150</td>\n",
       "      <td>41</td>\n",
       "      <td>50</td>\n",
       "      <td>1</td>\n",
       "      <td>ASCENDING</td>\n",
       "      <td>POLYGON Z ((1.94483 7.59326 0.00000, 1.94483 7...</td>\n",
       "    </tr>\n",
       "  </tbody>\n",
       "</table>\n",
       "</div>"
      ],
      "text/plain": [
       "   frame_id  OGC_FID_min  OGC_FID_max  burst_id_min  burst_id_max  \\\n",
       "0         0           25           54             9            18   \n",
       "1         1           49           78            17            26   \n",
       "2         2           73          102            25            34   \n",
       "3         3           97          126            33            42   \n",
       "4         4          121          150            41            50   \n",
       "\n",
       "  relative_orbit_numbers look_direction  \\\n",
       "0                      1      ASCENDING   \n",
       "1                      1      ASCENDING   \n",
       "2                      1      ASCENDING   \n",
       "3                      1      ASCENDING   \n",
       "4                      1      ASCENDING   \n",
       "\n",
       "                                            geometry  \n",
       "0  POLYGON Z ((3.05247 2.25444 0.00000, 3.05247 2...  \n",
       "1  POLYGON Z ((2.77387 3.58901 0.00000, 2.77363 3...  \n",
       "2  POLYGON Z ((2.49742 4.92387 0.00000, 2.49611 4...  \n",
       "3  POLYGON Z ((2.22069 6.25855 0.00000, 2.22069 6...  \n",
       "4  POLYGON Z ((1.94483 7.59326 0.00000, 1.94483 7...  "
      ]
     },
     "execution_count": 97,
     "metadata": {},
     "output_type": "execute_result"
    }
   ],
   "source": [
    "dateline_ind = df_frames_land.frame_id.isin(frame_ids_dateline)\n",
    "df_dateline_removed = df_frames_land[~dateline_ind].copy()\n",
    "dfs = [df_dateline_removed, df_dateline_r_f, df_dateline_l_f]\n",
    "df_frames_final = pd.concat(dfs, axis=0).reset_index(drop=True)\n",
    "df_frames_final.head()"
   ]
  },
  {
   "cell_type": "code",
   "execution_count": 227,
   "id": "4eaf3b7f-e478-45e4-80e5-8bb2d68fc068",
   "metadata": {},
   "outputs": [
    {
     "data": {
      "text/html": [
       "<div>\n",
       "<style scoped>\n",
       "    .dataframe tbody tr th:only-of-type {\n",
       "        vertical-align: middle;\n",
       "    }\n",
       "\n",
       "    .dataframe tbody tr th {\n",
       "        vertical-align: top;\n",
       "    }\n",
       "\n",
       "    .dataframe thead th {\n",
       "        text-align: right;\n",
       "    }\n",
       "</style>\n",
       "<table border=\"1\" class=\"dataframe\">\n",
       "  <thead>\n",
       "    <tr style=\"text-align: right;\">\n",
       "      <th></th>\n",
       "      <th>frame_id</th>\n",
       "      <th>OGC_FID_min</th>\n",
       "      <th>OGC_FID_max</th>\n",
       "      <th>burst_id_min</th>\n",
       "      <th>burst_id_max</th>\n",
       "      <th>relative_orbit_numbers</th>\n",
       "      <th>look_direction</th>\n",
       "      <th>geometry</th>\n",
       "    </tr>\n",
       "  </thead>\n",
       "  <tbody>\n",
       "    <tr>\n",
       "      <th>21646</th>\n",
       "      <td>21610</td>\n",
       "      <td>1125091</td>\n",
       "      <td>1125120</td>\n",
       "      <td>375031</td>\n",
       "      <td>375040</td>\n",
       "      <td>175</td>\n",
       "      <td>DESCENDING</td>\n",
       "      <td>POLYGON Z ((178.97555 -37.11883 0.00000, 178.5...</td>\n",
       "    </tr>\n",
       "    <tr>\n",
       "      <th>21787</th>\n",
       "      <td>21610</td>\n",
       "      <td>1125091</td>\n",
       "      <td>1125120</td>\n",
       "      <td>375031</td>\n",
       "      <td>375040</td>\n",
       "      <td>175</td>\n",
       "      <td>DESCENDING</td>\n",
       "      <td>POLYGON Z ((-180.00000 -35.68179 0.00000, -180...</td>\n",
       "    </tr>\n",
       "  </tbody>\n",
       "</table>\n",
       "</div>"
      ],
      "text/plain": [
       "       frame_id  OGC_FID_min  OGC_FID_max  burst_id_min  burst_id_max  \\\n",
       "21646     21610      1125091      1125120        375031        375040   \n",
       "21787     21610      1125091      1125120        375031        375040   \n",
       "\n",
       "      relative_orbit_numbers look_direction  \\\n",
       "21646                    175     DESCENDING   \n",
       "21787                    175     DESCENDING   \n",
       "\n",
       "                                                geometry  \n",
       "21646  POLYGON Z ((178.97555 -37.11883 0.00000, 178.5...  \n",
       "21787  POLYGON Z ((-180.00000 -35.68179 0.00000, -180...  "
      ]
     },
     "execution_count": 227,
     "metadata": {},
     "output_type": "execute_result"
    }
   ],
   "source": [
    "df_frames_final[21610 == df_frames_final.frame_id]"
   ]
  },
  {
   "cell_type": "code",
   "execution_count": 195,
   "id": "5eb357d0-2ef1-4e7a-bed6-9bc07179e5c3",
   "metadata": {},
   "outputs": [
    {
     "data": {
      "text/plain": [
       "(29, 29)"
      ]
     },
     "execution_count": 195,
     "metadata": {},
     "output_type": "execute_result"
    }
   ],
   "source": [
    "1125039 - 1125010, 1125120 - 1125091"
   ]
  },
  {
   "cell_type": "code",
   "execution_count": 193,
   "id": "ae71375c-7d13-41d2-b8cb-2e474421a2b8",
   "metadata": {},
   "outputs": [
    {
     "data": {
      "text/html": [
       "<div>\n",
       "<style scoped>\n",
       "    .dataframe tbody tr th:only-of-type {\n",
       "        vertical-align: middle;\n",
       "    }\n",
       "\n",
       "    .dataframe tbody tr th {\n",
       "        vertical-align: top;\n",
       "    }\n",
       "\n",
       "    .dataframe thead th {\n",
       "        text-align: right;\n",
       "    }\n",
       "</style>\n",
       "<table border=\"1\" class=\"dataframe\">\n",
       "  <thead>\n",
       "    <tr style=\"text-align: right;\">\n",
       "      <th></th>\n",
       "      <th>frame_id</th>\n",
       "      <th>OGC_FID_min</th>\n",
       "      <th>OGC_FID_max</th>\n",
       "      <th>burst_id_min</th>\n",
       "      <th>burst_id_max</th>\n",
       "      <th>relative_orbit_numbers</th>\n",
       "      <th>look_direction</th>\n",
       "      <th>geometry</th>\n",
       "    </tr>\n",
       "  </thead>\n",
       "  <tbody>\n",
       "    <tr>\n",
       "      <th>21783</th>\n",
       "      <td>21606</td>\n",
       "      <td>1124929</td>\n",
       "      <td>1124958</td>\n",
       "      <td>374977</td>\n",
       "      <td>374986</td>\n",
       "      <td>175</td>\n",
       "      <td>DESCENDING</td>\n",
       "      <td>POLYGON Z ((-178.15174 -28.25211 0.00000, -178...</td>\n",
       "    </tr>\n",
       "    <tr>\n",
       "      <th>21784</th>\n",
       "      <td>21607</td>\n",
       "      <td>1124956</td>\n",
       "      <td>1124985</td>\n",
       "      <td>374986</td>\n",
       "      <td>374995</td>\n",
       "      <td>175</td>\n",
       "      <td>DESCENDING</td>\n",
       "      <td>POLYGON Z ((-178.98142 -29.64642 0.00000, -178...</td>\n",
       "    </tr>\n",
       "    <tr>\n",
       "      <th>21785</th>\n",
       "      <td>21608</td>\n",
       "      <td>1124983</td>\n",
       "      <td>1125012</td>\n",
       "      <td>374995</td>\n",
       "      <td>375004</td>\n",
       "      <td>175</td>\n",
       "      <td>DESCENDING</td>\n",
       "      <td>POLYGON Z ((-179.44244 -31.12599 0.00000, -179...</td>\n",
       "    </tr>\n",
       "    <tr>\n",
       "      <th>21786</th>\n",
       "      <td>21609</td>\n",
       "      <td>1125010</td>\n",
       "      <td>1125039</td>\n",
       "      <td>375004</td>\n",
       "      <td>375013</td>\n",
       "      <td>175</td>\n",
       "      <td>DESCENDING</td>\n",
       "      <td>POLYGON Z ((-179.91796 -32.60357 0.00000, -179...</td>\n",
       "    </tr>\n",
       "    <tr>\n",
       "      <th>21787</th>\n",
       "      <td>21610</td>\n",
       "      <td>1125091</td>\n",
       "      <td>1125120</td>\n",
       "      <td>375031</td>\n",
       "      <td>375040</td>\n",
       "      <td>175</td>\n",
       "      <td>DESCENDING</td>\n",
       "      <td>POLYGON Z ((-180.00000 -35.68179 0.00000, -180...</td>\n",
       "    </tr>\n",
       "  </tbody>\n",
       "</table>\n",
       "</div>"
      ],
      "text/plain": [
       "       frame_id  OGC_FID_min  OGC_FID_max  burst_id_min  burst_id_max  \\\n",
       "21783     21606      1124929      1124958        374977        374986   \n",
       "21784     21607      1124956      1124985        374986        374995   \n",
       "21785     21608      1124983      1125012        374995        375004   \n",
       "21786     21609      1125010      1125039        375004        375013   \n",
       "21787     21610      1125091      1125120        375031        375040   \n",
       "\n",
       "      relative_orbit_numbers look_direction  \\\n",
       "21783                    175     DESCENDING   \n",
       "21784                    175     DESCENDING   \n",
       "21785                    175     DESCENDING   \n",
       "21786                    175     DESCENDING   \n",
       "21787                    175     DESCENDING   \n",
       "\n",
       "                                                geometry  \n",
       "21783  POLYGON Z ((-178.15174 -28.25211 0.00000, -178...  \n",
       "21784  POLYGON Z ((-178.98142 -29.64642 0.00000, -178...  \n",
       "21785  POLYGON Z ((-179.44244 -31.12599 0.00000, -179...  \n",
       "21786  POLYGON Z ((-179.91796 -32.60357 0.00000, -179...  \n",
       "21787  POLYGON Z ((-180.00000 -35.68179 0.00000, -180...  "
      ]
     },
     "execution_count": 193,
     "metadata": {},
     "output_type": "execute_result"
    }
   ],
   "source": [
    "df_frames_final.tail()"
   ]
  },
  {
   "cell_type": "markdown",
   "id": "10def457",
   "metadata": {},
   "source": [
    "# Serialization\n",
    "\n",
    "Uncomment to inspect."
   ]
  },
  {
   "cell_type": "code",
   "execution_count": 98,
   "id": "6a145114",
   "metadata": {
    "ExecuteTime": {
     "end_time": "2022-12-20T19:57:20.642584Z",
     "start_time": "2022-12-20T19:57:20.640542Z"
    }
   },
   "outputs": [],
   "source": [
    "df_frames_final.to_file('s1-frames.geojson', driver='GeoJSON')\n",
    "df_frames_final.to_file('s1-frames.gpkg', driver='GPKG')"
   ]
  },
  {
   "cell_type": "code",
   "execution_count": 148,
   "id": "a262b295-81fb-465b-a528-90ba04853b2c",
   "metadata": {},
   "outputs": [
    {
     "data": {
      "text/html": [
       "<div>\n",
       "<style scoped>\n",
       "    .dataframe tbody tr th:only-of-type {\n",
       "        vertical-align: middle;\n",
       "    }\n",
       "\n",
       "    .dataframe tbody tr th {\n",
       "        vertical-align: top;\n",
       "    }\n",
       "\n",
       "    .dataframe thead th {\n",
       "        text-align: right;\n",
       "    }\n",
       "</style>\n",
       "<table border=\"1\" class=\"dataframe\">\n",
       "  <thead>\n",
       "    <tr style=\"text-align: right;\">\n",
       "      <th></th>\n",
       "      <th>frame_id</th>\n",
       "      <th>OGC_FID_min</th>\n",
       "      <th>OGC_FID_max</th>\n",
       "      <th>burst_id_min</th>\n",
       "      <th>burst_id_max</th>\n",
       "      <th>relative_orbit_numbers</th>\n",
       "      <th>look_direction</th>\n",
       "      <th>geometry</th>\n",
       "    </tr>\n",
       "  </thead>\n",
       "  <tbody>\n",
       "    <tr>\n",
       "      <th>0</th>\n",
       "      <td>1</td>\n",
       "      <td>28</td>\n",
       "      <td>57</td>\n",
       "      <td>10</td>\n",
       "      <td>19</td>\n",
       "      <td>1</td>\n",
       "      <td>ASCENDING</td>\n",
       "      <td>POLYGON Z ((3.01777 2.42129 0.00000, 3.01776 2...</td>\n",
       "    </tr>\n",
       "    <tr>\n",
       "      <th>1</th>\n",
       "      <td>2</td>\n",
       "      <td>55</td>\n",
       "      <td>84</td>\n",
       "      <td>19</td>\n",
       "      <td>28</td>\n",
       "      <td>1</td>\n",
       "      <td>ASCENDING</td>\n",
       "      <td>POLYGON Z ((2.70450 3.92269 0.00000, 2.70450 3...</td>\n",
       "    </tr>\n",
       "    <tr>\n",
       "      <th>2</th>\n",
       "      <td>3</td>\n",
       "      <td>82</td>\n",
       "      <td>111</td>\n",
       "      <td>28</td>\n",
       "      <td>37</td>\n",
       "      <td>1</td>\n",
       "      <td>ASCENDING</td>\n",
       "      <td>POLYGON Z ((2.39275 5.42421 0.00000, 2.39275 5...</td>\n",
       "    </tr>\n",
       "    <tr>\n",
       "      <th>3</th>\n",
       "      <td>4</td>\n",
       "      <td>109</td>\n",
       "      <td>138</td>\n",
       "      <td>37</td>\n",
       "      <td>46</td>\n",
       "      <td>1</td>\n",
       "      <td>ASCENDING</td>\n",
       "      <td>POLYGON Z ((2.08218 6.92580 0.00000, 2.08218 6...</td>\n",
       "    </tr>\n",
       "    <tr>\n",
       "      <th>4</th>\n",
       "      <td>5</td>\n",
       "      <td>136</td>\n",
       "      <td>165</td>\n",
       "      <td>46</td>\n",
       "      <td>55</td>\n",
       "      <td>1</td>\n",
       "      <td>ASCENDING</td>\n",
       "      <td>POLYGON Z ((1.77252 8.42742 0.00000, 1.77252 8...</td>\n",
       "    </tr>\n",
       "    <tr>\n",
       "      <th>...</th>\n",
       "      <td>...</td>\n",
       "      <td>...</td>\n",
       "      <td>...</td>\n",
       "      <td>...</td>\n",
       "      <td>...</td>\n",
       "      <td>...</td>\n",
       "      <td>...</td>\n",
       "      <td>...</td>\n",
       "    </tr>\n",
       "    <tr>\n",
       "      <th>21783</th>\n",
       "      <td>21606</td>\n",
       "      <td>1124929</td>\n",
       "      <td>1124958</td>\n",
       "      <td>374977</td>\n",
       "      <td>374986</td>\n",
       "      <td>175</td>\n",
       "      <td>DESCENDING</td>\n",
       "      <td>POLYGON Z ((-178.15174 -28.25211 0.00000, -178...</td>\n",
       "    </tr>\n",
       "    <tr>\n",
       "      <th>21784</th>\n",
       "      <td>21607</td>\n",
       "      <td>1124956</td>\n",
       "      <td>1124985</td>\n",
       "      <td>374986</td>\n",
       "      <td>374995</td>\n",
       "      <td>175</td>\n",
       "      <td>DESCENDING</td>\n",
       "      <td>POLYGON Z ((-178.98142 -29.64642 0.00000, -178...</td>\n",
       "    </tr>\n",
       "    <tr>\n",
       "      <th>21785</th>\n",
       "      <td>21608</td>\n",
       "      <td>1124983</td>\n",
       "      <td>1125012</td>\n",
       "      <td>374995</td>\n",
       "      <td>375004</td>\n",
       "      <td>175</td>\n",
       "      <td>DESCENDING</td>\n",
       "      <td>POLYGON Z ((-179.44244 -31.12599 0.00000, -179...</td>\n",
       "    </tr>\n",
       "    <tr>\n",
       "      <th>21786</th>\n",
       "      <td>21609</td>\n",
       "      <td>1125010</td>\n",
       "      <td>1125039</td>\n",
       "      <td>375004</td>\n",
       "      <td>375013</td>\n",
       "      <td>175</td>\n",
       "      <td>DESCENDING</td>\n",
       "      <td>POLYGON Z ((-179.91796 -32.60357 0.00000, -179...</td>\n",
       "    </tr>\n",
       "    <tr>\n",
       "      <th>21787</th>\n",
       "      <td>21610</td>\n",
       "      <td>1125091</td>\n",
       "      <td>1125120</td>\n",
       "      <td>375031</td>\n",
       "      <td>375040</td>\n",
       "      <td>175</td>\n",
       "      <td>DESCENDING</td>\n",
       "      <td>POLYGON Z ((-180.00000 -35.68179 0.00000, -180...</td>\n",
       "    </tr>\n",
       "  </tbody>\n",
       "</table>\n",
       "<p>21788 rows × 8 columns</p>\n",
       "</div>"
      ],
      "text/plain": [
       "       frame_id  OGC_FID_min  OGC_FID_max  burst_id_min  burst_id_max  \\\n",
       "0             1           28           57            10            19   \n",
       "1             2           55           84            19            28   \n",
       "2             3           82          111            28            37   \n",
       "3             4          109          138            37            46   \n",
       "4             5          136          165            46            55   \n",
       "...         ...          ...          ...           ...           ...   \n",
       "21783     21606      1124929      1124958        374977        374986   \n",
       "21784     21607      1124956      1124985        374986        374995   \n",
       "21785     21608      1124983      1125012        374995        375004   \n",
       "21786     21609      1125010      1125039        375004        375013   \n",
       "21787     21610      1125091      1125120        375031        375040   \n",
       "\n",
       "      relative_orbit_numbers look_direction  \\\n",
       "0                          1      ASCENDING   \n",
       "1                          1      ASCENDING   \n",
       "2                          1      ASCENDING   \n",
       "3                          1      ASCENDING   \n",
       "4                          1      ASCENDING   \n",
       "...                      ...            ...   \n",
       "21783                    175     DESCENDING   \n",
       "21784                    175     DESCENDING   \n",
       "21785                    175     DESCENDING   \n",
       "21786                    175     DESCENDING   \n",
       "21787                    175     DESCENDING   \n",
       "\n",
       "                                                geometry  \n",
       "0      POLYGON Z ((3.01777 2.42129 0.00000, 3.01776 2...  \n",
       "1      POLYGON Z ((2.70450 3.92269 0.00000, 2.70450 3...  \n",
       "2      POLYGON Z ((2.39275 5.42421 0.00000, 2.39275 5...  \n",
       "3      POLYGON Z ((2.08218 6.92580 0.00000, 2.08218 6...  \n",
       "4      POLYGON Z ((1.77252 8.42742 0.00000, 1.77252 8...  \n",
       "...                                                  ...  \n",
       "21783  POLYGON Z ((-178.15174 -28.25211 0.00000, -178...  \n",
       "21784  POLYGON Z ((-178.98142 -29.64642 0.00000, -178...  \n",
       "21785  POLYGON Z ((-179.44244 -31.12599 0.00000, -179...  \n",
       "21786  POLYGON Z ((-179.91796 -32.60357 0.00000, -179...  \n",
       "21787  POLYGON Z ((-180.00000 -35.68179 0.00000, -180...  \n",
       "\n",
       "[21788 rows x 8 columns]"
      ]
     },
     "execution_count": 148,
     "metadata": {},
     "output_type": "execute_result"
    }
   ],
   "source": [
    "df_frames_final = gpd.read_file(\"s1-frames-10frames-1overlap.gpkg\")\n",
    "df_frames_final"
   ]
  },
  {
   "cell_type": "code",
   "execution_count": 156,
   "id": "e60a5928-424e-4f1d-8d4d-410b4523501e",
   "metadata": {},
   "outputs": [
    {
     "data": {
      "text/html": [
       "<div>\n",
       "<style scoped>\n",
       "    .dataframe tbody tr th:only-of-type {\n",
       "        vertical-align: middle;\n",
       "    }\n",
       "\n",
       "    .dataframe tbody tr th {\n",
       "        vertical-align: top;\n",
       "    }\n",
       "\n",
       "    .dataframe thead th {\n",
       "        text-align: right;\n",
       "    }\n",
       "</style>\n",
       "<table border=\"1\" class=\"dataframe\">\n",
       "  <thead>\n",
       "    <tr style=\"text-align: right;\">\n",
       "      <th></th>\n",
       "      <th>frame_id</th>\n",
       "      <th>OGC_FID_min</th>\n",
       "      <th>OGC_FID_max</th>\n",
       "      <th>burst_id_min</th>\n",
       "      <th>burst_id_max</th>\n",
       "      <th>relative_orbit_numbers</th>\n",
       "      <th>look_direction</th>\n",
       "      <th>geometry</th>\n",
       "    </tr>\n",
       "  </thead>\n",
       "  <tbody>\n",
       "    <tr>\n",
       "      <th>0</th>\n",
       "      <td>1</td>\n",
       "      <td>28</td>\n",
       "      <td>57</td>\n",
       "      <td>10</td>\n",
       "      <td>19</td>\n",
       "      <td>1</td>\n",
       "      <td>ASCENDING</td>\n",
       "      <td>POLYGON Z ((3.01777 2.42129 0.00000, 3.01776 2...</td>\n",
       "    </tr>\n",
       "    <tr>\n",
       "      <th>1</th>\n",
       "      <td>2</td>\n",
       "      <td>55</td>\n",
       "      <td>84</td>\n",
       "      <td>19</td>\n",
       "      <td>28</td>\n",
       "      <td>1</td>\n",
       "      <td>ASCENDING</td>\n",
       "      <td>POLYGON Z ((2.70450 3.92269 0.00000, 2.70450 3...</td>\n",
       "    </tr>\n",
       "    <tr>\n",
       "      <th>2</th>\n",
       "      <td>3</td>\n",
       "      <td>82</td>\n",
       "      <td>111</td>\n",
       "      <td>28</td>\n",
       "      <td>37</td>\n",
       "      <td>1</td>\n",
       "      <td>ASCENDING</td>\n",
       "      <td>POLYGON Z ((2.39275 5.42421 0.00000, 2.39275 5...</td>\n",
       "    </tr>\n",
       "    <tr>\n",
       "      <th>3</th>\n",
       "      <td>4</td>\n",
       "      <td>109</td>\n",
       "      <td>138</td>\n",
       "      <td>37</td>\n",
       "      <td>46</td>\n",
       "      <td>1</td>\n",
       "      <td>ASCENDING</td>\n",
       "      <td>POLYGON Z ((2.08218 6.92580 0.00000, 2.08218 6...</td>\n",
       "    </tr>\n",
       "    <tr>\n",
       "      <th>4</th>\n",
       "      <td>5</td>\n",
       "      <td>136</td>\n",
       "      <td>165</td>\n",
       "      <td>46</td>\n",
       "      <td>55</td>\n",
       "      <td>1</td>\n",
       "      <td>ASCENDING</td>\n",
       "      <td>POLYGON Z ((1.77252 8.42742 0.00000, 1.77252 8...</td>\n",
       "    </tr>\n",
       "    <tr>\n",
       "      <th>5</th>\n",
       "      <td>6</td>\n",
       "      <td>163</td>\n",
       "      <td>192</td>\n",
       "      <td>55</td>\n",
       "      <td>64</td>\n",
       "      <td>1</td>\n",
       "      <td>ASCENDING</td>\n",
       "      <td>POLYGON Z ((1.45775 9.95702 0.00000, 1.45775 9...</td>\n",
       "    </tr>\n",
       "    <tr>\n",
       "      <th>6</th>\n",
       "      <td>7</td>\n",
       "      <td>190</td>\n",
       "      <td>219</td>\n",
       "      <td>64</td>\n",
       "      <td>73</td>\n",
       "      <td>1</td>\n",
       "      <td>ASCENDING</td>\n",
       "      <td>POLYGON Z ((1.15354 11.43695 0.00000, 1.11985 ...</td>\n",
       "    </tr>\n",
       "    <tr>\n",
       "      <th>7</th>\n",
       "      <td>8</td>\n",
       "      <td>217</td>\n",
       "      <td>246</td>\n",
       "      <td>73</td>\n",
       "      <td>82</td>\n",
       "      <td>1</td>\n",
       "      <td>ASCENDING</td>\n",
       "      <td>POLYGON Z ((0.84367 12.94446 0.00000, 0.80707 ...</td>\n",
       "    </tr>\n",
       "    <tr>\n",
       "      <th>8</th>\n",
       "      <td>9</td>\n",
       "      <td>244</td>\n",
       "      <td>273</td>\n",
       "      <td>82</td>\n",
       "      <td>91</td>\n",
       "      <td>1</td>\n",
       "      <td>ASCENDING</td>\n",
       "      <td>POLYGON Z ((0.53634 14.43758 0.00000, 0.50271 ...</td>\n",
       "    </tr>\n",
       "    <tr>\n",
       "      <th>9</th>\n",
       "      <td>10</td>\n",
       "      <td>271</td>\n",
       "      <td>300</td>\n",
       "      <td>91</td>\n",
       "      <td>100</td>\n",
       "      <td>1</td>\n",
       "      <td>ASCENDING</td>\n",
       "      <td>POLYGON Z ((0.22495 15.94760 0.00000, 0.19036 ...</td>\n",
       "    </tr>\n",
       "    <tr>\n",
       "      <th>10</th>\n",
       "      <td>11</td>\n",
       "      <td>298</td>\n",
       "      <td>327</td>\n",
       "      <td>100</td>\n",
       "      <td>109</td>\n",
       "      <td>1</td>\n",
       "      <td>ASCENDING</td>\n",
       "      <td>POLYGON Z ((-0.08590 17.45112 0.00000, -0.1217...</td>\n",
       "    </tr>\n",
       "    <tr>\n",
       "      <th>11</th>\n",
       "      <td>12</td>\n",
       "      <td>325</td>\n",
       "      <td>354</td>\n",
       "      <td>109</td>\n",
       "      <td>118</td>\n",
       "      <td>1</td>\n",
       "      <td>ASCENDING</td>\n",
       "      <td>POLYGON Z ((-0.39681 18.94970 0.00000, -0.4315...</td>\n",
       "    </tr>\n",
       "  </tbody>\n",
       "</table>\n",
       "</div>"
      ],
      "text/plain": [
       "    frame_id  OGC_FID_min  OGC_FID_max  burst_id_min  burst_id_max  \\\n",
       "0          1           28           57            10            19   \n",
       "1          2           55           84            19            28   \n",
       "2          3           82          111            28            37   \n",
       "3          4          109          138            37            46   \n",
       "4          5          136          165            46            55   \n",
       "5          6          163          192            55            64   \n",
       "6          7          190          219            64            73   \n",
       "7          8          217          246            73            82   \n",
       "8          9          244          273            82            91   \n",
       "9         10          271          300            91           100   \n",
       "10        11          298          327           100           109   \n",
       "11        12          325          354           109           118   \n",
       "\n",
       "   relative_orbit_numbers look_direction  \\\n",
       "0                       1      ASCENDING   \n",
       "1                       1      ASCENDING   \n",
       "2                       1      ASCENDING   \n",
       "3                       1      ASCENDING   \n",
       "4                       1      ASCENDING   \n",
       "5                       1      ASCENDING   \n",
       "6                       1      ASCENDING   \n",
       "7                       1      ASCENDING   \n",
       "8                       1      ASCENDING   \n",
       "9                       1      ASCENDING   \n",
       "10                      1      ASCENDING   \n",
       "11                      1      ASCENDING   \n",
       "\n",
       "                                             geometry  \n",
       "0   POLYGON Z ((3.01777 2.42129 0.00000, 3.01776 2...  \n",
       "1   POLYGON Z ((2.70450 3.92269 0.00000, 2.70450 3...  \n",
       "2   POLYGON Z ((2.39275 5.42421 0.00000, 2.39275 5...  \n",
       "3   POLYGON Z ((2.08218 6.92580 0.00000, 2.08218 6...  \n",
       "4   POLYGON Z ((1.77252 8.42742 0.00000, 1.77252 8...  \n",
       "5   POLYGON Z ((1.45775 9.95702 0.00000, 1.45775 9...  \n",
       "6   POLYGON Z ((1.15354 11.43695 0.00000, 1.11985 ...  \n",
       "7   POLYGON Z ((0.84367 12.94446 0.00000, 0.80707 ...  \n",
       "8   POLYGON Z ((0.53634 14.43758 0.00000, 0.50271 ...  \n",
       "9   POLYGON Z ((0.22495 15.94760 0.00000, 0.19036 ...  \n",
       "10  POLYGON Z ((-0.08590 17.45112 0.00000, -0.1217...  \n",
       "11  POLYGON Z ((-0.39681 18.94970 0.00000, -0.4315...  "
      ]
     },
     "execution_count": 156,
     "metadata": {},
     "output_type": "execute_result"
    }
   ],
   "source": [
    "df_frames_final.head(12)"
   ]
  },
  {
   "cell_type": "markdown",
   "id": "41ef4254-cd4b-41ba-8278-f039af03b7e2",
   "metadata": {},
   "source": [
    "# Normalize data to row format"
   ]
  },
  {
   "cell_type": "code",
   "execution_count": 160,
   "id": "263c1a83-fc6a-4761-b581-7b71251dc23e",
   "metadata": {},
   "outputs": [
    {
     "data": {
      "text/html": [
       "<div>\n",
       "<style scoped>\n",
       "    .dataframe tbody tr th:only-of-type {\n",
       "        vertical-align: middle;\n",
       "    }\n",
       "\n",
       "    .dataframe tbody tr th {\n",
       "        vertical-align: top;\n",
       "    }\n",
       "\n",
       "    .dataframe thead th {\n",
       "        text-align: right;\n",
       "    }\n",
       "</style>\n",
       "<table border=\"1\" class=\"dataframe\">\n",
       "  <thead>\n",
       "    <tr style=\"text-align: right;\">\n",
       "      <th></th>\n",
       "      <th>frame_id</th>\n",
       "      <th>OGC_FID</th>\n",
       "    </tr>\n",
       "  </thead>\n",
       "  <tbody>\n",
       "    <tr>\n",
       "      <th>27</th>\n",
       "      <td>1</td>\n",
       "      <td>55</td>\n",
       "    </tr>\n",
       "    <tr>\n",
       "      <th>28</th>\n",
       "      <td>1</td>\n",
       "      <td>56</td>\n",
       "    </tr>\n",
       "    <tr>\n",
       "      <th>29</th>\n",
       "      <td>1</td>\n",
       "      <td>57</td>\n",
       "    </tr>\n",
       "    <tr>\n",
       "      <th>30</th>\n",
       "      <td>2</td>\n",
       "      <td>55</td>\n",
       "    </tr>\n",
       "    <tr>\n",
       "      <th>31</th>\n",
       "      <td>2</td>\n",
       "      <td>56</td>\n",
       "    </tr>\n",
       "    <tr>\n",
       "      <th>32</th>\n",
       "      <td>2</td>\n",
       "      <td>57</td>\n",
       "    </tr>\n",
       "    <tr>\n",
       "      <th>33</th>\n",
       "      <td>2</td>\n",
       "      <td>58</td>\n",
       "    </tr>\n",
       "    <tr>\n",
       "      <th>34</th>\n",
       "      <td>2</td>\n",
       "      <td>59</td>\n",
       "    </tr>\n",
       "  </tbody>\n",
       "</table>\n",
       "</div>"
      ],
      "text/plain": [
       "    frame_id  OGC_FID\n",
       "27         1       55\n",
       "28         1       56\n",
       "29         1       57\n",
       "30         2       55\n",
       "31         2       56\n",
       "32         2       57\n",
       "33         2       58\n",
       "34         2       59"
      ]
     },
     "execution_count": 160,
     "metadata": {},
     "output_type": "execute_result"
    }
   ],
   "source": [
    "frame_ogc_ids = []\n",
    "for frame_id, id_min, id_max in df_frames_final[['frame_id', 'OGC_FID_min', \"OGC_FID_max\"]].values:\n",
    "    for i in range(id_min, id_max + 1):\n",
    "        frame_ogc_ids.append((frame_id, i))\n",
    "\n",
    "        \n",
    "df_frame_normalized = pd.DataFrame(frame_ogc_ids, columns=(\"frame_id\", \"OGC_FID\"))\n",
    "df_frame_normalized[27:35]"
   ]
  },
  {
   "cell_type": "code",
   "execution_count": 161,
   "id": "bebb1e46-13ad-4335-b771-f039ea501e10",
   "metadata": {},
   "outputs": [],
   "source": [
    "!cp /Users/staniewi/repos/burst_db/burst_map.sqlite3 /Users/staniewi/repos/burst_db/burst_map_with_frames.sqlite3"
   ]
  },
  {
   "cell_type": "code",
   "execution_count": 173,
   "id": "9322b9f9-3d1d-4117-b666-5dfe16120ef2",
   "metadata": {},
   "outputs": [
    {
     "data": {
      "text/plain": [
       "frame_id                     int64\n",
       "OGC_FID_min                  int64\n",
       "OGC_FID_max                  int64\n",
       "burst_id_min                 int64\n",
       "burst_id_max                 int64\n",
       "relative_orbit_numbers      object\n",
       "look_direction              object\n",
       "geometry                  geometry\n",
       "dtype: object"
      ]
     },
     "execution_count": 173,
     "metadata": {},
     "output_type": "execute_result"
    }
   ],
   "source": [
    "df_frames_final.dtypes"
   ]
  },
  {
   "cell_type": "code",
   "execution_count": 179,
   "id": "da997c2e-ed32-44bb-a9e5-1685a0e1f908",
   "metadata": {},
   "outputs": [
    {
     "data": {
      "text/html": [
       "<div>\n",
       "<style scoped>\n",
       "    .dataframe tbody tr th:only-of-type {\n",
       "        vertical-align: middle;\n",
       "    }\n",
       "\n",
       "    .dataframe tbody tr th {\n",
       "        vertical-align: top;\n",
       "    }\n",
       "\n",
       "    .dataframe thead th {\n",
       "        text-align: right;\n",
       "    }\n",
       "</style>\n",
       "<table border=\"1\" class=\"dataframe\">\n",
       "  <thead>\n",
       "    <tr style=\"text-align: right;\">\n",
       "      <th></th>\n",
       "      <th>frame_id</th>\n",
       "    </tr>\n",
       "    <tr>\n",
       "      <th>look_direction</th>\n",
       "      <th></th>\n",
       "    </tr>\n",
       "  </thead>\n",
       "  <tbody>\n",
       "    <tr>\n",
       "      <th>ASCENDING</th>\n",
       "      <td>10809</td>\n",
       "    </tr>\n",
       "    <tr>\n",
       "      <th>ASCENDING,DESCENDING</th>\n",
       "      <td>166</td>\n",
       "    </tr>\n",
       "    <tr>\n",
       "      <th>DESCENDING</th>\n",
       "      <td>10813</td>\n",
       "    </tr>\n",
       "  </tbody>\n",
       "</table>\n",
       "</div>"
      ],
      "text/plain": [
       "                      frame_id\n",
       "look_direction                \n",
       "ASCENDING                10809\n",
       "ASCENDING,DESCENDING       166\n",
       "DESCENDING               10813"
      ]
     },
     "execution_count": 179,
     "metadata": {},
     "output_type": "execute_result"
    }
   ],
   "source": [
    "df_frames_final[['frame_id', 'look_direction']].groupby(\"look_direction\").count()"
   ]
  },
  {
   "cell_type": "code",
   "execution_count": 180,
   "id": "1da62b6e-5db9-4a9c-9dfd-38642c8d6975",
   "metadata": {},
   "outputs": [
    {
     "data": {
      "text/html": [
       "<div>\n",
       "<style scoped>\n",
       "    .dataframe tbody tr th:only-of-type {\n",
       "        vertical-align: middle;\n",
       "    }\n",
       "\n",
       "    .dataframe tbody tr th {\n",
       "        vertical-align: top;\n",
       "    }\n",
       "\n",
       "    .dataframe thead th {\n",
       "        text-align: right;\n",
       "    }\n",
       "</style>\n",
       "<table border=\"1\" class=\"dataframe\">\n",
       "  <thead>\n",
       "    <tr style=\"text-align: right;\">\n",
       "      <th></th>\n",
       "      <th>frame_id</th>\n",
       "    </tr>\n",
       "    <tr>\n",
       "      <th>relative_orbit_numbers</th>\n",
       "      <th></th>\n",
       "    </tr>\n",
       "  </thead>\n",
       "  <tbody>\n",
       "    <tr>\n",
       "      <th>1</th>\n",
       "      <td>126</td>\n",
       "    </tr>\n",
       "    <tr>\n",
       "      <th>10</th>\n",
       "      <td>147</td>\n",
       "    </tr>\n",
       "    <tr>\n",
       "      <th>10,11</th>\n",
       "      <td>1</td>\n",
       "    </tr>\n",
       "    <tr>\n",
       "      <th>100</th>\n",
       "      <td>134</td>\n",
       "    </tr>\n",
       "    <tr>\n",
       "      <th>101</th>\n",
       "      <td>116</td>\n",
       "    </tr>\n",
       "    <tr>\n",
       "      <th>...</th>\n",
       "      <td>...</td>\n",
       "    </tr>\n",
       "    <tr>\n",
       "      <th>97,96</th>\n",
       "      <td>1</td>\n",
       "    </tr>\n",
       "    <tr>\n",
       "      <th>97,98</th>\n",
       "      <td>1</td>\n",
       "    </tr>\n",
       "    <tr>\n",
       "      <th>98</th>\n",
       "      <td>144</td>\n",
       "    </tr>\n",
       "    <tr>\n",
       "      <th>98,99</th>\n",
       "      <td>1</td>\n",
       "    </tr>\n",
       "    <tr>\n",
       "      <th>99</th>\n",
       "      <td>124</td>\n",
       "    </tr>\n",
       "  </tbody>\n",
       "</table>\n",
       "<p>253 rows × 1 columns</p>\n",
       "</div>"
      ],
      "text/plain": [
       "                        frame_id\n",
       "relative_orbit_numbers          \n",
       "1                            126\n",
       "10                           147\n",
       "10,11                          1\n",
       "100                          134\n",
       "101                          116\n",
       "...                          ...\n",
       "97,96                          1\n",
       "97,98                          1\n",
       "98                           144\n",
       "98,99                          1\n",
       "99                           124\n",
       "\n",
       "[253 rows x 1 columns]"
      ]
     },
     "execution_count": 180,
     "metadata": {},
     "output_type": "execute_result"
    }
   ],
   "source": [
    "df_frames_final[['frame_id', 'relative_orbit_numbers']].groupby(\"relative_orbit_numbers\").count()"
   ]
  },
  {
   "cell_type": "markdown",
   "id": "0ebd75e0-c1e2-41a7-adbc-355e1b8549b8",
   "metadata": {},
   "source": [
    "## Save as a table within existing burst DB"
   ]
  },
  {
   "cell_type": "code",
   "execution_count": null,
   "id": "1461e146-1fe3-456b-b00e-65c8d9b5ce95",
   "metadata": {},
   "outputs": [],
   "source": [
    "df_frames_land.loc[:, \"epsg\"] = epsgs"
   ]
  },
  {
   "cell_type": "code",
   "execution_count": 441,
   "id": "34c3049b-a04e-4ff1-a334-236ee9040042",
   "metadata": {},
   "outputs": [
    {
     "name": "stdout",
     "output_type": "stream",
     "text": [
      "\u001b[1m\u001b[35m0 Prepare USGS Data.ipynb\u001b[m\u001b[m\n",
      "\u001b[1m\u001b[35m1 Generate Frames from S1-bursts.ipynb\u001b[m\u001b[m\n",
      "\u001b[1m\u001b[35m2 Discussion.ipynb\u001b[m\u001b[m\n",
      "bootstrapping for variance in a timeseries.ipynb\n",
      "coherence simulations.ipynb\n",
      "\u001b[1m\u001b[36mdata\u001b[m\u001b[m\n",
      "dataframe_temp.gpkg\n",
      "double descent.ipynb\n",
      "nmap analysis.ipynb\n",
      "s1-frames-10frames-1overlap.geojson\n",
      "s1-frames-10frames-1overlap.gpkg\n",
      "s1-frames-10frames-2overlap.geojson\n",
      "s1-frames-10frames-2overlap.geojson.zip\n",
      "s1-frames-10frames-2overlap.gpkg\n",
      "s1-frames-11frames-1overlap.geojson\n",
      "s1-frames-11frames-1overlap.gpkg\n",
      "s1-frames-11frames-2overlap.geojson\n",
      "s1-frames-11frames-2overlap.gpkg\n",
      "\u001b[1m\u001b[36mtest\u001b[m\u001b[m\n",
      "test.sqlite3\n",
      "test1.sqlite3\n",
      "usgs_land_1deg_buffered.geojson\n"
     ]
    }
   ],
   "source": [
    "!ls"
   ]
  },
  {
   "cell_type": "code",
   "execution_count": 442,
   "id": "5cb964ba-e2a5-46c4-921e-474f2bfd3108",
   "metadata": {},
   "outputs": [],
   "source": [
    "df_frames_land.loc[:, [\"frame_id\", \"epsg\", \"geometry\"]].to_file(\"test/frames.gpkg\", driver=\"GPKG\")"
   ]
  },
  {
   "cell_type": "code",
   "execution_count": null,
   "id": "27a572b2-be58-4d81-a468-a71b3eb2f0c8",
   "metadata": {},
   "outputs": [],
   "source": []
  },
  {
   "cell_type": "code",
   "execution_count": 162,
   "id": "abd10d5a-543f-4889-bfd4-f23a03be82a6",
   "metadata": {},
   "outputs": [
    {
     "data": {
      "text/plain": [
       "<function Connection.close()>"
      ]
     },
     "execution_count": 162,
     "metadata": {},
     "output_type": "execute_result"
    }
   ],
   "source": [
    "table_name = \"frames\"\n",
    "con = sqlite3.connect(\"/Users/staniewi/repos/burst_db/burst_map_with_frames.sqlite3\")\n",
    "\n",
    "df_frame_normalized.to_sql(table_name, con=con, index=False)\n",
    "con.execute(\"CREATE INDEX idx_frames_frame_id ON frames (frame_id)\")\n",
    "con.execute(\"CREATE INDEX idx_frames_OGC_FID ON frames (OGC_FID)\")\n",
    "con.close"
   ]
  },
  {
   "cell_type": "code",
   "execution_count": 443,
   "id": "08d31142-6ab7-4469-9866-728da31ab60d",
   "metadata": {},
   "outputs": [
    {
     "data": {
      "text/html": [
       "<div>\n",
       "<style scoped>\n",
       "    .dataframe tbody tr th:only-of-type {\n",
       "        vertical-align: middle;\n",
       "    }\n",
       "\n",
       "    .dataframe tbody tr th {\n",
       "        vertical-align: top;\n",
       "    }\n",
       "\n",
       "    .dataframe thead th {\n",
       "        text-align: right;\n",
       "    }\n",
       "</style>\n",
       "<table border=\"1\" class=\"dataframe\">\n",
       "  <thead>\n",
       "    <tr style=\"text-align: right;\">\n",
       "      <th></th>\n",
       "      <th>frame_id</th>\n",
       "      <th>OGC_FID</th>\n",
       "    </tr>\n",
       "  </thead>\n",
       "  <tbody>\n",
       "    <tr>\n",
       "      <th>0</th>\n",
       "      <td>1</td>\n",
       "      <td>28</td>\n",
       "    </tr>\n",
       "    <tr>\n",
       "      <th>1</th>\n",
       "      <td>1</td>\n",
       "      <td>29</td>\n",
       "    </tr>\n",
       "    <tr>\n",
       "      <th>2</th>\n",
       "      <td>1</td>\n",
       "      <td>30</td>\n",
       "    </tr>\n",
       "    <tr>\n",
       "      <th>3</th>\n",
       "      <td>1</td>\n",
       "      <td>31</td>\n",
       "    </tr>\n",
       "    <tr>\n",
       "      <th>4</th>\n",
       "      <td>1</td>\n",
       "      <td>32</td>\n",
       "    </tr>\n",
       "  </tbody>\n",
       "</table>\n",
       "</div>"
      ],
      "text/plain": [
       "   frame_id  OGC_FID\n",
       "0         1       28\n",
       "1         1       29\n",
       "2         1       30\n",
       "3         1       31\n",
       "4         1       32"
      ]
     },
     "execution_count": 443,
     "metadata": {},
     "output_type": "execute_result"
    }
   ],
   "source": [
    "df_frame_normalized.head()"
   ]
  },
  {
   "cell_type": "code",
   "execution_count": 445,
   "id": "a799c9e5-df4b-4fff-a05a-ca537582f6ac",
   "metadata": {},
   "outputs": [
    {
     "data": {
      "text/html": [
       "<div>\n",
       "<style scoped>\n",
       "    .dataframe tbody tr th:only-of-type {\n",
       "        vertical-align: middle;\n",
       "    }\n",
       "\n",
       "    .dataframe tbody tr th {\n",
       "        vertical-align: top;\n",
       "    }\n",
       "\n",
       "    .dataframe thead th {\n",
       "        text-align: right;\n",
       "    }\n",
       "</style>\n",
       "<table border=\"1\" class=\"dataframe\">\n",
       "  <thead>\n",
       "    <tr style=\"text-align: right;\">\n",
       "      <th></th>\n",
       "      <th>frame_id</th>\n",
       "      <th>OGC_FID</th>\n",
       "    </tr>\n",
       "  </thead>\n",
       "  <tbody>\n",
       "    <tr>\n",
       "      <th>0</th>\n",
       "      <td>1</td>\n",
       "      <td>28</td>\n",
       "    </tr>\n",
       "    <tr>\n",
       "      <th>1</th>\n",
       "      <td>1</td>\n",
       "      <td>29</td>\n",
       "    </tr>\n",
       "    <tr>\n",
       "      <th>2</th>\n",
       "      <td>1</td>\n",
       "      <td>30</td>\n",
       "    </tr>\n",
       "    <tr>\n",
       "      <th>3</th>\n",
       "      <td>1</td>\n",
       "      <td>31</td>\n",
       "    </tr>\n",
       "    <tr>\n",
       "      <th>4</th>\n",
       "      <td>1</td>\n",
       "      <td>32</td>\n",
       "    </tr>\n",
       "    <tr>\n",
       "      <th>...</th>\n",
       "      <td>...</td>\n",
       "      <td>...</td>\n",
       "    </tr>\n",
       "    <tr>\n",
       "      <th>653635</th>\n",
       "      <td>21610</td>\n",
       "      <td>1125116</td>\n",
       "    </tr>\n",
       "    <tr>\n",
       "      <th>653636</th>\n",
       "      <td>21610</td>\n",
       "      <td>1125117</td>\n",
       "    </tr>\n",
       "    <tr>\n",
       "      <th>653637</th>\n",
       "      <td>21610</td>\n",
       "      <td>1125118</td>\n",
       "    </tr>\n",
       "    <tr>\n",
       "      <th>653638</th>\n",
       "      <td>21610</td>\n",
       "      <td>1125119</td>\n",
       "    </tr>\n",
       "    <tr>\n",
       "      <th>653639</th>\n",
       "      <td>21610</td>\n",
       "      <td>1125120</td>\n",
       "    </tr>\n",
       "  </tbody>\n",
       "</table>\n",
       "<p>653640 rows × 2 columns</p>\n",
       "</div>"
      ],
      "text/plain": [
       "        frame_id  OGC_FID\n",
       "0              1       28\n",
       "1              1       29\n",
       "2              1       30\n",
       "3              1       31\n",
       "4              1       32\n",
       "...          ...      ...\n",
       "653635     21610  1125116\n",
       "653636     21610  1125117\n",
       "653637     21610  1125118\n",
       "653638     21610  1125119\n",
       "653639     21610  1125120\n",
       "\n",
       "[653640 rows x 2 columns]"
      ]
     },
     "execution_count": 445,
     "metadata": {},
     "output_type": "execute_result"
    }
   ],
   "source": []
  },
  {
   "cell_type": "code",
   "execution_count": 459,
   "id": "9fff75fe-230a-4a0f-8572-a956f986c9b4",
   "metadata": {},
   "outputs": [
    {
     "data": {
      "text/plain": [
       "(1000, 7)"
      ]
     },
     "execution_count": 459,
     "metadata": {},
     "output_type": "execute_result"
    }
   ],
   "source": [
    "df_burst.iloc[-1000:].shape"
   ]
  },
  {
   "cell_type": "code",
   "execution_count": 457,
   "id": "f9e8e91b-0205-4963-be74-bb80e7a483ed",
   "metadata": {},
   "outputs": [
    {
     "data": {
      "text/plain": [
       "array([2])"
      ]
     },
     "execution_count": 457,
     "metadata": {},
     "output_type": "execute_result"
    }
   ],
   "source": [
    "df_frames_land.geometry[df_frames_land.geometry.map(lambda geo: (geo.geom_type != \"Polygon\"))].apply(lambda g: len(g.geoms)).unique()"
   ]
  },
  {
   "cell_type": "code",
   "execution_count": null,
   "id": "758e306c-6774-42a7-b5ac-49d2e04bdb69",
   "metadata": {},
   "outputs": [],
   "source": []
  },
  {
   "cell_type": "code",
   "execution_count": 460,
   "id": "ab9b3398-7394-49a7-b63a-e4279d80bdf2",
   "metadata": {},
   "outputs": [],
   "source": [
    "from shapely import wkt\n",
    "gbad = wkt.loads('MULTIPOLYGON Z (((-178.8827675124469 29.06025377982273 0, -178.850261 28.894183 0, -179.247383 28.836209 0, -179.63423701583096 28.778422756438413 0, -179.622798 28.722182 0, -180 28.664259480878457 0, -180 28.83577230606064 0, -180 28.85959691321272 0, -180 29.00725903541127 0, -180 29.031418385392033 0, -180 29.17871778491337 0, -180 29.203211181979714 0, -180 29.35014879205192 0, -180 29.374976101771388 0, -180 29.521553149134178 0, -180 29.546713182664217 0, -180 29.69292894835176 0, -180 29.71842114176748 0, -180 29.864276449387464 0, -180 29.890101230138367 0, -180 30.035597526808452 0, -180 30.061750865669413 0, -180 30.20689126898366 0, -180 30.233374178296952 0, -180 30.40496886361689 0, -179.99144771004862 30.406331440405676 0, -180 30.44799120244946 0, -180 30.46669508368907 0, -179.585111 30.531726 0, -179.181945 30.593659 0, -179.14928991478934 30.427634550984223 0, -179.149287 30.427635 0, -179.14452619101806 30.40341490466317 0, -179.141664 30.388863 0, -179.14166575522586 30.38886275021734 0, -179.11665114764273 30.2616036682467 0, -179.116649 30.261604 0, -179.11260209304214 30.241004545529766 0, -179.109031 30.222837 0, -179.10903289838532 30.222836729072945 0, -179.076415 30.056806 0, -179.07812223716562 30.056561656168537 0, -179.05312625211894 29.929263650153224 0, -179.053124 29.929264 0, -179.04910325853027 29.90877559732816 0, -179.04552 29.890527 0, -179.04552201046715 29.890526711410825 0, -179.020537703361 29.76321473467203 0, -179.020536 29.763215 0, -179.0171784471367 29.7460970476188 0, -179.012937 29.724484 0, -179.012939155537 29.724483689709455 0, -178.98796574929872 29.59716072676879 0, -178.987964 29.597161 0, -178.98454936660568 29.57974283980263 0, -178.98037 29.558435 0, -178.98037214479973 29.55843469037817 0, -178.95540995045997 29.43110169451093 0, -178.955408 29.431102 0, -178.95177396513463 29.412554410642283 0, -178.947819 29.39238 0, -178.94782112636472 29.39237969217703 0, -178.9228705888519 29.265035750474006 0, -178.922869 29.265036 0, -178.91958508239745 29.24826699981341 0, -178.915285 29.22632 0, -178.91528708419736 29.22631969743177 0, -178.89034701119633 29.09896568328574 0, -178.890345 29.098966 0, -178.88601578306515 29.076848695550133 0, -178.882766 29.060254 0, -178.8827675124469 29.06025377982273 0)), ((179.107494 30.261098 0, 179.584179 30.338719 0, 180 30.40496886361689 0, 180 30.233374178296952 0, 180 30.20689126898366 0, 180 30.061750865669413 0, 180 30.035597526808452 0, 180 29.890101230138367 0, 180 29.864276449387464 0, 180 29.71842114176748 0, 180 29.69292894835176 0, 180 29.546713182664217 0, 180 29.521553149134178 0, 180 29.374976101771388 0, 180 29.35014879205192 0, 180 29.203211181979714 0, 180 29.17871778491337 0, 180 29.031418385392033 0, 180 29.00725903541127 0, 180 28.85959691321272 0, 180 28.83577230606064 0, 180 28.664259480878457 0, 179.933514 28.65405 0, 179.48995104715513 28.58423014175821 0, 179.504199 28.517042 0, 179.086294 28.450236 0, 178.636314 28.376593 0, 178.59620719629248 28.558319899647813 0, 178.55975652521136 28.72324619056826 0, 178.52276229220436 28.89039079443074 0, 178.4864475362523 29.054229421698775 0, 178.44948699477533 29.220739063086008 0, 178.41258584280519 29.38673501898778 0, 178.371935 29.569324 0, 178.3723586806809 29.569396700136636 0, 178.33784619600104 29.735794201760662 0, 178.3036880791707 29.888770671460943 0, 178.263453 30.068686 0, 178.72017 30.146581 0, 179.1177933529678 30.21312186723413 0, 179.107494 30.261098 0)), ((180 30.46669508368907 0, 180 30.44799120244946 0, 179.99628 30.466112 0, 180 30.46669508368907 0)))')\n",
    "\n"
   ]
  },
  {
   "cell_type": "code",
   "execution_count": 463,
   "id": "7d4bb21e-d453-4b3a-ad6b-539b11b9993c",
   "metadata": {},
   "outputs": [
    {
     "data": {
      "text/plain": [
       "3"
      ]
     },
     "execution_count": 463,
     "metadata": {},
     "output_type": "execute_result"
    }
   ],
   "source": [
    "len(gbad.geoms)"
   ]
  },
  {
   "cell_type": "code",
   "execution_count": 472,
   "id": "9b2238eb-6eb8-4cc7-b3b4-5105d56cc610",
   "metadata": {},
   "outputs": [
    {
     "data": {
      "text/plain": [
       "Counter({1: 46216, 2: 756, 3: 14})"
      ]
     },
     "execution_count": 472,
     "metadata": {},
     "output_type": "execute_result"
    }
   ],
   "source": [
    "gcount = df_frames.geometry.map(lambda g: len(g.geoms) if g.geom_type != \"Polygon\" else 1)\n",
    "Counter(gcount)"
   ]
  },
  {
   "cell_type": "code",
   "execution_count": 483,
   "id": "e0817f7c-7df9-4d91-a807-e0b302fc3875",
   "metadata": {},
   "outputs": [
    {
     "data": {
      "text/html": [
       "<div>\n",
       "<style scoped>\n",
       "    .dataframe tbody tr th:only-of-type {\n",
       "        vertical-align: middle;\n",
       "    }\n",
       "\n",
       "    .dataframe tbody tr th {\n",
       "        vertical-align: top;\n",
       "    }\n",
       "\n",
       "    .dataframe thead th {\n",
       "        text-align: right;\n",
       "    }\n",
       "</style>\n",
       "<table border=\"1\" class=\"dataframe\">\n",
       "  <thead>\n",
       "    <tr style=\"text-align: right;\">\n",
       "      <th></th>\n",
       "      <th>OGC_FID_min</th>\n",
       "      <th>OGC_FID_max</th>\n",
       "      <th>burst_id_min</th>\n",
       "      <th>burst_id_max</th>\n",
       "      <th>relative_orbit_numbers</th>\n",
       "      <th>look_direction</th>\n",
       "      <th>geometry</th>\n",
       "    </tr>\n",
       "  </thead>\n",
       "  <tbody>\n",
       "    <tr>\n",
       "      <th>2113</th>\n",
       "      <td>50713</td>\n",
       "      <td>50742</td>\n",
       "      <td>16905</td>\n",
       "      <td>16914</td>\n",
       "      <td>8</td>\n",
       "      <td>ASCENDING</td>\n",
       "      <td>MULTIPOLYGON Z (((-180.00000 -45.13060 0.00000...</td>\n",
       "    </tr>\n",
       "    <tr>\n",
       "      <th>2361</th>\n",
       "      <td>56665</td>\n",
       "      <td>56694</td>\n",
       "      <td>18889</td>\n",
       "      <td>18898</td>\n",
       "      <td>9</td>\n",
       "      <td>ASCENDING</td>\n",
       "      <td>MULTIPOLYGON Z (((-180.00000 -70.08609 0.00000...</td>\n",
       "    </tr>\n",
       "    <tr>\n",
       "      <th>5694</th>\n",
       "      <td>136657</td>\n",
       "      <td>136686</td>\n",
       "      <td>45553</td>\n",
       "      <td>45562</td>\n",
       "      <td>22</td>\n",
       "      <td>ASCENDING</td>\n",
       "      <td>MULTIPOLYGON Z (((-172.59330 75.18399 0.00000,...</td>\n",
       "    </tr>\n",
       "    <tr>\n",
       "      <th>6128</th>\n",
       "      <td>147073</td>\n",
       "      <td>147102</td>\n",
       "      <td>49025</td>\n",
       "      <td>49034</td>\n",
       "      <td>23</td>\n",
       "      <td>ASCENDING</td>\n",
       "      <td>MULTIPOLYGON Z (((-180.00000 -60.54137 0.00000...</td>\n",
       "    </tr>\n",
       "    <tr>\n",
       "      <th>13917</th>\n",
       "      <td>334009</td>\n",
       "      <td>334038</td>\n",
       "      <td>111337</td>\n",
       "      <td>111346</td>\n",
       "      <td>52</td>\n",
       "      <td>ASCENDING</td>\n",
       "      <td>MULTIPOLYGON Z (((-177.43193 -56.96521 0.00000...</td>\n",
       "    </tr>\n",
       "    <tr>\n",
       "      <th>21007</th>\n",
       "      <td>504169</td>\n",
       "      <td>504198</td>\n",
       "      <td>168057</td>\n",
       "      <td>168066</td>\n",
       "      <td>79</td>\n",
       "      <td>ASCENDING</td>\n",
       "      <td>MULTIPOLYGON Z (((-180.00000 85.53324 0.00000,...</td>\n",
       "    </tr>\n",
       "    <tr>\n",
       "      <th>21960</th>\n",
       "      <td>527041</td>\n",
       "      <td>527070</td>\n",
       "      <td>175681</td>\n",
       "      <td>175690</td>\n",
       "      <td>82</td>\n",
       "      <td>ASCENDING</td>\n",
       "      <td>MULTIPOLYGON Z (((-180.00000 -70.92310 0.00000...</td>\n",
       "    </tr>\n",
       "    <tr>\n",
       "      <th>22221</th>\n",
       "      <td>533305</td>\n",
       "      <td>533334</td>\n",
       "      <td>177769</td>\n",
       "      <td>177778</td>\n",
       "      <td>83</td>\n",
       "      <td>ASCENDING</td>\n",
       "      <td>MULTIPOLYGON Z (((-177.73929 -77.52953 0.00000...</td>\n",
       "    </tr>\n",
       "    <tr>\n",
       "      <th>30272</th>\n",
       "      <td>726529</td>\n",
       "      <td>726558</td>\n",
       "      <td>242177</td>\n",
       "      <td>242186</td>\n",
       "      <td>113</td>\n",
       "      <td>ASCENDING,DESCENDING</td>\n",
       "      <td>MULTIPOLYGON Z (((-175.27443 -78.65600 0.00000...</td>\n",
       "    </tr>\n",
       "    <tr>\n",
       "      <th>32552</th>\n",
       "      <td>781249</td>\n",
       "      <td>781278</td>\n",
       "      <td>260417</td>\n",
       "      <td>260426</td>\n",
       "      <td>122</td>\n",
       "      <td>ASCENDING</td>\n",
       "      <td>MULTIPOLYGON Z (((-174.19788 84.47089 0.00000,...</td>\n",
       "    </tr>\n",
       "    <tr>\n",
       "      <th>33084</th>\n",
       "      <td>794017</td>\n",
       "      <td>794046</td>\n",
       "      <td>264673</td>\n",
       "      <td>264682</td>\n",
       "      <td>124</td>\n",
       "      <td>ASCENDING</td>\n",
       "      <td>MULTIPOLYGON Z (((-180.00000 79.81767 0.00000,...</td>\n",
       "    </tr>\n",
       "    <tr>\n",
       "      <th>33516</th>\n",
       "      <td>804385</td>\n",
       "      <td>804414</td>\n",
       "      <td>268129</td>\n",
       "      <td>268138</td>\n",
       "      <td>125</td>\n",
       "      <td>ASCENDING</td>\n",
       "      <td>MULTIPOLYGON Z (((-180.00000 -58.12838 0.00000...</td>\n",
       "    </tr>\n",
       "    <tr>\n",
       "      <th>37537</th>\n",
       "      <td>900889</td>\n",
       "      <td>900918</td>\n",
       "      <td>300297</td>\n",
       "      <td>300306</td>\n",
       "      <td>140</td>\n",
       "      <td>ASCENDING</td>\n",
       "      <td>MULTIPOLYGON Z (((-180.00000 -65.49998 0.00000...</td>\n",
       "    </tr>\n",
       "    <tr>\n",
       "      <th>44893</th>\n",
       "      <td>1077433</td>\n",
       "      <td>1077462</td>\n",
       "      <td>359145</td>\n",
       "      <td>359154</td>\n",
       "      <td>168</td>\n",
       "      <td>ASCENDING</td>\n",
       "      <td>MULTIPOLYGON Z (((-176.01487 74.30511 0.00000,...</td>\n",
       "    </tr>\n",
       "  </tbody>\n",
       "</table>\n",
       "</div>"
      ],
      "text/plain": [
       "       OGC_FID_min  OGC_FID_max  burst_id_min  burst_id_max  \\\n",
       "2113         50713        50742         16905         16914   \n",
       "2361         56665        56694         18889         18898   \n",
       "5694        136657       136686         45553         45562   \n",
       "6128        147073       147102         49025         49034   \n",
       "13917       334009       334038        111337        111346   \n",
       "21007       504169       504198        168057        168066   \n",
       "21960       527041       527070        175681        175690   \n",
       "22221       533305       533334        177769        177778   \n",
       "30272       726529       726558        242177        242186   \n",
       "32552       781249       781278        260417        260426   \n",
       "33084       794017       794046        264673        264682   \n",
       "33516       804385       804414        268129        268138   \n",
       "37537       900889       900918        300297        300306   \n",
       "44893      1077433      1077462        359145        359154   \n",
       "\n",
       "      relative_orbit_numbers        look_direction  \\\n",
       "2113                       8             ASCENDING   \n",
       "2361                       9             ASCENDING   \n",
       "5694                      22             ASCENDING   \n",
       "6128                      23             ASCENDING   \n",
       "13917                     52             ASCENDING   \n",
       "21007                     79             ASCENDING   \n",
       "21960                     82             ASCENDING   \n",
       "22221                     83             ASCENDING   \n",
       "30272                    113  ASCENDING,DESCENDING   \n",
       "32552                    122             ASCENDING   \n",
       "33084                    124             ASCENDING   \n",
       "33516                    125             ASCENDING   \n",
       "37537                    140             ASCENDING   \n",
       "44893                    168             ASCENDING   \n",
       "\n",
       "                                                geometry  \n",
       "2113   MULTIPOLYGON Z (((-180.00000 -45.13060 0.00000...  \n",
       "2361   MULTIPOLYGON Z (((-180.00000 -70.08609 0.00000...  \n",
       "5694   MULTIPOLYGON Z (((-172.59330 75.18399 0.00000,...  \n",
       "6128   MULTIPOLYGON Z (((-180.00000 -60.54137 0.00000...  \n",
       "13917  MULTIPOLYGON Z (((-177.43193 -56.96521 0.00000...  \n",
       "21007  MULTIPOLYGON Z (((-180.00000 85.53324 0.00000,...  \n",
       "21960  MULTIPOLYGON Z (((-180.00000 -70.92310 0.00000...  \n",
       "22221  MULTIPOLYGON Z (((-177.73929 -77.52953 0.00000...  \n",
       "30272  MULTIPOLYGON Z (((-175.27443 -78.65600 0.00000...  \n",
       "32552  MULTIPOLYGON Z (((-174.19788 84.47089 0.00000,...  \n",
       "33084  MULTIPOLYGON Z (((-180.00000 79.81767 0.00000,...  \n",
       "33516  MULTIPOLYGON Z (((-180.00000 -58.12838 0.00000...  \n",
       "37537  MULTIPOLYGON Z (((-180.00000 -65.49998 0.00000...  \n",
       "44893  MULTIPOLYGON Z (((-176.01487 74.30511 0.00000,...  "
      ]
     },
     "execution_count": 483,
     "metadata": {},
     "output_type": "execute_result"
    }
   ],
   "source": [
    "df_frames[gcount == 3]"
   ]
  },
  {
   "cell_type": "code",
   "execution_count": 484,
   "id": "b4c859b0-ea71-42b2-9373-af6e678e3bfa",
   "metadata": {},
   "outputs": [
    {
     "data": {
      "text/plain": [
       "([0.00025187549325841137, 2.8311523859107286, 2.6149948361101005],\n",
       " [<POINT (-179.995 -45.153)>,\n",
       "  <POINT (-179.223 -44.036)>,\n",
       "  <POINT (179.285 -44.325)>])"
      ]
     },
     "execution_count": 484,
     "metadata": {},
     "output_type": "execute_result"
    }
   ],
   "source": [
    "[g.area for g in df_frames[gcount == 3].iloc[0].geometry.geoms], [g.centroid for g in df_frames[gcount == 3].iloc[0].geometry.geoms]"
   ]
  },
  {
   "cell_type": "code",
   "execution_count": 495,
   "id": "7ca6c574-a5ea-4b40-9d9f-73d0732acd11",
   "metadata": {},
   "outputs": [],
   "source": []
  },
  {
   "cell_type": "code",
   "execution_count": 451,
   "id": "081a5ff2-2a4d-4826-83b3-196747aa6fa4",
   "metadata": {},
   "outputs": [],
   "source": [
    "with sqlite3.connect(\"test/esa_db.gpkg\") as con:\n",
    "    df_frame_normalized.to_sql(\"frame_to_burst\", con, index=False)\n",
    "    con.execute(\"CREATE INDEX IF NOT EXISTS idx_frame_to_burst_frame_id ON frame_to_burst (frame_id)\")\n",
    "    con.execute(\"CREATE INDEX IF NOT EXISTS idx_frame_to_burst_OGC_FID ON frame_to_burst (OGC_FID)\")"
   ]
  },
  {
   "cell_type": "code",
   "execution_count": 446,
   "id": "1833ae1e-2bb2-44c2-8fca-158268d48a35",
   "metadata": {},
   "outputs": [
    {
     "ename": "AttributeError",
     "evalue": "You are calling a geospatial method on the GeoDataFrame, but the active geometry column ('geometry') is not present. \nThere are no existing columns with geometry data type. You can add a geometry column as the active geometry column with df.set_geometry. ",
     "output_type": "error",
     "traceback": [
      "\u001b[0;31m---------------------------------------------------------------------------\u001b[0m",
      "\u001b[0;31mAttributeError\u001b[0m                            Traceback (most recent call last)",
      "Input \u001b[0;32mIn [446]\u001b[0m, in \u001b[0;36m<cell line: 1>\u001b[0;34m()\u001b[0m\n\u001b[0;32m----> 1\u001b[0m \u001b[43mgpd\u001b[49m\u001b[38;5;241;43m.\u001b[39;49m\u001b[43mGeoDataFrame\u001b[49m\u001b[43m(\u001b[49m\u001b[43mdf_frame_normalized\u001b[49m\u001b[43m)\u001b[49m\u001b[38;5;241;43m.\u001b[39;49m\u001b[43mto_file\u001b[49m\u001b[43m(\u001b[49m\u001b[38;5;124;43m\"\u001b[39;49m\u001b[38;5;124;43mtest/burst_to_frame.gpkg\u001b[39;49m\u001b[38;5;124;43m\"\u001b[39;49m\u001b[43m)\u001b[49m\n",
      "File \u001b[0;32m~/miniconda3/envs/mapping/lib/python3.10/site-packages/geopandas/geodataframe.py:1203\u001b[0m, in \u001b[0;36mGeoDataFrame.to_file\u001b[0;34m(self, filename, driver, schema, index, **kwargs)\u001b[0m\n\u001b[1;32m   1120\u001b[0m \u001b[38;5;124;03m\"\"\"Write the ``GeoDataFrame`` to a file.\u001b[39;00m\n\u001b[1;32m   1121\u001b[0m \n\u001b[1;32m   1122\u001b[0m \u001b[38;5;124;03mBy default, an ESRI shapefile is written, but any OGR data source\u001b[39;00m\n\u001b[0;32m   (...)\u001b[0m\n\u001b[1;32m   1199\u001b[0m \u001b[38;5;124;03m>>> gdf.to_file('dataframe.shp', mode=\"a\")  # doctest: +SKIP\u001b[39;00m\n\u001b[1;32m   1200\u001b[0m \u001b[38;5;124;03m\"\"\"\u001b[39;00m\n\u001b[1;32m   1201\u001b[0m \u001b[38;5;28;01mfrom\u001b[39;00m \u001b[38;5;21;01mgeopandas\u001b[39;00m\u001b[38;5;21;01m.\u001b[39;00m\u001b[38;5;21;01mio\u001b[39;00m\u001b[38;5;21;01m.\u001b[39;00m\u001b[38;5;21;01mfile\u001b[39;00m \u001b[38;5;28;01mimport\u001b[39;00m _to_file\n\u001b[0;32m-> 1203\u001b[0m \u001b[43m_to_file\u001b[49m\u001b[43m(\u001b[49m\u001b[38;5;28;43mself\u001b[39;49m\u001b[43m,\u001b[49m\u001b[43m \u001b[49m\u001b[43mfilename\u001b[49m\u001b[43m,\u001b[49m\u001b[43m \u001b[49m\u001b[43mdriver\u001b[49m\u001b[43m,\u001b[49m\u001b[43m \u001b[49m\u001b[43mschema\u001b[49m\u001b[43m,\u001b[49m\u001b[43m \u001b[49m\u001b[43mindex\u001b[49m\u001b[43m,\u001b[49m\u001b[43m \u001b[49m\u001b[38;5;241;43m*\u001b[39;49m\u001b[38;5;241;43m*\u001b[39;49m\u001b[43mkwargs\u001b[49m\u001b[43m)\u001b[49m\n",
      "File \u001b[0;32m~/miniconda3/envs/mapping/lib/python3.10/site-packages/geopandas/io/file.py:545\u001b[0m, in \u001b[0;36m_to_file\u001b[0;34m(df, filename, driver, schema, index, mode, crs, engine, **kwargs)\u001b[0m\n\u001b[1;32m    538\u001b[0m     warnings\u001b[38;5;241m.\u001b[39mwarn(\n\u001b[1;32m    539\u001b[0m         \u001b[38;5;124m\"\u001b[39m\u001b[38;5;124mColumn names longer than 10 characters will be truncated when saved to \u001b[39m\u001b[38;5;124m\"\u001b[39m\n\u001b[1;32m    540\u001b[0m         \u001b[38;5;124m\"\u001b[39m\u001b[38;5;124mESRI Shapefile.\u001b[39m\u001b[38;5;124m\"\u001b[39m,\n\u001b[1;32m    541\u001b[0m         stacklevel\u001b[38;5;241m=\u001b[39m\u001b[38;5;241m3\u001b[39m,\n\u001b[1;32m    542\u001b[0m     )\n\u001b[1;32m    544\u001b[0m \u001b[38;5;28;01mif\u001b[39;00m engine \u001b[38;5;241m==\u001b[39m \u001b[38;5;124m\"\u001b[39m\u001b[38;5;124mfiona\u001b[39m\u001b[38;5;124m\"\u001b[39m:\n\u001b[0;32m--> 545\u001b[0m     \u001b[43m_to_file_fiona\u001b[49m\u001b[43m(\u001b[49m\u001b[43mdf\u001b[49m\u001b[43m,\u001b[49m\u001b[43m \u001b[49m\u001b[43mfilename\u001b[49m\u001b[43m,\u001b[49m\u001b[43m \u001b[49m\u001b[43mdriver\u001b[49m\u001b[43m,\u001b[49m\u001b[43m \u001b[49m\u001b[43mschema\u001b[49m\u001b[43m,\u001b[49m\u001b[43m \u001b[49m\u001b[43mcrs\u001b[49m\u001b[43m,\u001b[49m\u001b[43m \u001b[49m\u001b[43mmode\u001b[49m\u001b[43m,\u001b[49m\u001b[43m \u001b[49m\u001b[38;5;241;43m*\u001b[39;49m\u001b[38;5;241;43m*\u001b[39;49m\u001b[43mkwargs\u001b[49m\u001b[43m)\u001b[49m\n\u001b[1;32m    546\u001b[0m \u001b[38;5;28;01melif\u001b[39;00m engine \u001b[38;5;241m==\u001b[39m \u001b[38;5;124m\"\u001b[39m\u001b[38;5;124mpyogrio\u001b[39m\u001b[38;5;124m\"\u001b[39m:\n\u001b[1;32m    547\u001b[0m     _to_file_pyogrio(df, filename, driver, schema, crs, mode, \u001b[38;5;241m*\u001b[39m\u001b[38;5;241m*\u001b[39mkwargs)\n",
      "File \u001b[0;32m~/miniconda3/envs/mapping/lib/python3.10/site-packages/geopandas/io/file.py:555\u001b[0m, in \u001b[0;36m_to_file_fiona\u001b[0;34m(df, filename, driver, schema, crs, mode, **kwargs)\u001b[0m\n\u001b[1;32m    552\u001b[0m \u001b[38;5;28;01mdef\u001b[39;00m \u001b[38;5;21m_to_file_fiona\u001b[39m(df, filename, driver, schema, crs, mode, \u001b[38;5;241m*\u001b[39m\u001b[38;5;241m*\u001b[39mkwargs):\n\u001b[1;32m    554\u001b[0m     \u001b[38;5;28;01mif\u001b[39;00m schema \u001b[38;5;129;01mis\u001b[39;00m \u001b[38;5;28;01mNone\u001b[39;00m:\n\u001b[0;32m--> 555\u001b[0m         schema \u001b[38;5;241m=\u001b[39m \u001b[43minfer_schema\u001b[49m\u001b[43m(\u001b[49m\u001b[43mdf\u001b[49m\u001b[43m)\u001b[49m\n\u001b[1;32m    557\u001b[0m     \u001b[38;5;28;01mif\u001b[39;00m crs:\n\u001b[1;32m    558\u001b[0m         crs \u001b[38;5;241m=\u001b[39m pyproj\u001b[38;5;241m.\u001b[39mCRS\u001b[38;5;241m.\u001b[39mfrom_user_input(crs)\n",
      "File \u001b[0;32m~/miniconda3/envs/mapping/lib/python3.10/site-packages/geopandas/io/file.py:639\u001b[0m, in \u001b[0;36minfer_schema\u001b[0;34m(df)\u001b[0m\n\u001b[1;32m    630\u001b[0m     warnings\u001b[38;5;241m.\u001b[39mwarn(\n\u001b[1;32m    631\u001b[0m         \u001b[38;5;124m\"\u001b[39m\u001b[38;5;124mYou are attempting to write an empty DataFrame to file. \u001b[39m\u001b[38;5;124m\"\u001b[39m\n\u001b[1;32m    632\u001b[0m         \u001b[38;5;124m\"\u001b[39m\u001b[38;5;124mFor some drivers, this operation may fail.\u001b[39m\u001b[38;5;124m\"\u001b[39m,\n\u001b[1;32m    633\u001b[0m         \u001b[38;5;167;01mUserWarning\u001b[39;00m,\n\u001b[1;32m    634\u001b[0m         stacklevel\u001b[38;5;241m=\u001b[39m\u001b[38;5;241m3\u001b[39m,\n\u001b[1;32m    635\u001b[0m     )\n\u001b[1;32m    637\u001b[0m \u001b[38;5;66;03m# Since https://github.com/Toblerity/Fiona/issues/446 resolution,\u001b[39;00m\n\u001b[1;32m    638\u001b[0m \u001b[38;5;66;03m# Fiona allows a list of geometry types\u001b[39;00m\n\u001b[0;32m--> 639\u001b[0m geom_types \u001b[38;5;241m=\u001b[39m \u001b[43m_geometry_types\u001b[49m\u001b[43m(\u001b[49m\u001b[43mdf\u001b[49m\u001b[43m)\u001b[49m\n\u001b[1;32m    641\u001b[0m schema \u001b[38;5;241m=\u001b[39m {\u001b[38;5;124m\"\u001b[39m\u001b[38;5;124mgeometry\u001b[39m\u001b[38;5;124m\"\u001b[39m: geom_types, \u001b[38;5;124m\"\u001b[39m\u001b[38;5;124mproperties\u001b[39m\u001b[38;5;124m\"\u001b[39m: properties}\n\u001b[1;32m    643\u001b[0m \u001b[38;5;28;01mreturn\u001b[39;00m schema\n",
      "File \u001b[0;32m~/miniconda3/envs/mapping/lib/python3.10/site-packages/geopandas/io/file.py:650\u001b[0m, in \u001b[0;36m_geometry_types\u001b[0;34m(df)\u001b[0m\n\u001b[1;32m    646\u001b[0m \u001b[38;5;28;01mdef\u001b[39;00m \u001b[38;5;21m_geometry_types\u001b[39m(df):\n\u001b[1;32m    647\u001b[0m     \u001b[38;5;124;03m\"\"\"\u001b[39;00m\n\u001b[1;32m    648\u001b[0m \u001b[38;5;124;03m    Determine the geometry types in the GeoDataFrame for the schema.\u001b[39;00m\n\u001b[1;32m    649\u001b[0m \u001b[38;5;124;03m    \"\"\"\u001b[39;00m\n\u001b[0;32m--> 650\u001b[0m     geom_types_2D \u001b[38;5;241m=\u001b[39m df[\u001b[38;5;241m~\u001b[39m\u001b[43mdf\u001b[49m\u001b[38;5;241;43m.\u001b[39;49m\u001b[43mgeometry\u001b[49m\u001b[38;5;241m.\u001b[39mhas_z]\u001b[38;5;241m.\u001b[39mgeometry\u001b[38;5;241m.\u001b[39mgeom_type\u001b[38;5;241m.\u001b[39munique()\n\u001b[1;32m    651\u001b[0m     geom_types_2D \u001b[38;5;241m=\u001b[39m [gtype \u001b[38;5;28;01mfor\u001b[39;00m gtype \u001b[38;5;129;01min\u001b[39;00m geom_types_2D \u001b[38;5;28;01mif\u001b[39;00m gtype \u001b[38;5;129;01mis\u001b[39;00m \u001b[38;5;129;01mnot\u001b[39;00m \u001b[38;5;28;01mNone\u001b[39;00m]\n\u001b[1;32m    652\u001b[0m     geom_types_3D \u001b[38;5;241m=\u001b[39m df[df\u001b[38;5;241m.\u001b[39mgeometry\u001b[38;5;241m.\u001b[39mhas_z]\u001b[38;5;241m.\u001b[39mgeometry\u001b[38;5;241m.\u001b[39mgeom_type\u001b[38;5;241m.\u001b[39munique()\n",
      "File \u001b[0;32m~/miniconda3/envs/mapping/lib/python3.10/site-packages/pandas/core/generic.py:5575\u001b[0m, in \u001b[0;36mNDFrame.__getattr__\u001b[0;34m(self, name)\u001b[0m\n\u001b[1;32m   5568\u001b[0m \u001b[38;5;28;01mif\u001b[39;00m (\n\u001b[1;32m   5569\u001b[0m     name \u001b[38;5;129;01mnot\u001b[39;00m \u001b[38;5;129;01min\u001b[39;00m \u001b[38;5;28mself\u001b[39m\u001b[38;5;241m.\u001b[39m_internal_names_set\n\u001b[1;32m   5570\u001b[0m     \u001b[38;5;129;01mand\u001b[39;00m name \u001b[38;5;129;01mnot\u001b[39;00m \u001b[38;5;129;01min\u001b[39;00m \u001b[38;5;28mself\u001b[39m\u001b[38;5;241m.\u001b[39m_metadata\n\u001b[1;32m   5571\u001b[0m     \u001b[38;5;129;01mand\u001b[39;00m name \u001b[38;5;129;01mnot\u001b[39;00m \u001b[38;5;129;01min\u001b[39;00m \u001b[38;5;28mself\u001b[39m\u001b[38;5;241m.\u001b[39m_accessors\n\u001b[1;32m   5572\u001b[0m     \u001b[38;5;129;01mand\u001b[39;00m \u001b[38;5;28mself\u001b[39m\u001b[38;5;241m.\u001b[39m_info_axis\u001b[38;5;241m.\u001b[39m_can_hold_identifiers_and_holds_name(name)\n\u001b[1;32m   5573\u001b[0m ):\n\u001b[1;32m   5574\u001b[0m     \u001b[38;5;28;01mreturn\u001b[39;00m \u001b[38;5;28mself\u001b[39m[name]\n\u001b[0;32m-> 5575\u001b[0m \u001b[38;5;28;01mreturn\u001b[39;00m \u001b[38;5;28;43mobject\u001b[39;49m\u001b[38;5;241;43m.\u001b[39;49m\u001b[38;5;21;43m__getattribute__\u001b[39;49m\u001b[43m(\u001b[49m\u001b[38;5;28;43mself\u001b[39;49m\u001b[43m,\u001b[49m\u001b[43m \u001b[49m\u001b[43mname\u001b[49m\u001b[43m)\u001b[49m\n",
      "File \u001b[0;32m~/miniconda3/envs/mapping/lib/python3.10/site-packages/geopandas/geodataframe.py:232\u001b[0m, in \u001b[0;36mGeoDataFrame._get_geometry\u001b[0;34m(self)\u001b[0m\n\u001b[1;32m    225\u001b[0m     \u001b[38;5;28;01melse\u001b[39;00m:\n\u001b[1;32m    226\u001b[0m         msg \u001b[38;5;241m+\u001b[39m\u001b[38;5;241m=\u001b[39m (\n\u001b[1;32m    227\u001b[0m             \u001b[38;5;124m\"\u001b[39m\u001b[38;5;130;01m\\n\u001b[39;00m\u001b[38;5;124mThere are no existing columns with geometry data type. You can \u001b[39m\u001b[38;5;124m\"\u001b[39m\n\u001b[1;32m    228\u001b[0m             \u001b[38;5;124m\"\u001b[39m\u001b[38;5;124madd a geometry column as the active geometry column with \u001b[39m\u001b[38;5;124m\"\u001b[39m\n\u001b[1;32m    229\u001b[0m             \u001b[38;5;124m\"\u001b[39m\u001b[38;5;124mdf.set_geometry. \u001b[39m\u001b[38;5;124m\"\u001b[39m\n\u001b[1;32m    230\u001b[0m         )\n\u001b[0;32m--> 232\u001b[0m     \u001b[38;5;28;01mraise\u001b[39;00m \u001b[38;5;167;01mAttributeError\u001b[39;00m(msg)\n\u001b[1;32m    233\u001b[0m \u001b[38;5;28;01mreturn\u001b[39;00m \u001b[38;5;28mself\u001b[39m[\u001b[38;5;28mself\u001b[39m\u001b[38;5;241m.\u001b[39m_geometry_column_name]\n",
      "\u001b[0;31mAttributeError\u001b[0m: You are calling a geospatial method on the GeoDataFrame, but the active geometry column ('geometry') is not present. \nThere are no existing columns with geometry data type. You can add a geometry column as the active geometry column with df.set_geometry. "
     ]
    }
   ],
   "source": [
    "gpd.GeoDataFrame(df_frame_normalized).to_file(\"test/burst_to_frame.gpkg\")"
   ]
  },
  {
   "cell_type": "code",
   "execution_count": 184,
   "id": "b8ac69d0-e038-40d7-9d42-ceea9bf0ae66",
   "metadata": {},
   "outputs": [
    {
     "data": {
      "text/html": [
       "<div>\n",
       "<style scoped>\n",
       "    .dataframe tbody tr th:only-of-type {\n",
       "        vertical-align: middle;\n",
       "    }\n",
       "\n",
       "    .dataframe tbody tr th {\n",
       "        vertical-align: top;\n",
       "    }\n",
       "\n",
       "    .dataframe thead th {\n",
       "        text-align: right;\n",
       "    }\n",
       "</style>\n",
       "<table border=\"1\" class=\"dataframe\">\n",
       "  <thead>\n",
       "    <tr style=\"text-align: right;\">\n",
       "      <th></th>\n",
       "      <th>frame_id</th>\n",
       "      <th>geometry</th>\n",
       "    </tr>\n",
       "  </thead>\n",
       "  <tbody>\n",
       "    <tr>\n",
       "      <th>0</th>\n",
       "      <td>1</td>\n",
       "      <td>POLYGON Z ((3.01777 2.42129 0.00000, 3.01776 2...</td>\n",
       "    </tr>\n",
       "    <tr>\n",
       "      <th>1</th>\n",
       "      <td>2</td>\n",
       "      <td>POLYGON Z ((2.70450 3.92269 0.00000, 2.70450 3...</td>\n",
       "    </tr>\n",
       "    <tr>\n",
       "      <th>2</th>\n",
       "      <td>3</td>\n",
       "      <td>POLYGON Z ((2.39275 5.42421 0.00000, 2.39275 5...</td>\n",
       "    </tr>\n",
       "    <tr>\n",
       "      <th>3</th>\n",
       "      <td>4</td>\n",
       "      <td>POLYGON Z ((2.08218 6.92580 0.00000, 2.08218 6...</td>\n",
       "    </tr>\n",
       "    <tr>\n",
       "      <th>4</th>\n",
       "      <td>5</td>\n",
       "      <td>POLYGON Z ((1.77252 8.42742 0.00000, 1.77252 8...</td>\n",
       "    </tr>\n",
       "  </tbody>\n",
       "</table>\n",
       "</div>"
      ],
      "text/plain": [
       "   frame_id                                           geometry\n",
       "0         1  POLYGON Z ((3.01777 2.42129 0.00000, 3.01776 2...\n",
       "1         2  POLYGON Z ((2.70450 3.92269 0.00000, 2.70450 3...\n",
       "2         3  POLYGON Z ((2.39275 5.42421 0.00000, 2.39275 5...\n",
       "3         4  POLYGON Z ((2.08218 6.92580 0.00000, 2.08218 6...\n",
       "4         5  POLYGON Z ((1.77252 8.42742 0.00000, 1.77252 8..."
      ]
     },
     "execution_count": 184,
     "metadata": {},
     "output_type": "execute_result"
    }
   ],
   "source": [
    "df_frames_final[['frame_id', 'geometry']].head()"
   ]
  },
  {
   "cell_type": "code",
   "execution_count": 192,
   "id": "92b1a10d-0d60-4392-a7ee-53679b0d7946",
   "metadata": {},
   "outputs": [
    {
     "ename": "InterfaceError",
     "evalue": "Error binding parameter 1 - probably unsupported type.",
     "output_type": "error",
     "traceback": [
      "\u001b[0;31m---------------------------------------------------------------------------\u001b[0m",
      "\u001b[0;31mInterfaceError\u001b[0m                            Traceback (most recent call last)",
      "Input \u001b[0;32mIn [192]\u001b[0m, in \u001b[0;36m<cell line: 3>\u001b[0;34m()\u001b[0m\n\u001b[1;32m      5\u001b[0m con\u001b[38;5;241m.\u001b[39menable_load_extension(\u001b[38;5;28;01mTrue\u001b[39;00m)\n\u001b[1;32m      6\u001b[0m con\u001b[38;5;241m.\u001b[39mload_extension(\u001b[38;5;124m\"\u001b[39m\u001b[38;5;124mmod_spatialite\u001b[39m\u001b[38;5;124m\"\u001b[39m)\n\u001b[0;32m----> 7\u001b[0m \u001b[43mdf_frames_final\u001b[49m\u001b[43m[\u001b[49m\u001b[43m[\u001b[49m\u001b[38;5;124;43m'\u001b[39;49m\u001b[38;5;124;43mframe_id\u001b[39;49m\u001b[38;5;124;43m'\u001b[39;49m\u001b[43m,\u001b[49m\u001b[43m \u001b[49m\u001b[38;5;124;43m'\u001b[39;49m\u001b[38;5;124;43mgeometry\u001b[39;49m\u001b[38;5;124;43m'\u001b[39;49m\u001b[43m]\u001b[49m\u001b[43m]\u001b[49m\u001b[38;5;241;43m.\u001b[39;49m\u001b[43mto_sql\u001b[49m\u001b[43m(\u001b[49m\u001b[43mtable_name\u001b[49m\u001b[43m,\u001b[49m\u001b[43m \u001b[49m\u001b[43mcon\u001b[49m\u001b[38;5;241;43m=\u001b[39;49m\u001b[43mcon\u001b[49m\u001b[43m,\u001b[49m\u001b[43m \u001b[49m\u001b[43mindex\u001b[49m\u001b[38;5;241;43m=\u001b[39;49m\u001b[38;5;28;43;01mFalse\u001b[39;49;00m\u001b[43m)\u001b[49m\n",
      "File \u001b[0;32m~/miniconda3/envs/mapping/lib/python3.10/site-packages/pandas/core/generic.py:2951\u001b[0m, in \u001b[0;36mNDFrame.to_sql\u001b[0;34m(self, name, con, schema, if_exists, index, index_label, chunksize, dtype, method)\u001b[0m\n\u001b[1;32m   2794\u001b[0m \u001b[38;5;124;03m\"\"\"\u001b[39;00m\n\u001b[1;32m   2795\u001b[0m \u001b[38;5;124;03mWrite records stored in a DataFrame to a SQL database.\u001b[39;00m\n\u001b[1;32m   2796\u001b[0m \n\u001b[0;32m   (...)\u001b[0m\n\u001b[1;32m   2947\u001b[0m \u001b[38;5;124;03m[(1,), (None,), (2,)]\u001b[39;00m\n\u001b[1;32m   2948\u001b[0m \u001b[38;5;124;03m\"\"\"\u001b[39;00m  \u001b[38;5;66;03m# noqa:E501\u001b[39;00m\n\u001b[1;32m   2949\u001b[0m \u001b[38;5;28;01mfrom\u001b[39;00m \u001b[38;5;21;01mpandas\u001b[39;00m\u001b[38;5;21;01m.\u001b[39;00m\u001b[38;5;21;01mio\u001b[39;00m \u001b[38;5;28;01mimport\u001b[39;00m sql\n\u001b[0;32m-> 2951\u001b[0m \u001b[38;5;28;01mreturn\u001b[39;00m \u001b[43msql\u001b[49m\u001b[38;5;241;43m.\u001b[39;49m\u001b[43mto_sql\u001b[49m\u001b[43m(\u001b[49m\n\u001b[1;32m   2952\u001b[0m \u001b[43m    \u001b[49m\u001b[38;5;28;43mself\u001b[39;49m\u001b[43m,\u001b[49m\n\u001b[1;32m   2953\u001b[0m \u001b[43m    \u001b[49m\u001b[43mname\u001b[49m\u001b[43m,\u001b[49m\n\u001b[1;32m   2954\u001b[0m \u001b[43m    \u001b[49m\u001b[43mcon\u001b[49m\u001b[43m,\u001b[49m\n\u001b[1;32m   2955\u001b[0m \u001b[43m    \u001b[49m\u001b[43mschema\u001b[49m\u001b[38;5;241;43m=\u001b[39;49m\u001b[43mschema\u001b[49m\u001b[43m,\u001b[49m\n\u001b[1;32m   2956\u001b[0m \u001b[43m    \u001b[49m\u001b[43mif_exists\u001b[49m\u001b[38;5;241;43m=\u001b[39;49m\u001b[43mif_exists\u001b[49m\u001b[43m,\u001b[49m\n\u001b[1;32m   2957\u001b[0m \u001b[43m    \u001b[49m\u001b[43mindex\u001b[49m\u001b[38;5;241;43m=\u001b[39;49m\u001b[43mindex\u001b[49m\u001b[43m,\u001b[49m\n\u001b[1;32m   2958\u001b[0m \u001b[43m    \u001b[49m\u001b[43mindex_label\u001b[49m\u001b[38;5;241;43m=\u001b[39;49m\u001b[43mindex_label\u001b[49m\u001b[43m,\u001b[49m\n\u001b[1;32m   2959\u001b[0m \u001b[43m    \u001b[49m\u001b[43mchunksize\u001b[49m\u001b[38;5;241;43m=\u001b[39;49m\u001b[43mchunksize\u001b[49m\u001b[43m,\u001b[49m\n\u001b[1;32m   2960\u001b[0m \u001b[43m    \u001b[49m\u001b[43mdtype\u001b[49m\u001b[38;5;241;43m=\u001b[39;49m\u001b[43mdtype\u001b[49m\u001b[43m,\u001b[49m\n\u001b[1;32m   2961\u001b[0m \u001b[43m    \u001b[49m\u001b[43mmethod\u001b[49m\u001b[38;5;241;43m=\u001b[39;49m\u001b[43mmethod\u001b[49m\u001b[43m,\u001b[49m\n\u001b[1;32m   2962\u001b[0m \u001b[43m\u001b[49m\u001b[43m)\u001b[49m\n",
      "File \u001b[0;32m~/miniconda3/envs/mapping/lib/python3.10/site-packages/pandas/io/sql.py:697\u001b[0m, in \u001b[0;36mto_sql\u001b[0;34m(frame, name, con, schema, if_exists, index, index_label, chunksize, dtype, method, engine, **engine_kwargs)\u001b[0m\n\u001b[1;32m    692\u001b[0m \u001b[38;5;28;01melif\u001b[39;00m \u001b[38;5;129;01mnot\u001b[39;00m \u001b[38;5;28misinstance\u001b[39m(frame, DataFrame):\n\u001b[1;32m    693\u001b[0m     \u001b[38;5;28;01mraise\u001b[39;00m \u001b[38;5;167;01mNotImplementedError\u001b[39;00m(\n\u001b[1;32m    694\u001b[0m         \u001b[38;5;124m\"\u001b[39m\u001b[38;5;124m'\u001b[39m\u001b[38;5;124mframe\u001b[39m\u001b[38;5;124m'\u001b[39m\u001b[38;5;124m argument should be either a Series or a DataFrame\u001b[39m\u001b[38;5;124m\"\u001b[39m\n\u001b[1;32m    695\u001b[0m     )\n\u001b[0;32m--> 697\u001b[0m \u001b[38;5;28;01mreturn\u001b[39;00m \u001b[43mpandas_sql\u001b[49m\u001b[38;5;241;43m.\u001b[39;49m\u001b[43mto_sql\u001b[49m\u001b[43m(\u001b[49m\n\u001b[1;32m    698\u001b[0m \u001b[43m    \u001b[49m\u001b[43mframe\u001b[49m\u001b[43m,\u001b[49m\n\u001b[1;32m    699\u001b[0m \u001b[43m    \u001b[49m\u001b[43mname\u001b[49m\u001b[43m,\u001b[49m\n\u001b[1;32m    700\u001b[0m \u001b[43m    \u001b[49m\u001b[43mif_exists\u001b[49m\u001b[38;5;241;43m=\u001b[39;49m\u001b[43mif_exists\u001b[49m\u001b[43m,\u001b[49m\n\u001b[1;32m    701\u001b[0m \u001b[43m    \u001b[49m\u001b[43mindex\u001b[49m\u001b[38;5;241;43m=\u001b[39;49m\u001b[43mindex\u001b[49m\u001b[43m,\u001b[49m\n\u001b[1;32m    702\u001b[0m \u001b[43m    \u001b[49m\u001b[43mindex_label\u001b[49m\u001b[38;5;241;43m=\u001b[39;49m\u001b[43mindex_label\u001b[49m\u001b[43m,\u001b[49m\n\u001b[1;32m    703\u001b[0m \u001b[43m    \u001b[49m\u001b[43mschema\u001b[49m\u001b[38;5;241;43m=\u001b[39;49m\u001b[43mschema\u001b[49m\u001b[43m,\u001b[49m\n\u001b[1;32m    704\u001b[0m \u001b[43m    \u001b[49m\u001b[43mchunksize\u001b[49m\u001b[38;5;241;43m=\u001b[39;49m\u001b[43mchunksize\u001b[49m\u001b[43m,\u001b[49m\n\u001b[1;32m    705\u001b[0m \u001b[43m    \u001b[49m\u001b[43mdtype\u001b[49m\u001b[38;5;241;43m=\u001b[39;49m\u001b[43mdtype\u001b[49m\u001b[43m,\u001b[49m\n\u001b[1;32m    706\u001b[0m \u001b[43m    \u001b[49m\u001b[43mmethod\u001b[49m\u001b[38;5;241;43m=\u001b[39;49m\u001b[43mmethod\u001b[49m\u001b[43m,\u001b[49m\n\u001b[1;32m    707\u001b[0m \u001b[43m    \u001b[49m\u001b[43mengine\u001b[49m\u001b[38;5;241;43m=\u001b[39;49m\u001b[43mengine\u001b[49m\u001b[43m,\u001b[49m\n\u001b[1;32m    708\u001b[0m \u001b[43m    \u001b[49m\u001b[38;5;241;43m*\u001b[39;49m\u001b[38;5;241;43m*\u001b[39;49m\u001b[43mengine_kwargs\u001b[49m\u001b[43m,\u001b[49m\n\u001b[1;32m    709\u001b[0m \u001b[43m\u001b[49m\u001b[43m)\u001b[49m\n",
      "File \u001b[0;32m~/miniconda3/envs/mapping/lib/python3.10/site-packages/pandas/io/sql.py:2190\u001b[0m, in \u001b[0;36mSQLiteDatabase.to_sql\u001b[0;34m(self, frame, name, if_exists, index, index_label, schema, chunksize, dtype, method, **kwargs)\u001b[0m\n\u001b[1;32m   2180\u001b[0m table \u001b[38;5;241m=\u001b[39m SQLiteTable(\n\u001b[1;32m   2181\u001b[0m     name,\n\u001b[1;32m   2182\u001b[0m     \u001b[38;5;28mself\u001b[39m,\n\u001b[0;32m   (...)\u001b[0m\n\u001b[1;32m   2187\u001b[0m     dtype\u001b[38;5;241m=\u001b[39mdtype,\n\u001b[1;32m   2188\u001b[0m )\n\u001b[1;32m   2189\u001b[0m table\u001b[38;5;241m.\u001b[39mcreate()\n\u001b[0;32m-> 2190\u001b[0m \u001b[38;5;28;01mreturn\u001b[39;00m \u001b[43mtable\u001b[49m\u001b[38;5;241;43m.\u001b[39;49m\u001b[43minsert\u001b[49m\u001b[43m(\u001b[49m\u001b[43mchunksize\u001b[49m\u001b[43m,\u001b[49m\u001b[43m \u001b[49m\u001b[43mmethod\u001b[49m\u001b[43m)\u001b[49m\n",
      "File \u001b[0;32m~/miniconda3/envs/mapping/lib/python3.10/site-packages/pandas/io/sql.py:950\u001b[0m, in \u001b[0;36mSQLTable.insert\u001b[0;34m(self, chunksize, method)\u001b[0m\n\u001b[1;32m    947\u001b[0m     \u001b[38;5;28;01mbreak\u001b[39;00m\n\u001b[1;32m    949\u001b[0m chunk_iter \u001b[38;5;241m=\u001b[39m \u001b[38;5;28mzip\u001b[39m(\u001b[38;5;241m*\u001b[39m(arr[start_i:end_i] \u001b[38;5;28;01mfor\u001b[39;00m arr \u001b[38;5;129;01min\u001b[39;00m data_list))\n\u001b[0;32m--> 950\u001b[0m num_inserted \u001b[38;5;241m=\u001b[39m \u001b[43mexec_insert\u001b[49m\u001b[43m(\u001b[49m\u001b[43mconn\u001b[49m\u001b[43m,\u001b[49m\u001b[43m \u001b[49m\u001b[43mkeys\u001b[49m\u001b[43m,\u001b[49m\u001b[43m \u001b[49m\u001b[43mchunk_iter\u001b[49m\u001b[43m)\u001b[49m\n\u001b[1;32m    951\u001b[0m \u001b[38;5;28;01mif\u001b[39;00m num_inserted \u001b[38;5;129;01mis\u001b[39;00m \u001b[38;5;28;01mNone\u001b[39;00m:\n\u001b[1;32m    952\u001b[0m     total_inserted \u001b[38;5;241m=\u001b[39m \u001b[38;5;28;01mNone\u001b[39;00m\n",
      "File \u001b[0;32m~/miniconda3/envs/mapping/lib/python3.10/site-packages/pandas/io/sql.py:1896\u001b[0m, in \u001b[0;36mSQLiteTable._execute_insert\u001b[0;34m(self, conn, keys, data_iter)\u001b[0m\n\u001b[1;32m   1894\u001b[0m \u001b[38;5;28;01mdef\u001b[39;00m \u001b[38;5;21m_execute_insert\u001b[39m(\u001b[38;5;28mself\u001b[39m, conn, keys, data_iter) \u001b[38;5;241m-\u001b[39m\u001b[38;5;241m>\u001b[39m \u001b[38;5;28mint\u001b[39m:\n\u001b[1;32m   1895\u001b[0m     data_list \u001b[38;5;241m=\u001b[39m \u001b[38;5;28mlist\u001b[39m(data_iter)\n\u001b[0;32m-> 1896\u001b[0m     \u001b[43mconn\u001b[49m\u001b[38;5;241;43m.\u001b[39;49m\u001b[43mexecutemany\u001b[49m\u001b[43m(\u001b[49m\u001b[38;5;28;43mself\u001b[39;49m\u001b[38;5;241;43m.\u001b[39;49m\u001b[43minsert_statement\u001b[49m\u001b[43m(\u001b[49m\u001b[43mnum_rows\u001b[49m\u001b[38;5;241;43m=\u001b[39;49m\u001b[38;5;241;43m1\u001b[39;49m\u001b[43m)\u001b[49m\u001b[43m,\u001b[49m\u001b[43m \u001b[49m\u001b[43mdata_list\u001b[49m\u001b[43m)\u001b[49m\n\u001b[1;32m   1897\u001b[0m     \u001b[38;5;28;01mreturn\u001b[39;00m conn\u001b[38;5;241m.\u001b[39mrowcount\n",
      "\u001b[0;31mInterfaceError\u001b[0m: Error binding parameter 1 - probably unsupported type."
     ]
    }
   ],
   "source": [
    "table_name = \"frame_geometries\"\n",
    "\n",
    "with sqlite3.connect(\"/Users/staniewi/repos/burst_db/burst_map_with_frames.sqlite3\") as con:\n",
    "    # df.to_sql(table_name, con, if_exists=\"replace\", index=False)\n",
    "    con.enable_load_extension(True)\n",
    "    con.load_extension(\"mod_spatialite\")\n",
    "    df_frames_final[['frame_id', 'geometry']].to_sql(table_name, con=con, index=False)\n",
    "#     print(\"Creating spatialite tables and geometry\")\n",
    "#     sql = f\"\"\"\n",
    "#     BEGIN;\n",
    "\n",
    "#     CREATE INDEX idx_frame_geometries_frame_id ON frame_geometries (frame_id)\n",
    "\n",
    "#     SELECT AddGeometryColumn('{table_name}', 'geometry', 4326, 'MULTIPOLYGON', 'XYZ');\n",
    "#     UPDATE {table_name} SET geometry=GeomFromWKB(geometry_wkb, 4326);\n",
    "#     SELECT CreateSpatialIndex('{table_name}', 'geometry');\n",
    "\n",
    "#     -- Drop unnecessary blob column\n",
    "#     ALTER TABLE {table_name} DROP COLUMN geometry_wkb;\n",
    "\n",
    "#     COMMIT;\n",
    "#     \"\"\""
   ]
  },
  {
   "cell_type": "code",
   "execution_count": 185,
   "id": "c6fcc577-d6ca-4b5e-a5e9-f5bd4f8e441b",
   "metadata": {},
   "outputs": [
    {
     "ename": "InterfaceError",
     "evalue": "Error binding parameter 1 - probably unsupported type.",
     "output_type": "error",
     "traceback": [
      "\u001b[0;31m---------------------------------------------------------------------------\u001b[0m",
      "\u001b[0;31mInterfaceError\u001b[0m                            Traceback (most recent call last)",
      "Input \u001b[0;32mIn [185]\u001b[0m, in \u001b[0;36m<cell line: 3>\u001b[0;34m()\u001b[0m\n\u001b[1;32m      1\u001b[0m con \u001b[38;5;241m=\u001b[39m sqlite3\u001b[38;5;241m.\u001b[39mconnect(\u001b[38;5;124m\"\u001b[39m\u001b[38;5;124m/Users/staniewi/repos/burst_db/burst_map_with_frames.sqlite3\u001b[39m\u001b[38;5;124m\"\u001b[39m)\n\u001b[0;32m----> 3\u001b[0m \u001b[43mdf_frames_final\u001b[49m\u001b[43m[\u001b[49m\u001b[43m[\u001b[49m\u001b[38;5;124;43m'\u001b[39;49m\u001b[38;5;124;43mframe_id\u001b[39;49m\u001b[38;5;124;43m'\u001b[39;49m\u001b[43m,\u001b[49m\u001b[43m \u001b[49m\u001b[38;5;124;43m'\u001b[39;49m\u001b[38;5;124;43mgeometry\u001b[39;49m\u001b[38;5;124;43m'\u001b[39;49m\u001b[43m]\u001b[49m\u001b[43m]\u001b[49m\u001b[38;5;241;43m.\u001b[39;49m\u001b[43mto_sql\u001b[49m\u001b[43m(\u001b[49m\u001b[38;5;124;43m\"\u001b[39;49m\u001b[38;5;124;43mframe_geometries\u001b[39;49m\u001b[38;5;124;43m\"\u001b[39;49m\u001b[43m,\u001b[49m\u001b[43m \u001b[49m\u001b[43mcon\u001b[49m\u001b[38;5;241;43m=\u001b[39;49m\u001b[43mcon\u001b[49m\u001b[43m,\u001b[49m\u001b[43m \u001b[49m\u001b[43mindex\u001b[49m\u001b[38;5;241;43m=\u001b[39;49m\u001b[38;5;28;43;01mFalse\u001b[39;49;00m\u001b[43m)\u001b[49m\n\u001b[1;32m      4\u001b[0m con\u001b[38;5;241m.\u001b[39mexecute(\u001b[38;5;124m\"\u001b[39m\u001b[38;5;124mCREATE INDEX idx_frame_geometries_frame_id ON frame_geometries (OGC_FID)\u001b[39m\u001b[38;5;124m\"\u001b[39m)\n\u001b[1;32m      5\u001b[0m con\u001b[38;5;241m.\u001b[39mexecute(\u001b[38;5;124m\"\u001b[39m\u001b[38;5;124mSELECT CreateSpatialIndex(\u001b[39m\u001b[38;5;124m'\u001b[39m\u001b[38;5;124mframe_geometries\u001b[39m\u001b[38;5;124m'\u001b[39m\u001b[38;5;124m, \u001b[39m\u001b[38;5;124m'\u001b[39m\u001b[38;5;124mgeometry\u001b[39m\u001b[38;5;124m'\u001b[39m\u001b[38;5;124m);\u001b[39m\u001b[38;5;124m\"\u001b[39m)\n",
      "File \u001b[0;32m~/miniconda3/envs/mapping/lib/python3.10/site-packages/pandas/core/generic.py:2951\u001b[0m, in \u001b[0;36mNDFrame.to_sql\u001b[0;34m(self, name, con, schema, if_exists, index, index_label, chunksize, dtype, method)\u001b[0m\n\u001b[1;32m   2794\u001b[0m \u001b[38;5;124;03m\"\"\"\u001b[39;00m\n\u001b[1;32m   2795\u001b[0m \u001b[38;5;124;03mWrite records stored in a DataFrame to a SQL database.\u001b[39;00m\n\u001b[1;32m   2796\u001b[0m \n\u001b[0;32m   (...)\u001b[0m\n\u001b[1;32m   2947\u001b[0m \u001b[38;5;124;03m[(1,), (None,), (2,)]\u001b[39;00m\n\u001b[1;32m   2948\u001b[0m \u001b[38;5;124;03m\"\"\"\u001b[39;00m  \u001b[38;5;66;03m# noqa:E501\u001b[39;00m\n\u001b[1;32m   2949\u001b[0m \u001b[38;5;28;01mfrom\u001b[39;00m \u001b[38;5;21;01mpandas\u001b[39;00m\u001b[38;5;21;01m.\u001b[39;00m\u001b[38;5;21;01mio\u001b[39;00m \u001b[38;5;28;01mimport\u001b[39;00m sql\n\u001b[0;32m-> 2951\u001b[0m \u001b[38;5;28;01mreturn\u001b[39;00m \u001b[43msql\u001b[49m\u001b[38;5;241;43m.\u001b[39;49m\u001b[43mto_sql\u001b[49m\u001b[43m(\u001b[49m\n\u001b[1;32m   2952\u001b[0m \u001b[43m    \u001b[49m\u001b[38;5;28;43mself\u001b[39;49m\u001b[43m,\u001b[49m\n\u001b[1;32m   2953\u001b[0m \u001b[43m    \u001b[49m\u001b[43mname\u001b[49m\u001b[43m,\u001b[49m\n\u001b[1;32m   2954\u001b[0m \u001b[43m    \u001b[49m\u001b[43mcon\u001b[49m\u001b[43m,\u001b[49m\n\u001b[1;32m   2955\u001b[0m \u001b[43m    \u001b[49m\u001b[43mschema\u001b[49m\u001b[38;5;241;43m=\u001b[39;49m\u001b[43mschema\u001b[49m\u001b[43m,\u001b[49m\n\u001b[1;32m   2956\u001b[0m \u001b[43m    \u001b[49m\u001b[43mif_exists\u001b[49m\u001b[38;5;241;43m=\u001b[39;49m\u001b[43mif_exists\u001b[49m\u001b[43m,\u001b[49m\n\u001b[1;32m   2957\u001b[0m \u001b[43m    \u001b[49m\u001b[43mindex\u001b[49m\u001b[38;5;241;43m=\u001b[39;49m\u001b[43mindex\u001b[49m\u001b[43m,\u001b[49m\n\u001b[1;32m   2958\u001b[0m \u001b[43m    \u001b[49m\u001b[43mindex_label\u001b[49m\u001b[38;5;241;43m=\u001b[39;49m\u001b[43mindex_label\u001b[49m\u001b[43m,\u001b[49m\n\u001b[1;32m   2959\u001b[0m \u001b[43m    \u001b[49m\u001b[43mchunksize\u001b[49m\u001b[38;5;241;43m=\u001b[39;49m\u001b[43mchunksize\u001b[49m\u001b[43m,\u001b[49m\n\u001b[1;32m   2960\u001b[0m \u001b[43m    \u001b[49m\u001b[43mdtype\u001b[49m\u001b[38;5;241;43m=\u001b[39;49m\u001b[43mdtype\u001b[49m\u001b[43m,\u001b[49m\n\u001b[1;32m   2961\u001b[0m \u001b[43m    \u001b[49m\u001b[43mmethod\u001b[49m\u001b[38;5;241;43m=\u001b[39;49m\u001b[43mmethod\u001b[49m\u001b[43m,\u001b[49m\n\u001b[1;32m   2962\u001b[0m \u001b[43m\u001b[49m\u001b[43m)\u001b[49m\n",
      "File \u001b[0;32m~/miniconda3/envs/mapping/lib/python3.10/site-packages/pandas/io/sql.py:697\u001b[0m, in \u001b[0;36mto_sql\u001b[0;34m(frame, name, con, schema, if_exists, index, index_label, chunksize, dtype, method, engine, **engine_kwargs)\u001b[0m\n\u001b[1;32m    692\u001b[0m \u001b[38;5;28;01melif\u001b[39;00m \u001b[38;5;129;01mnot\u001b[39;00m \u001b[38;5;28misinstance\u001b[39m(frame, DataFrame):\n\u001b[1;32m    693\u001b[0m     \u001b[38;5;28;01mraise\u001b[39;00m \u001b[38;5;167;01mNotImplementedError\u001b[39;00m(\n\u001b[1;32m    694\u001b[0m         \u001b[38;5;124m\"\u001b[39m\u001b[38;5;124m'\u001b[39m\u001b[38;5;124mframe\u001b[39m\u001b[38;5;124m'\u001b[39m\u001b[38;5;124m argument should be either a Series or a DataFrame\u001b[39m\u001b[38;5;124m\"\u001b[39m\n\u001b[1;32m    695\u001b[0m     )\n\u001b[0;32m--> 697\u001b[0m \u001b[38;5;28;01mreturn\u001b[39;00m \u001b[43mpandas_sql\u001b[49m\u001b[38;5;241;43m.\u001b[39;49m\u001b[43mto_sql\u001b[49m\u001b[43m(\u001b[49m\n\u001b[1;32m    698\u001b[0m \u001b[43m    \u001b[49m\u001b[43mframe\u001b[49m\u001b[43m,\u001b[49m\n\u001b[1;32m    699\u001b[0m \u001b[43m    \u001b[49m\u001b[43mname\u001b[49m\u001b[43m,\u001b[49m\n\u001b[1;32m    700\u001b[0m \u001b[43m    \u001b[49m\u001b[43mif_exists\u001b[49m\u001b[38;5;241;43m=\u001b[39;49m\u001b[43mif_exists\u001b[49m\u001b[43m,\u001b[49m\n\u001b[1;32m    701\u001b[0m \u001b[43m    \u001b[49m\u001b[43mindex\u001b[49m\u001b[38;5;241;43m=\u001b[39;49m\u001b[43mindex\u001b[49m\u001b[43m,\u001b[49m\n\u001b[1;32m    702\u001b[0m \u001b[43m    \u001b[49m\u001b[43mindex_label\u001b[49m\u001b[38;5;241;43m=\u001b[39;49m\u001b[43mindex_label\u001b[49m\u001b[43m,\u001b[49m\n\u001b[1;32m    703\u001b[0m \u001b[43m    \u001b[49m\u001b[43mschema\u001b[49m\u001b[38;5;241;43m=\u001b[39;49m\u001b[43mschema\u001b[49m\u001b[43m,\u001b[49m\n\u001b[1;32m    704\u001b[0m \u001b[43m    \u001b[49m\u001b[43mchunksize\u001b[49m\u001b[38;5;241;43m=\u001b[39;49m\u001b[43mchunksize\u001b[49m\u001b[43m,\u001b[49m\n\u001b[1;32m    705\u001b[0m \u001b[43m    \u001b[49m\u001b[43mdtype\u001b[49m\u001b[38;5;241;43m=\u001b[39;49m\u001b[43mdtype\u001b[49m\u001b[43m,\u001b[49m\n\u001b[1;32m    706\u001b[0m \u001b[43m    \u001b[49m\u001b[43mmethod\u001b[49m\u001b[38;5;241;43m=\u001b[39;49m\u001b[43mmethod\u001b[49m\u001b[43m,\u001b[49m\n\u001b[1;32m    707\u001b[0m \u001b[43m    \u001b[49m\u001b[43mengine\u001b[49m\u001b[38;5;241;43m=\u001b[39;49m\u001b[43mengine\u001b[49m\u001b[43m,\u001b[49m\n\u001b[1;32m    708\u001b[0m \u001b[43m    \u001b[49m\u001b[38;5;241;43m*\u001b[39;49m\u001b[38;5;241;43m*\u001b[39;49m\u001b[43mengine_kwargs\u001b[49m\u001b[43m,\u001b[49m\n\u001b[1;32m    709\u001b[0m \u001b[43m\u001b[49m\u001b[43m)\u001b[49m\n",
      "File \u001b[0;32m~/miniconda3/envs/mapping/lib/python3.10/site-packages/pandas/io/sql.py:2190\u001b[0m, in \u001b[0;36mSQLiteDatabase.to_sql\u001b[0;34m(self, frame, name, if_exists, index, index_label, schema, chunksize, dtype, method, **kwargs)\u001b[0m\n\u001b[1;32m   2180\u001b[0m table \u001b[38;5;241m=\u001b[39m SQLiteTable(\n\u001b[1;32m   2181\u001b[0m     name,\n\u001b[1;32m   2182\u001b[0m     \u001b[38;5;28mself\u001b[39m,\n\u001b[0;32m   (...)\u001b[0m\n\u001b[1;32m   2187\u001b[0m     dtype\u001b[38;5;241m=\u001b[39mdtype,\n\u001b[1;32m   2188\u001b[0m )\n\u001b[1;32m   2189\u001b[0m table\u001b[38;5;241m.\u001b[39mcreate()\n\u001b[0;32m-> 2190\u001b[0m \u001b[38;5;28;01mreturn\u001b[39;00m \u001b[43mtable\u001b[49m\u001b[38;5;241;43m.\u001b[39;49m\u001b[43minsert\u001b[49m\u001b[43m(\u001b[49m\u001b[43mchunksize\u001b[49m\u001b[43m,\u001b[49m\u001b[43m \u001b[49m\u001b[43mmethod\u001b[49m\u001b[43m)\u001b[49m\n",
      "File \u001b[0;32m~/miniconda3/envs/mapping/lib/python3.10/site-packages/pandas/io/sql.py:950\u001b[0m, in \u001b[0;36mSQLTable.insert\u001b[0;34m(self, chunksize, method)\u001b[0m\n\u001b[1;32m    947\u001b[0m     \u001b[38;5;28;01mbreak\u001b[39;00m\n\u001b[1;32m    949\u001b[0m chunk_iter \u001b[38;5;241m=\u001b[39m \u001b[38;5;28mzip\u001b[39m(\u001b[38;5;241m*\u001b[39m(arr[start_i:end_i] \u001b[38;5;28;01mfor\u001b[39;00m arr \u001b[38;5;129;01min\u001b[39;00m data_list))\n\u001b[0;32m--> 950\u001b[0m num_inserted \u001b[38;5;241m=\u001b[39m \u001b[43mexec_insert\u001b[49m\u001b[43m(\u001b[49m\u001b[43mconn\u001b[49m\u001b[43m,\u001b[49m\u001b[43m \u001b[49m\u001b[43mkeys\u001b[49m\u001b[43m,\u001b[49m\u001b[43m \u001b[49m\u001b[43mchunk_iter\u001b[49m\u001b[43m)\u001b[49m\n\u001b[1;32m    951\u001b[0m \u001b[38;5;28;01mif\u001b[39;00m num_inserted \u001b[38;5;129;01mis\u001b[39;00m \u001b[38;5;28;01mNone\u001b[39;00m:\n\u001b[1;32m    952\u001b[0m     total_inserted \u001b[38;5;241m=\u001b[39m \u001b[38;5;28;01mNone\u001b[39;00m\n",
      "File \u001b[0;32m~/miniconda3/envs/mapping/lib/python3.10/site-packages/pandas/io/sql.py:1896\u001b[0m, in \u001b[0;36mSQLiteTable._execute_insert\u001b[0;34m(self, conn, keys, data_iter)\u001b[0m\n\u001b[1;32m   1894\u001b[0m \u001b[38;5;28;01mdef\u001b[39;00m \u001b[38;5;21m_execute_insert\u001b[39m(\u001b[38;5;28mself\u001b[39m, conn, keys, data_iter) \u001b[38;5;241m-\u001b[39m\u001b[38;5;241m>\u001b[39m \u001b[38;5;28mint\u001b[39m:\n\u001b[1;32m   1895\u001b[0m     data_list \u001b[38;5;241m=\u001b[39m \u001b[38;5;28mlist\u001b[39m(data_iter)\n\u001b[0;32m-> 1896\u001b[0m     \u001b[43mconn\u001b[49m\u001b[38;5;241;43m.\u001b[39;49m\u001b[43mexecutemany\u001b[49m\u001b[43m(\u001b[49m\u001b[38;5;28;43mself\u001b[39;49m\u001b[38;5;241;43m.\u001b[39;49m\u001b[43minsert_statement\u001b[49m\u001b[43m(\u001b[49m\u001b[43mnum_rows\u001b[49m\u001b[38;5;241;43m=\u001b[39;49m\u001b[38;5;241;43m1\u001b[39;49m\u001b[43m)\u001b[49m\u001b[43m,\u001b[49m\u001b[43m \u001b[49m\u001b[43mdata_list\u001b[49m\u001b[43m)\u001b[49m\n\u001b[1;32m   1897\u001b[0m     \u001b[38;5;28;01mreturn\u001b[39;00m conn\u001b[38;5;241m.\u001b[39mrowcount\n",
      "\u001b[0;31mInterfaceError\u001b[0m: Error binding parameter 1 - probably unsupported type."
     ]
    }
   ],
   "source": [
    "con = sqlite3.connect(\"/Users/staniewi/repos/burst_db/burst_map_with_frames.sqlite3\")\n",
    "\n",
    "con.execute(\"CREATE INDEX idx_frame_geometries_frame_id ON frame_geometries (OGC_FID)\")\n",
    "con.execute(\"SELECT CreateSpatialIndex('frame_geometries', 'geometry');\")\n",
    "con.close"
   ]
  },
  {
   "cell_type": "code",
   "execution_count": 141,
   "id": "2d8fd1f6-4f36-43dd-beaf-c48d75ef9db7",
   "metadata": {},
   "outputs": [],
   "source": [
    "# %%time\n",
    "\n",
    "# # SQL must wrap the geometry in hex(st_asbinary(...))\n",
    "# sql = \"SELECT OGC_FID, burst_id, burst_id_jpl, Hex(ST_AsBinary(geometry)) as geometry FROM burst_id_map;\"\n",
    "\n",
    "\n",
    "# con = sqlite3.connect(\"/Users/staniewi/repos/burst_db/burst_map.sqlite3\")\n",
    "# con.enable_load_extension(True)\n",
    "# con.load_extension(\"mod_spatialite\")\n",
    "\n",
    "# df_burst_jpl = gpd.GeoDataFrame.from_postgis(sql, con, geom_col=\"geometry\", crs=\"EPSG:4326\")\n",
    "# con.close()"
   ]
  },
  {
   "cell_type": "markdown",
   "id": "31464bae",
   "metadata": {},
   "source": [
    "# Compressed serialization\n",
    "\n",
    "This compresses the geojson into gzip format so it can be included in the package for easily."
   ]
  },
  {
   "cell_type": "code",
   "execution_count": 33,
   "id": "f2719a86",
   "metadata": {
    "ExecuteTime": {
     "end_time": "2022-12-20T19:57:20.646190Z",
     "start_time": "2022-12-20T19:57:20.643966Z"
    }
   },
   "outputs": [],
   "source": [
    "# from dem_stitcher.geojson_io import to_geojson_gzip"
   ]
  },
  {
   "cell_type": "code",
   "execution_count": 155,
   "id": "cafde07b",
   "metadata": {
    "ExecuteTime": {
     "end_time": "2022-12-20T19:57:34.008548Z",
     "start_time": "2022-12-20T19:57:20.647733Z"
    }
   },
   "outputs": [],
   "source": [
    "# to_geojson_gzip(df_frames_final, 's1_frames.geojson.gzip')"
   ]
  },
  {
   "cell_type": "code",
   "execution_count": null,
   "id": "fde3a896-1aa8-4784-84b7-c7f934e91e2f",
   "metadata": {},
   "outputs": [],
   "source": []
  }
 ],
 "metadata": {
  "kernelspec": {
   "display_name": "Python 3 (ipykernel)",
   "language": "python",
   "name": "python3"
  },
  "language_info": {
   "codemirror_mode": {
    "name": "ipython",
    "version": 3
   },
   "file_extension": ".py",
   "mimetype": "text/x-python",
   "name": "python",
   "nbconvert_exporter": "python",
   "pygments_lexer": "ipython3",
   "version": "3.10.8"
  }
 },
 "nbformat": 4,
 "nbformat_minor": 5
}
